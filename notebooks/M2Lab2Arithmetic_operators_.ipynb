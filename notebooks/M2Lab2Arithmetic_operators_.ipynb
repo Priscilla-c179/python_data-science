{
  "nbformat": 4,
  "nbformat_minor": 0,
  "metadata": {
    "colab": {
      "provenance": [],
      "toc_visible": true
    },
    "kernelspec": {
      "name": "python3",
      "display_name": "Python 3"
    },
    "language_info": {
      "name": "python"
    }
  },
  "cells": [
    {
      "cell_type": "markdown",
      "metadata": {
        "id": "cnAUJprJdh9_"
      },
      "source": [
        "# Welcome to our Lab Practice!"
      ]
    },
    {
      "cell_type": "markdown",
      "metadata": {
        "id": "vVYcayGedmms"
      },
      "source": [
        "This lab is about arithmetic operations, more assignemnt operations from input(). Are you ready? Let's get started!"
      ]
    },
    {
      "cell_type": "markdown",
      "metadata": {
        "id": "JP8eGBVyeSQx"
      },
      "source": [
        "You will find some small tasks in sections below."
      ]
    },
    {
      "cell_type": "markdown",
      "metadata": {
        "id": "TNbXeCDFeAcJ"
      },
      "source": [
        "## Arithmetic Operation\n",
        "\n",
        "In this section, you are going to code and run arithmetic operations of two numbers.\n",
        "\n",
        "Hint: to print out the equation, we can use the print() to print multiple values out.\n",
        "\n",
        "For example, print(x, 'operator', y, '=', x operator y) for an operator."
      ]
    },
    {
      "cell_type": "markdown",
      "metadata": {
        "id": "hhAeaPrjTLRT"
      },
      "source": [
        "###Task: Get some computation.\n",
        "\n",
        "1.   Assign x with 2, y with 3.\n",
        "2.   print out the equation and result of\n",
        "  1.   x + y\n",
        "  2.   x - y\n",
        "  3.   x * y\n",
        "  4.   x / y\n",
        "  5.   x // y\n",
        "  6.   x ** y\n",
        "  7.   x % y\n",
        "\n",
        "\n",
        "\n"
      ]
    },
    {
      "cell_type": "code",
      "metadata": {
        "id": "v4jLx-_gTIFA",
        "colab": {
          "base_uri": "https://localhost:8080/"
        },
        "outputId": "3d1acf02-c3c6-4100-d3d0-7d5fa15744d8"
      },
      "source": [
        "# type your code here\n",
        "x=2\n",
        "y=3\n",
        "print(x, '+', y, '=', x + y)\n",
        "print(x, '-', y, '=', x - y)\n",
        "print(x, '*', y, '=', x * y)\n",
        "print(x, '/', y, '=', x / y)\n",
        "print(x, '**', y, '=', x ** y)\n",
        "print(x, '//', y, '=', x //  y)\n",
        "print(x, '%', y, '=', x %  y)"
      ],
      "execution_count": 11,
      "outputs": [
        {
          "output_type": "stream",
          "name": "stdout",
          "text": [
            "2 + 3 = 5\n",
            "2 - 3 = -1\n",
            "2 * 3 = 6\n",
            "2 / 3 = 0.6666666666666666\n",
            "2 ** 3 = 8\n",
            "2 // 3 = 0\n",
            "2 % 3 = 2\n"
          ]
        }
      ]
    },
    {
      "cell_type": "markdown",
      "metadata": {
        "id": "TEHPJ_CpUuOv"
      },
      "source": [
        "###Task: Get some other computation.\n",
        "\n",
        "1.   Assign x with a value you like, y with another value you like.\n",
        "2.   print out the equation and result of\n",
        "  1.   x + y\n",
        "  2.   x - y\n",
        "  3.   x * y\n",
        "  4.   x / y\n",
        "  5.   x // y\n",
        "  6.   x ** y\n",
        "  7.   x % y\n",
        "3.   Are there some value that will crash your program? Why?"
      ]
    },
    {
      "cell_type": "code",
      "metadata": {
        "id": "e4UI_UJpU-7q",
        "colab": {
          "base_uri": "https://localhost:8080/"
        },
        "outputId": "e87af5a2-0145-406c-86cc-06d01b3e2e80"
      },
      "source": [
        "# type your code here\n",
        "x=6\n",
        "y=8\n",
        "x + y\n",
        "x - y\n",
        "x * y\n",
        "x / y\n",
        "x // y\n",
        "x ** y\n",
        "x % y\n",
        "\n",
        "print(x, '+', y, '=', x + y)\n",
        "\n",
        "print(x, '-', y, '=', x - y)\n",
        "print(x, '*', y, '=', x * y)\n",
        "\n",
        "print(x, '/', y, '=', x / y)\n",
        "print(x, '**', y, '=', x ** y)\n",
        "print(x, '//', y, '=', x //  y)\n",
        "print(x, '%', y, '=', x %  y)\n",
        "\n",
        "\n"
      ],
      "execution_count": 3,
      "outputs": [
        {
          "output_type": "stream",
          "name": "stdout",
          "text": [
            "6 + 8 = 14\n",
            "6 - 8 = -2\n",
            "6 * 8 = 48\n",
            "6 / 8 = 0.75\n",
            "6 ** 8 = 1679616\n",
            "6 // 8 = 0\n",
            "6 % 8 = 6\n"
          ]
        }
      ]
    },
    {
      "cell_type": "markdown",
      "metadata": {
        "id": "D8pWdoN7d6Dy"
      },
      "source": [
        "## Get Inputs from Users"
      ]
    },
    {
      "cell_type": "markdown",
      "metadata": {
        "id": "EZ42d1Sue0Zp"
      },
      "source": [
        "###Task: Help the User\n",
        "\n",
        "1.   Ask the user to enter an integer, convert and assign it to x;\n",
        "2.   Ask the user to enter another integer, convert and assign it to y;\n",
        "3.   print out the equation and result of\n",
        "  1.   x + y\n",
        "  2.   x - y\n",
        "  3.   x * y\n",
        "  4.   x / y\n",
        "  5.   x // y\n",
        "  6.   x ** y\n",
        "  7.   x % y\n",
        "3.   Are there some value that will crash your program? Why?\n"
      ]
    },
    {
      "cell_type": "code",
      "metadata": {
        "id": "yDzNIHsSeu85",
        "colab": {
          "base_uri": "https://localhost:8080/"
        },
        "outputId": "b9650ae6-9fe4-4153-f9d2-772ec65376f7"
      },
      "source": [
        "# type your code her\n",
        "x=int(input(' enter an integer: '))\n",
        "print(\"You entered:\", x)\n",
        "y=int(input(' enter an integer: '))\n",
        "print(\"You entered:\", y)\n",
        "print(x, '+', y, '=', x + y)\n",
        "\n",
        "print(x, '-', y, '=', x - y)\n",
        "\n",
        "print(x, '*', y, '=', x * y)\n",
        "\n",
        "print(x, '/', y, '=', x / y)\n",
        "\n",
        "print(x, '**', y, '=', x ** y)\n",
        "print(x, '//', y, '=', x //  y)\n",
        "print(x, '%', y, '=', x %  y)\n"
      ],
      "execution_count": 10,
      "outputs": [
        {
          "output_type": "stream",
          "name": "stdout",
          "text": [
            " enter an integer: 54\n",
            "You entered: 54\n",
            " enter an integer: 62\n",
            "You entered: 62\n",
            "54 + 62 = 116\n",
            "54 - 62 = -8\n",
            "54 * 62 = 3348\n",
            "54 / 62 = 0.8709677419354839\n",
            "54 ** 62 = 256102081949015228252027634263601837251475904396614874271675636339011989098586762710886877994599567501295616\n",
            "54 // 62 = 0\n",
            "54 % 62 = 54\n"
          ]
        }
      ]
    },
    {
      "cell_type": "code",
      "source": [],
      "metadata": {
        "id": "TsRhnIGTzjZV"
      },
      "execution_count": null,
      "outputs": []
    }
  ]
}
