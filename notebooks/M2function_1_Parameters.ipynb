{
  "nbformat": 4,
  "nbformat_minor": 0,
  "metadata": {
    "colab": {
      "provenance": [],
      "toc_visible": true,
      "include_colab_link": true
    },
    "kernelspec": {
      "name": "python3",
      "display_name": "Python 3"
    },
    "language_info": {
      "name": "python"
    }
  },
  "cells": [
    {
      "cell_type": "markdown",
      "metadata": {
        "id": "view-in-github",
        "colab_type": "text"
      },
      "source": [
        "<a href=\"https://colab.research.google.com/github/Priscilla-c179/python_data-science/blob/main/M2function_1_Parameters.ipynb\" target=\"_parent\"><img src=\"https://colab.research.google.com/assets/colab-badge.svg\" alt=\"Open In Colab\"/></a>"
      ]
    },
    {
      "cell_type": "markdown",
      "metadata": {
        "id": "cnAUJprJdh9_"
      },
      "source": [
        "# Welcome to our Lab Practice!"
      ]
    },
    {
      "cell_type": "markdown",
      "metadata": {
        "id": "vVYcayGedmms"
      },
      "source": [
        "This lab is all about defining functions with ONE parameter. Are you ready? Let's go!"
      ]
    },
    {
      "cell_type": "markdown",
      "metadata": {
        "id": "JP8eGBVyeSQx"
      },
      "source": [
        "You will find some small tasks in sections below. After defining functions, call them to test."
      ]
    },
    {
      "cell_type": "markdown",
      "metadata": {
        "id": "rXgbUIBRgQoG"
      },
      "source": [
        "###Task: define a function that print \"hello, *name*\" where *name* is a parameter"
      ]
    },
    {
      "cell_type": "code",
      "metadata": {
        "id": "oIKwmW2mfe3d",
        "colab": {
          "base_uri": "https://localhost:8080/"
        },
        "outputId": "61dabb69-16f2-474b-9079-29ddb07674f9"
      },
      "source": [
        "def hello(name):\n",
        "  print(\"hello, \" , name)\n",
        "\n",
        "hello(\"Daisy\")"
      ],
      "execution_count": 1,
      "outputs": [
        {
          "output_type": "stream",
          "name": "stdout",
          "text": [
            "hello,  Daisy\n"
          ]
        }
      ]
    },
    {
      "cell_type": "markdown",
      "source": [
        "###Task: define a function that print \"hello world\" *n* times, where *n* is a parameter"
      ],
      "metadata": {
        "id": "h-mrQgK7RKqm"
      }
    },
    {
      "cell_type": "code",
      "source": [
        "def greeting(n):\n",
        "  for i in range(n):\n",
        "    print(\"hello world\")\n",
        "\n",
        "greeting(3)"
      ],
      "metadata": {
        "id": "47f7Q_AIRMUW",
        "colab": {
          "base_uri": "https://localhost:8080/"
        },
        "outputId": "34bb8f07-0c34-4c81-a283-90399434c78b"
      },
      "execution_count": 2,
      "outputs": [
        {
          "output_type": "stream",
          "name": "stdout",
          "text": [
            "hello world\n",
            "hello world\n",
            "hello world\n"
          ]
        }
      ]
    },
    {
      "cell_type": "markdown",
      "source": [
        "###Task: define a function that print integers 1 to *n* (hint: you can use a for loop), where *n* is a parameter"
      ],
      "metadata": {
        "id": "1y6noqXNRMpG"
      }
    },
    {
      "cell_type": "code",
      "source": [
        "def print_integers(n):\n",
        "  for i in range(1, n+1):\n",
        "    print(i)\n",
        "\n",
        "print_integers(5)"
      ],
      "metadata": {
        "id": "FR7idsVORX5_",
        "colab": {
          "base_uri": "https://localhost:8080/"
        },
        "outputId": "525d82d6-7be5-4179-cf97-bee6b06c8318"
      },
      "execution_count": 3,
      "outputs": [
        {
          "output_type": "stream",
          "name": "stdout",
          "text": [
            "1\n",
            "2\n",
            "3\n",
            "4\n",
            "5\n"
          ]
        }
      ]
    },
    {
      "cell_type": "markdown",
      "source": [
        "###Task: define a function that print prime integers in *n* (hint: you can use loops), where *n* is a parameter"
      ],
      "metadata": {
        "id": "OoTXs3WERYju"
      }
    },
    {
      "cell_type": "code",
      "source": [
        "# prime number divisible by 1 and itself\n",
        "def prime_integers(n):\n",
        "  for num in range(2, n + 1):\n",
        "        for i in range(2, num):\n",
        "            if num % i == 0:\n",
        "                break\n",
        "        else:\n",
        "            print(num, end=' ')\n",
        "\n",
        "prime_integers(10)\n",
        "\n",
        "\n",
        "\n",
        "\n",
        "\n"
      ],
      "metadata": {
        "id": "2pS4qJ54RhKf",
        "colab": {
          "base_uri": "https://localhost:8080/"
        },
        "outputId": "49abf9c6-f7f0-4acf-c9cd-fa5b62bdb7ac"
      },
      "execution_count": 7,
      "outputs": [
        {
          "output_type": "stream",
          "name": "stdout",
          "text": [
            "2 3 5 7 "
          ]
        }
      ]
    },
    {
      "cell_type": "markdown",
      "source": [
        "###Task: define a function that print whether or not given *n* is even, *n* is a parameter"
      ],
      "metadata": {
        "id": "yU8y7mCoRmRH"
      }
    },
    {
      "cell_type": "code",
      "source": [
        "def even_odd_num(n):\n",
        "  if n % 2 == 0:\n",
        "    print(\"even\")\n",
        "  else:\n",
        "    print(\"odd\")\n",
        "\n",
        "even_odd_num(8)"
      ],
      "metadata": {
        "id": "g67KsRe3R2KG",
        "colab": {
          "base_uri": "https://localhost:8080/"
        },
        "outputId": "b44ae08d-50f5-4d59-ca5f-8e1699806240"
      },
      "execution_count": 10,
      "outputs": [
        {
          "output_type": "stream",
          "name": "stdout",
          "text": [
            "even\n"
          ]
        }
      ]
    },
    {
      "cell_type": "markdown",
      "metadata": {
        "id": "QPoCScdkheK3"
      },
      "source": [
        "###Task: define a function that print whether or not given *n* is odd, *n* is a parameter"
      ]
    },
    {
      "cell_type": "code",
      "metadata": {
        "id": "tsFowDAKhJCB",
        "colab": {
          "base_uri": "https://localhost:8080/"
        },
        "outputId": "8b2c8590-8b04-4107-f769-16d3e6a356b1"
      },
      "source": [
        "def odd_even_num(n):\n",
        "  if n % 2 != 0:\n",
        "    print(\"odd\")\n",
        "  else:\n",
        "    print(\"even\")\n",
        "\n",
        "odd_even_num(13)\n"
      ],
      "execution_count": 18,
      "outputs": [
        {
          "output_type": "stream",
          "name": "stdout",
          "text": [
            "odd\n"
          ]
        }
      ]
    },
    {
      "cell_type": "markdown",
      "source": [
        "###Task: define a function that print the absolute value of *n*, *n* is a parameter"
      ],
      "metadata": {
        "id": "Jbw-h9GMhnQl"
      }
    },
    {
      "cell_type": "code",
      "source": [
        "def absolute_value(n):\n",
        "  if n < 1:\n",
        "    print(-n)\n",
        "  else:\n",
        "    print(n)\n",
        "\n",
        "absolute_value(-2)"
      ],
      "metadata": {
        "id": "dUOiwszHhsEN",
        "colab": {
          "base_uri": "https://localhost:8080/"
        },
        "outputId": "a1504df4-be2c-49ab-cc5e-3984a723d930"
      },
      "execution_count": 20,
      "outputs": [
        {
          "output_type": "stream",
          "name": "stdout",
          "text": [
            "2\n"
          ]
        }
      ]
    },
    {
      "cell_type": "markdown",
      "source": [
        "###Task: define a function that print the square value of *n*, *n* is a parameter"
      ],
      "metadata": {
        "id": "AyaEIEqOhsV8"
      }
    },
    {
      "cell_type": "code",
      "source": [
        "def squared_value(n):\n",
        "  print(n*n)\n",
        "\n",
        "squared_value(16)"
      ],
      "metadata": {
        "id": "-lVtxeAmhv9t",
        "colab": {
          "base_uri": "https://localhost:8080/"
        },
        "outputId": "779ea47c-e071-4f86-b40c-b818934cc655"
      },
      "execution_count": 22,
      "outputs": [
        {
          "output_type": "stream",
          "name": "stdout",
          "text": [
            "256\n"
          ]
        }
      ]
    },
    {
      "cell_type": "markdown",
      "metadata": {
        "id": "TE6Df1WYhu10"
      },
      "source": [
        "###Task: define a function that print whether or not given *n* is divisible by 6, *n* is a parameter"
      ]
    },
    {
      "cell_type": "code",
      "metadata": {
        "id": "MSjQbhNXhJVV",
        "colab": {
          "base_uri": "https://localhost:8080/"
        },
        "outputId": "db0d043f-df5f-447b-fc90-3d004d39a695"
      },
      "source": [
        "def divisible_6(n):\n",
        "  if n % 6==0:\n",
        "    print(\"It is divisible by 6\")\n",
        "  else:\n",
        "    print('It is not divisible by 6')\n",
        "\n",
        "divisible_6(28)\n"
      ],
      "execution_count": 23,
      "outputs": [
        {
          "output_type": "stream",
          "name": "stdout",
          "text": [
            "It is not divisible by 6\n"
          ]
        }
      ]
    },
    {
      "cell_type": "markdown",
      "metadata": {
        "id": "4iCITSR6h7Yv"
      },
      "source": [
        "###Task: define a function that print whether or not given *n* is prime, *n* is a parameter"
      ]
    },
    {
      "cell_type": "code",
      "metadata": {
        "id": "EKsuK9O6jW7D",
        "colab": {
          "base_uri": "https://localhost:8080/"
        },
        "outputId": "ce04cd39-3bb4-4c54-f040-639caa09a5e0"
      },
      "source": [
        "def prime_or_not(n):\n",
        "  for i in range(2, n):\n",
        "    if n % i == 0:\n",
        "      print(n, \"is not a prime number\")\n",
        "      break\n",
        "  else:\n",
        "    print(n, \"is a prime number\")\n",
        "\n",
        "prime_or_not(19)"
      ],
      "execution_count": 28,
      "outputs": [
        {
          "output_type": "stream",
          "name": "stdout",
          "text": [
            "19 is a prime number\n"
          ]
        }
      ]
    },
    {
      "cell_type": "code",
      "source": [],
      "metadata": {
        "id": "rHIvP6mLdN8z"
      },
      "execution_count": null,
      "outputs": []
    }
  ]
}
