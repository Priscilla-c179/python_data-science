{
  "nbformat": 4,
  "nbformat_minor": 0,
  "metadata": {
    "colab": {
      "provenance": [],
      "toc_visible": true,
      "include_colab_link": true
    },
    "kernelspec": {
      "name": "python3",
      "display_name": "Python 3"
    },
    "language_info": {
      "name": "python"
    }
  },
  "cells": [
    {
      "cell_type": "markdown",
      "metadata": {
        "id": "view-in-github",
        "colab_type": "text"
      },
      "source": [
        "<a href=\"https://colab.research.google.com/github/Priscilla-c179/python_data-science/blob/main/M2Assignment.ipynb\" target=\"_parent\"><img src=\"https://colab.research.google.com/assets/colab-badge.svg\" alt=\"Open In Colab\"/></a>"
      ]
    },
    {
      "cell_type": "markdown",
      "metadata": {
        "id": "cnAUJprJdh9_"
      },
      "source": [
        "# Welcome to our second assignment!"
      ]
    },
    {
      "cell_type": "markdown",
      "metadata": {
        "id": "vVYcayGedmms"
      },
      "source": [
        "This assignment is about testing your understanding of variables and operations.\n",
        "\n",
        "We are going to create some simple programs using these tools. Are you ready? Let's get started!"
      ]
    },
    {
      "cell_type": "markdown",
      "metadata": {
        "id": "JP8eGBVyeSQx"
      },
      "source": [
        "You will find some small tasks in sections below. You should use input() to get the user to enter the information and use print() to print the information on the screen. At this moment, we can assume users will follow instructions carefully - they will enter the valid inputs as required."
      ]
    },
    {
      "cell_type": "markdown",
      "metadata": {
        "id": "TNbXeCDFeAcJ"
      },
      "source": [
        "## Simple check out\n",
        "\n",
        "###Instruction: You are going to program a super simple check-out system for a store. This store has an interesting rule that every customer can only buy one product (the quantity of the product is not limited) in one order.\n",
        "\n",
        "step1: Ask the user to enter the price / unit of the product (it should be a float)\n",
        "\n",
        "step2: Ask the user to enter the quantity of the product (it should be an integer)\n",
        "\n",
        "step3: We have a sales tax at 6.25%\n",
        "\n",
        "step4: Calculate and display the total amount of this order (for example, 59.25)\n",
        "\n",
        "step5: Ask the user to enter the amount of bills paid (for example, 60)\n",
        "\n",
        "step6: Calculate and display the change (for example, 0.75)"
      ]
    },
    {
      "cell_type": "code",
      "metadata": {
        "id": "x6IbZ6rFw76O",
        "colab": {
          "base_uri": "https://localhost:8080/"
        },
        "outputId": "c263512c-72c6-485a-d261-186b1d9c4202"
      },
      "source": [
        "# your code is here\n",
        "price=float(input('Enter the price'))\n",
        "quantity =int(input('Enter the quantity'))\n",
        "sales_tax=float(input('Enter the sales tax%'))\n",
        "sub_amt=price*quantity\n",
        "tax_amt= sub_amt *(sales_tax/100)\n",
        "total_amt= sub_amt + tax_amt\n",
        "print('total amount=', round( total_amt,2))\n",
        "paid_bill=int(input('Enter amount of bills paid'))\n",
        "change=paid_bill-total_amt\n",
        "print('total_change=', round(change,2))\n"
      ],
      "execution_count": null,
      "outputs": [
        {
          "output_type": "stream",
          "name": "stdout",
          "text": [
            "Enter the price34.50\n",
            "Enter the quantity80\n",
            "Enter the sales tax%6.25\n",
            "total amount= 2932.5\n",
            "Enter amount of bills paid3000\n",
            "total_change= 67.5\n"
          ]
        }
      ]
    },
    {
      "cell_type": "markdown",
      "metadata": {
        "id": "fZfiqg5lxFKF"
      },
      "source": [
        "## Tips Split\n",
        "\n",
        "###Instruction: You are going to program a super simple tip split system.\n",
        "\n",
        "step1: Ask the user to enter the total amount of meal before tax (it should be a float)\n",
        "\n",
        "step2: Ask the user to enter the number of people to split the tips (it should be an integer)\n",
        "\n",
        "step3: We have a sales tax at 6.25%, and we tip at 18%\n",
        "\n",
        "step4: Calculate and display the total amount due  (including tax and tips)\n",
        "\n",
        "step5: Calculate and display the amount each person should pay."
      ]
    },
    {
      "cell_type": "code",
      "metadata": {
        "id": "2bODNGPSx1-m",
        "colab": {
          "base_uri": "https://localhost:8080/"
        },
        "outputId": "3b7017b8-b6a7-4506-f61b-9c6730855833"
      },
      "source": [
        "\n",
        "total_cost=float(input('Enter total amount befor tax'))\n",
        "people=int(input('Enter number of pple to split tips'))\n",
        "sale_tax=float(input('Enter the sales tax %'))\n",
        "# sales tax amt\n",
        "tax_amount=total_cost*(sale_tax/100)\n",
        "total_with_tax=total_cost +tax_amount\n",
        "tip_tax=int(input('Enter the tip tax %'))\n",
        "# total with tax and tax\n",
        "tip_amount=total_with_tax *(tip_tax/100)\n",
        "# tip tax\n",
        "tip_per_head=tip_amount/people\n",
        "# total amount inclusive of tax\n",
        "total_amount=total_cost+sales_tax+tip_tax\n",
        "\n",
        "# Print results\n",
        "print(\"Subtotal =\", total_cost)\n",
        "print(\"Sales Tax =\", round(sales_tax, 2))\n",
        "print(\"Tip =\", round(tip_amount, 2))\n",
        "print(\"Each person gets a tip of:\", round(tip_per_head, 2))\n",
        "print(\"Total Amount_due =\", round(total_amt, 2))\n"
      ],
      "execution_count": null,
      "outputs": [
        {
          "output_type": "stream",
          "name": "stdout",
          "text": [
            "Enter total amount befor tax4200\n",
            "Enter number of pple to split tips6\n",
            "Enter the sales tax %6.25\n",
            "Enter the tip tax %18\n",
            "Subtotal = 4200.0\n",
            "Sales Tax = 6.25\n",
            "Tip = 803.25\n",
            "Each person gets a tip of: 133.88\n",
            "Total Amount_due = 2932.5\n"
          ]
        }
      ]
    },
    {
      "cell_type": "markdown",
      "metadata": {
        "id": "cZmW-HnwyHcI"
      },
      "source": [
        "## Compound Interest\n",
        "\n",
        "###Instruction: You are going to program a super simple Compound Interest calcualtor.\n",
        "\n",
        "step1: Ask the user to enter the amount saving right now (it should be a float)\n",
        "\n",
        "step2: Ask the user to enter the number of years(it should be an integer)\n",
        "\n",
        "step3: Ask the user to enter the interest rate (it should be a float number, and 0.03 represents 3%)\n",
        "\n",
        "step4: Calculate and display the total amount after these years"
      ]
    },
    {
      "cell_type": "code",
      "metadata": {
        "id": "wk6FHvAvyr_G",
        "colab": {
          "base_uri": "https://localhost:8080/"
        },
        "outputId": "b581df21-940c-4cf8-823b-9533f10a307a"
      },
      "source": [
        "amt_saved=float(input('Enter amount '))\n",
        "num_years=int(input('Enter number of years'))\n",
        "interest_rate=float(input('Enter interest rate'))\n",
        "# Compound interest formula\n",
        "total = amt_saved * (1 + interest_rate / 100) ** num_years\n",
        "interest = total -amt_saved\n",
        "\n",
        "print(\"Interest earned =\", round(interest, 2))\n",
        "print(\"Total savings after\", num_years, \"years =\", round(total, 2))\n"
      ],
      "execution_count": 4,
      "outputs": [
        {
          "output_type": "stream",
          "name": "stdout",
          "text": [
            "Enter amount 60000.50\n",
            "Enter number of years6\n",
            "Enter interest rate0.04\n",
            "Interest earned = 144.15\n",
            "Total savings after 6 years = 60144.65\n",
            "Total Amount_saved = 2\n"
          ]
        }
      ]
    },
    {
      "cell_type": "code",
      "source": [],
      "metadata": {
        "id": "Nm4QzOtRP9h7"
      },
      "execution_count": null,
      "outputs": []
    },
    {
      "cell_type": "markdown",
      "metadata": {
        "id": "7Ysdu7UJ_qf8"
      },
      "source": [
        "**Congratulations! You finished this Assignment and completed Module 2!**"
      ]
    },
    {
      "cell_type": "code",
      "source": [],
      "metadata": {
        "id": "J2NhMsNx9png"
      },
      "execution_count": 4,
      "outputs": []
    }
  ]
}
