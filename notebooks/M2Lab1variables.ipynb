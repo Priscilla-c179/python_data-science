{
  "nbformat": 4,
  "nbformat_minor": 0,
  "metadata": {
    "colab": {
      "provenance": [],
      "toc_visible": true
    },
    "kernelspec": {
      "name": "python3",
      "display_name": "Python 3"
    },
    "language_info": {
      "name": "python"
    }
  },
  "cells": [
    {
      "cell_type": "markdown",
      "metadata": {
        "id": "cnAUJprJdh9_"
      },
      "source": [
        "# Welcome to our Lab Practice!"
      ]
    },
    {
      "cell_type": "markdown",
      "metadata": {
        "id": "vVYcayGedmms"
      },
      "source": [
        "This lab is about variables, assignments, and their value and data types. Are you ready? Let's get started!"
      ]
    },
    {
      "cell_type": "markdown",
      "metadata": {
        "id": "JP8eGBVyeSQx"
      },
      "source": [
        "You will find some small tasks in sections below."
      ]
    },
    {
      "cell_type": "markdown",
      "metadata": {
        "id": "TNbXeCDFeAcJ"
      },
      "source": [
        "## Value assignment"
      ]
    },
    {
      "cell_type": "markdown",
      "metadata": {
        "id": "EZ42d1Sue0Zp"
      },
      "source": [
        "###Task: assign **x** with an int 5.\n",
        "\n",
        "Use print() and type() to check the value is correctly assigned, and the data type is correct. For example: print('x:', x, type(x))"
      ]
    },
    {
      "cell_type": "code",
      "metadata": {
        "id": "yDzNIHsSeu85",
        "colab": {
          "base_uri": "https://localhost:8080/"
        },
        "outputId": "9a6cdfe3-fda5-414f-8cb6-9644ffdcfab5"
      },
      "source": [
        "# type your code here\n",
        "x=5\n",
        "print('x:',x,type(x))"
      ],
      "execution_count": null,
      "outputs": [
        {
          "output_type": "stream",
          "name": "stdout",
          "text": [
            "x: 5 <class 'int'>\n"
          ]
        }
      ]
    },
    {
      "cell_type": "markdown",
      "metadata": {
        "id": "u8WEYfEqIbWX"
      },
      "source": [
        "###Task: assign **int_x** with x.\n",
        "\n",
        "Use print() and type() to check the value is correctly assigned, and the data type is correct."
      ]
    },
    {
      "cell_type": "code",
      "metadata": {
        "id": "LKSmcHRRJUYY",
        "colab": {
          "base_uri": "https://localhost:8080/"
        },
        "outputId": "908f16fb-9069-45d2-9cd1-3f5fcd12712a"
      },
      "source": [
        "# type your code here\n",
        "int_x=x\n",
        "print(type(int_x))"
      ],
      "execution_count": null,
      "outputs": [
        {
          "output_type": "stream",
          "name": "stdout",
          "text": [
            "<class 'int'>\n"
          ]
        }
      ]
    },
    {
      "cell_type": "markdown",
      "metadata": {
        "id": "-__o8ovbfSEH"
      },
      "source": [
        "###Task: assign **x** with a float 5.0.\n",
        "\n",
        "Use print() and type() to check the value is correctly assigned, and the data type is correct."
      ]
    },
    {
      "cell_type": "code",
      "metadata": {
        "id": "hOpxhSKog18Y",
        "colab": {
          "base_uri": "https://localhost:8080/"
        },
        "outputId": "481b07a9-98e5-4619-c651-6ba3758d32b3"
      },
      "source": [
        "# your code will be here\n",
        "x=5.0\n",
        "print('x:',x,type(x))"
      ],
      "execution_count": null,
      "outputs": [
        {
          "output_type": "stream",
          "name": "stdout",
          "text": [
            "x: 5.0 <class 'float'>\n"
          ]
        }
      ]
    },
    {
      "cell_type": "markdown",
      "metadata": {
        "id": "uZYVZQIvIlPy"
      },
      "source": [
        "###Task: assign **float_x** with x.\n",
        "\n",
        "Use print() and type() to check the value is correctly assigned, and the data type is correct."
      ]
    },
    {
      "cell_type": "code",
      "metadata": {
        "id": "Y_3dcyvcQ2GI",
        "colab": {
          "base_uri": "https://localhost:8080/"
        },
        "outputId": "0961330b-983b-43ce-c1d3-9b92fcb80612"
      },
      "source": [
        "# your code will be here\n",
        "float_x=5.0\n",
        "print('float_x:',float_x,type(float_x))"
      ],
      "execution_count": null,
      "outputs": [
        {
          "output_type": "stream",
          "name": "stdout",
          "text": [
            "float_x: 5.0 <class 'float'>\n"
          ]
        }
      ]
    },
    {
      "cell_type": "code",
      "source": [],
      "metadata": {
        "id": "CVLGo2rqhOJn"
      },
      "execution_count": null,
      "outputs": []
    },
    {
      "cell_type": "markdown",
      "metadata": {
        "id": "NpCNxK68gpME"
      },
      "source": [
        "###Task: assign **x** with a str '5'.\n",
        "\n",
        "Use print() and type() to check the value is correctly assigned, and the data type is correct."
      ]
    },
    {
      "cell_type": "code",
      "metadata": {
        "id": "txg-7uKfgKeW",
        "colab": {
          "base_uri": "https://localhost:8080/"
        },
        "outputId": "8a11856f-750b-4b33-eaa8-88fc4850c925"
      },
      "source": [
        "# your code will be here\n",
        "x=\"5\"\n",
        "print('x:',x,type(x))"
      ],
      "execution_count": null,
      "outputs": [
        {
          "output_type": "stream",
          "name": "stdout",
          "text": [
            "x: 5 <class 'str'>\n"
          ]
        }
      ]
    },
    {
      "cell_type": "markdown",
      "metadata": {
        "id": "Viln-qF5Irq4"
      },
      "source": [
        "###Task: assign **str1_x** with x.\n",
        "\n",
        "Use print() and type() to check the value is correctly assigned, and the data type is correct."
      ]
    },
    {
      "cell_type": "code",
      "metadata": {
        "id": "EGFHzwI3QzqH",
        "colab": {
          "base_uri": "https://localhost:8080/"
        },
        "outputId": "77faeb15-d53e-4a1d-fdf9-1a733c4bcf61"
      },
      "source": [
        "# your code will be here\n",
        "str1_x=x\n",
        "print('str1_x:',str1_x,type(str1_x))"
      ],
      "execution_count": null,
      "outputs": [
        {
          "output_type": "stream",
          "name": "stdout",
          "text": [
            "str1_x: 5 <class 'str'>\n"
          ]
        }
      ]
    },
    {
      "cell_type": "markdown",
      "metadata": {
        "id": "e0YP4pWzIQy0"
      },
      "source": [
        "###Task: assign **x** with a str '5.0'.\n",
        "\n",
        "Use print() and type() to check the value is correctly assigned, and the data type is correct."
      ]
    },
    {
      "cell_type": "code",
      "metadata": {
        "id": "i5oNpnSiIPtD",
        "colab": {
          "base_uri": "https://localhost:8080/"
        },
        "outputId": "334b6ad4-bd35-4685-957f-0f678022a9cc"
      },
      "source": [
        "# your code will be here\n",
        "x=\"5.0\"\n",
        "print('x:',x,type(x))"
      ],
      "execution_count": null,
      "outputs": [
        {
          "output_type": "stream",
          "name": "stdout",
          "text": [
            "x: 5.0 <class 'str'>\n"
          ]
        }
      ]
    },
    {
      "cell_type": "markdown",
      "metadata": {
        "id": "9EwSZrKrIvat"
      },
      "source": [
        "###Task: assign **str2_x** with x.\n",
        "\n",
        "Use print() and type() to check the value is correctly assigned, and the data type is correct."
      ]
    },
    {
      "cell_type": "code",
      "metadata": {
        "id": "fobTAXmGJmV0",
        "colab": {
          "base_uri": "https://localhost:8080/"
        },
        "outputId": "df91b983-281c-4d7d-f4b8-49dbf6836689"
      },
      "source": [
        "# your code will be here\n",
        "str2_x=x\n",
        "print('str2_x:',str2_x,type(str2_x))"
      ],
      "execution_count": null,
      "outputs": [
        {
          "output_type": "stream",
          "name": "stdout",
          "text": [
            "str2_x: 5.0 <class 'str'>\n"
          ]
        }
      ]
    },
    {
      "cell_type": "markdown",
      "metadata": {
        "id": "4xBE9LqXJpow"
      },
      "source": [
        "###Task: check all variables.\n",
        "\n",
        "Use print() and type() to check all the variables you created so far: **x, int_x, float_x, str1_x, str2_x** value and data types."
      ]
    },
    {
      "cell_type": "code",
      "metadata": {
        "id": "gDFtlm4lJopJ",
        "colab": {
          "base_uri": "https://localhost:8080/"
        },
        "outputId": "a24471ec-3906-4eae-e967-6e7fc7909e0e"
      },
      "source": [
        "# your code will be here\n",
        "print(\"x:\", x, \"| type:\", type(x))\n",
        "print(\"int_x:\", int_x, \"| type:\", type(int_x))\n",
        "print(\"float_x:\", float_x, \"| type:\", type(float_x))\n",
        "print(\"str1_x:\", str1_x, \"| type:\", type(str1_x))\n",
        "print(\"str2_x:\", str2_x, \"| type:\", type(str2_x))"
      ],
      "execution_count": null,
      "outputs": [
        {
          "output_type": "stream",
          "name": "stdout",
          "text": [
            "x: 5.0 | type: <class 'str'>\n",
            "int_x: 5 | type: <class 'int'>\n",
            "float_x: 5.0 | type: <class 'float'>\n",
            "str1_x: 5 | type: <class 'str'>\n",
            "str2_x: 5.0 | type: <class 'str'>\n"
          ]
        }
      ]
    },
    {
      "cell_type": "markdown",
      "metadata": {
        "id": "D8pWdoN7d6Dy"
      },
      "source": [
        "## Value converting\n",
        "\n",
        "For the task below, convert data value from one type to another, assign it to x, and use print() and type() to check for correctness."
      ]
    },
    {
      "cell_type": "markdown",
      "metadata": {
        "id": "rXgbUIBRgQoG"
      },
      "source": [
        "###Task: convert a str '0' to int"
      ]
    },
    {
      "cell_type": "code",
      "metadata": {
        "id": "oIKwmW2mfe3d",
        "colab": {
          "base_uri": "https://localhost:8080/"
        },
        "outputId": "3f1edb36-a222-4548-fff9-e2abe310662a"
      },
      "source": [
        "# your code will be here\n",
        "x=\"0\"\n",
        "x=int('0')\n",
        "print(type(x))"
      ],
      "execution_count": null,
      "outputs": [
        {
          "output_type": "stream",
          "name": "stdout",
          "text": [
            "<class 'int'>\n"
          ]
        }
      ]
    },
    {
      "cell_type": "markdown",
      "metadata": {
        "id": "aUD7waGAM-au"
      },
      "source": [
        "###Task: convert a float 0.1 to int"
      ]
    },
    {
      "cell_type": "code",
      "metadata": {
        "id": "lHsYgPViNBre",
        "colab": {
          "base_uri": "https://localhost:8080/"
        },
        "outputId": "54b9eb63-ee6d-4ac5-9bba-b49a4f3fff90"
      },
      "source": [
        "# your code will be here\n",
        "float=0.1\n",
        "print(type(int(0.1)))"
      ],
      "execution_count": null,
      "outputs": [
        {
          "output_type": "stream",
          "name": "stdout",
          "text": [
            "<class 'int'>\n"
          ]
        }
      ]
    },
    {
      "cell_type": "markdown",
      "metadata": {
        "id": "QPoCScdkheK3"
      },
      "source": [
        "###Task: convert a str '0' to float"
      ]
    },
    {
      "cell_type": "code",
      "metadata": {
        "id": "tsFowDAKhJCB",
        "colab": {
          "base_uri": "https://localhost:8080/"
        },
        "outputId": "7011c27b-adfb-41c0-c671-7434821ef74c"
      },
      "source": [
        "# your code will be here\n",
        "y = '0'\n",
        "print(y,type(float('0')))\n"
      ],
      "execution_count": null,
      "outputs": [
        {
          "output_type": "stream",
          "name": "stdout",
          "text": [
            "0 <class 'float'>\n"
          ]
        }
      ]
    },
    {
      "cell_type": "markdown",
      "metadata": {
        "id": "TE6Df1WYhu10"
      },
      "source": [
        "###Task: convert an int 0 to float"
      ]
    },
    {
      "cell_type": "code",
      "metadata": {
        "id": "MSjQbhNXhJVV",
        "colab": {
          "base_uri": "https://localhost:8080/"
        },
        "outputId": "8ec73ba7-5a45-424b-9a52-92c3865cb15b"
      },
      "source": [
        "# your code will be here\n",
        "k=float(0)\n",
        "print(k,type(float(0)))"
      ],
      "execution_count": 50,
      "outputs": [
        {
          "output_type": "stream",
          "name": "stdout",
          "text": [
            "0.0 <class 'float'>\n"
          ]
        }
      ]
    },
    {
      "cell_type": "markdown",
      "metadata": {
        "id": "f-zusksziv_N"
      },
      "source": [
        "###Task: convert an int 0 to str"
      ]
    },
    {
      "cell_type": "code",
      "source": [
        "x=0\n",
        "str_x =str(0)\n",
        "print('str_x:',str_x,type(str_x))\n"
      ],
      "metadata": {
        "colab": {
          "base_uri": "https://localhost:8080/",
          "height": 176
        },
        "id": "qflKBsQoQOoJ",
        "outputId": "2a966c3f-8b22-4993-eed6-7a38c43dbd12"
      },
      "execution_count": 56,
      "outputs": [
        {
          "output_type": "error",
          "ename": "TypeError",
          "evalue": "'int' object is not callable",
          "traceback": [
            "\u001b[0;31m---------------------------------------------------------------------------\u001b[0m",
            "\u001b[0;31mTypeError\u001b[0m                                 Traceback (most recent call last)",
            "\u001b[0;32m<ipython-input-56-6bcf2f24f1d7>\u001b[0m in \u001b[0;36m<cell line: 0>\u001b[0;34m()\u001b[0m\n\u001b[1;32m      1\u001b[0m \u001b[0mx\u001b[0m\u001b[0;34m=\u001b[0m\u001b[0;36m0\u001b[0m\u001b[0;34m\u001b[0m\u001b[0;34m\u001b[0m\u001b[0m\n\u001b[0;32m----> 2\u001b[0;31m \u001b[0mstr_x\u001b[0m\u001b[0;34m=\u001b[0m\u001b[0mstr\u001b[0m\u001b[0;34m(\u001b[0m\u001b[0;36m0\u001b[0m\u001b[0;34m)\u001b[0m\u001b[0;34m\u001b[0m\u001b[0;34m\u001b[0m\u001b[0m\n\u001b[0m\u001b[1;32m      3\u001b[0m \u001b[0mprint\u001b[0m\u001b[0;34m(\u001b[0m\u001b[0;34m'str_x:'\u001b[0m\u001b[0;34m,\u001b[0m\u001b[0mstr_x\u001b[0m\u001b[0;34m,\u001b[0m\u001b[0mtype\u001b[0m\u001b[0;34m(\u001b[0m\u001b[0mstr_x\u001b[0m\u001b[0;34m)\u001b[0m\u001b[0;34m)\u001b[0m\u001b[0;34m\u001b[0m\u001b[0;34m\u001b[0m\u001b[0m\n",
            "\u001b[0;31mTypeError\u001b[0m: 'int' object is not callable"
          ]
        }
      ]
    }
  ]
}
