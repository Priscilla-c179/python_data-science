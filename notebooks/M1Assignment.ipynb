{
  "nbformat": 4,
  "nbformat_minor": 0,
  "metadata": {
    "colab": {
      "provenance": [],
      "include_colab_link": true
    },
    "kernelspec": {
      "name": "python3",
      "display_name": "Python 3"
    },
    "language_info": {
      "name": "python"
    }
  },
  "cells": [
    {
      "cell_type": "markdown",
      "metadata": {
        "id": "view-in-github",
        "colab_type": "text"
      },
      "source": [
        "<a href=\"https://colab.research.google.com/github/Priscilla-c179/python_data-science/blob/main/M1Assignment.ipynb\" target=\"_parent\"><img src=\"https://colab.research.google.com/assets/colab-badge.svg\" alt=\"Open In Colab\"/></a>"
      ]
    },
    {
      "cell_type": "markdown",
      "metadata": {
        "id": "cnAUJprJdh9_"
      },
      "source": [
        "# Welcome to our first assignment!"
      ]
    },
    {
      "cell_type": "markdown",
      "metadata": {
        "id": "vVYcayGedmms"
      },
      "source": [
        "This assignment is about testing your understanding of **print()** and **input()**. We are going to create some interactive programs using these two simple tools. Are you ready? Let's get started!"
      ]
    },
    {
      "cell_type": "markdown",
      "metadata": {
        "id": "JP8eGBVyeSQx"
      },
      "source": [
        "You will find some small tasks in sections below. You should use input() to get the user to enter the information and use print() to print the information on the screen."
      ]
    },
    {
      "cell_type": "markdown",
      "metadata": {
        "id": "TNbXeCDFeAcJ"
      },
      "source": [
        "## Prepare a document"
      ]
    },
    {
      "cell_type": "markdown",
      "metadata": {
        "id": "EZ42d1Sue0Zp"
      },
      "source": [
        "###Instruction: You are going to print a document on the screen. The document is a template, which has {} as place holder and should get inputs from the user. Let's get it done step by step.\n",
        "\n",
        "You should use multiple input() to get the information from the user.\n",
        "\n",
        "The template is as below:\n",
        "\n",
        "Dear **{receiver's name}**:\n",
        "\n",
        "This is **{your first name}**. I'm writing to let you know that the weather in **{your location}** is fantastic!\n",
        "\n",
        "I'm taking Python for Data Science course. I have coded **{#}** programs and the expereince was fun! Join me if you are interested!\n",
        "\n",
        "Sincerely,\n",
        "\n",
        "**{your full name}**\n",
        "\n",
        "**{date}**"
      ]
    },
    {
      "cell_type": "markdown",
      "metadata": {
        "id": "DyQ1h_lc-GPr"
      },
      "source": [
        "Step1: Get receiver's name, and print line 1:\n",
        "\n",
        "Dear **{receiver's name}**:"
      ]
    },
    {
      "cell_type": "code",
      "metadata": {
        "id": "TQXvwhRN-E5y",
        "colab": {
          "base_uri": "https://localhost:8080/"
        },
        "outputId": "5ffbe918-7507-43b5-d123-bcd2d229f7c0"
      },
      "source": [
        "# Enter your code here\n",
        "print(\"Dear\",input(\"receiver's name\"))"
      ],
      "execution_count": 17,
      "outputs": [
        {
          "output_type": "stream",
          "name": "stdout",
          "text": [
            "receiver's namelilian\n",
            "Dear lilian\n"
          ]
        }
      ]
    },
    {
      "cell_type": "markdown",
      "metadata": {
        "id": "qTOkvVoP-iIC"
      },
      "source": [
        "Step2: Get your first name, your location and print line 2:\n",
        "\n",
        "This is **{your first name}**. I'm writing to let you know that the weather in **{your location}** is fantastic!"
      ]
    },
    {
      "cell_type": "code",
      "metadata": {
        "id": "28aI1cPg-bhz",
        "colab": {
          "base_uri": "https://localhost:8080/"
        },
        "outputId": "9b861d69-e974-4f5c-86c2-94e414c8ee01"
      },
      "source": [
        "# Enter your code here\n",
        "print(\"This is\", input(\"What is your first name?\"), \". I'm writing to let you know that the weather\", input(\"location\"),\"is fantastic\")"
      ],
      "execution_count": 18,
      "outputs": [
        {
          "output_type": "stream",
          "name": "stdout",
          "text": [
            "What is your first name?Pauline\n",
            "locationKorea\n",
            "This is Pauline . I'm writing to let you know that the weather Korea is fantastic\n"
          ]
        }
      ]
    },
    {
      "cell_type": "markdown",
      "metadata": {
        "id": "EJvVv9Ru-uQb"
      },
      "source": [
        "Step3: Get the number of programs you have practiced, and print line 3:\n",
        "\n",
        "I'm taking Python for Data Science course. I have coded **{# of programs}** programs and the expereince was fun! Join me if you are interested!"
      ]
    },
    {
      "cell_type": "code",
      "metadata": {
        "id": "A_KiRedV-b-R",
        "colab": {
          "base_uri": "https://localhost:8080/"
        },
        "outputId": "025c7024-ba37-468c-e6f3-a28a810c07b3"
      },
      "source": [
        "# Enter your code here\n",
        "print(\"I'm taking Python for data science course\" ,input(\"coded programs\"), \" .programs and experience was fun! join me if interested\")"
      ],
      "execution_count": 19,
      "outputs": [
        {
          "output_type": "stream",
          "name": "stdout",
          "text": [
            "coded programs4\n",
            "I'm taking Python for data science course 4  .programs and experience was fun! join me if interested\n"
          ]
        }
      ]
    },
    {
      "cell_type": "markdown",
      "metadata": {
        "id": "Vcorzmiw--mY"
      },
      "source": [
        "Step 4: print line 4:\n",
        "\n",
        "Sincerely,"
      ]
    },
    {
      "cell_type": "code",
      "metadata": {
        "id": "D5ecQStI-cLa",
        "colab": {
          "base_uri": "https://localhost:8080/"
        },
        "outputId": "21b42fd6-a3cb-49db-f097-57b803a48a75"
      },
      "source": [
        "# Enter your code here\n",
        "print(\"Sincerely\")"
      ],
      "execution_count": 8,
      "outputs": [
        {
          "output_type": "stream",
          "name": "stdout",
          "text": [
            "Sincerely\n"
          ]
        }
      ]
    },
    {
      "cell_type": "markdown",
      "metadata": {
        "id": "G30-dTVm_K8x"
      },
      "source": [
        "Step 5: Get your full name and print line 5:\n",
        "\n",
        "**{your full name}**"
      ]
    },
    {
      "cell_type": "code",
      "metadata": {
        "id": "944wmoQl_S_K",
        "colab": {
          "base_uri": "https://localhost:8080/"
        },
        "outputId": "a851fba1-f4db-4355-8cd2-99af59ae179e"
      },
      "source": [
        "# Enter your code here\n",
        "print(input(\"what is your full name\"))"
      ],
      "execution_count": 21,
      "outputs": [
        {
          "output_type": "stream",
          "name": "stdout",
          "text": [
            "what is your full namePauline key\n",
            "Pauline key\n"
          ]
        }
      ]
    },
    {
      "cell_type": "markdown",
      "metadata": {
        "id": "3i-SsAvT_BT6"
      },
      "source": [
        "Step 6: Get today's date and print line 6:\n",
        "\n",
        "**{date}**"
      ]
    },
    {
      "cell_type": "code",
      "metadata": {
        "id": "OFGPKomw-cXR",
        "colab": {
          "base_uri": "https://localhost:8080/"
        },
        "outputId": "8c1ebd09-0625-4132-f9a4-15b381a8167b"
      },
      "source": [
        "# Enter your code here\n",
        "print(input(\"What is today's date?\"))"
      ],
      "execution_count": 23,
      "outputs": [
        {
          "output_type": "stream",
          "name": "stdout",
          "text": [
            "What is today's date?2025/04/14\n",
            "2025/04/14\n"
          ]
        }
      ]
    },
    {
      "cell_type": "markdown",
      "metadata": {
        "id": "7Ysdu7UJ_qf8"
      },
      "source": [
        "**Congratulations! You finished Assignment 1 and completed Module 1!**"
      ]
    }
  ]
}
