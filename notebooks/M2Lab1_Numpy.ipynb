{
  "nbformat": 4,
  "nbformat_minor": 0,
  "metadata": {
    "colab": {
      "provenance": [],
      "include_colab_link": true
    },
    "kernelspec": {
      "name": "python3",
      "display_name": "Python 3"
    },
    "language_info": {
      "name": "python"
    }
  },
  "cells": [
    {
      "cell_type": "markdown",
      "metadata": {
        "id": "view-in-github",
        "colab_type": "text"
      },
      "source": [
        "<a href=\"https://colab.research.google.com/github/Priscilla-c179/python_data-science/blob/main/notebooks/M2Lab1_Numpy.ipynb\" target=\"_parent\"><img src=\"https://colab.research.google.com/assets/colab-badge.svg\" alt=\"Open In Colab\"/></a>"
      ]
    },
    {
      "cell_type": "markdown",
      "source": [
        "#Welcome to our Lab practice!\n",
        "\n",
        "This lab is all about the package, Numpy. Are you ready? Let's go!\n",
        "\n",
        "You will find some small tasks in sections below.\n",
        "\n",
        "> Try to figure out by yourself, or search for references. Being able to search and find information needed is an important skill that benefits you and your career for a long time.\n",
        "\n",
        "\n",
        "\n"
      ],
      "metadata": {
        "id": "fe7l2Vy92BWu"
      }
    },
    {
      "cell_type": "markdown",
      "source": [
        "## Import the package and rename it as np"
      ],
      "metadata": {
        "id": "BG7wrui4BGri"
      }
    },
    {
      "cell_type": "code",
      "source": [
        "import numpy as np"
      ],
      "metadata": {
        "id": "qPVT30J3BKv6"
      },
      "execution_count": 8,
      "outputs": []
    },
    {
      "cell_type": "markdown",
      "source": [
        "## Array Creation"
      ],
      "metadata": {
        "id": "TTElGHtF2N7g"
      }
    },
    {
      "cell_type": "markdown",
      "source": [
        "### Task: Create a numpy array from a list of integers"
      ],
      "metadata": {
        "id": "0CtQu71C3PP8"
      }
    },
    {
      "cell_type": "code",
      "source": [
        "np.array([1,3,5,78])"
      ],
      "metadata": {
        "id": "n7qiruks8HZ5",
        "colab": {
          "base_uri": "https://localhost:8080/"
        },
        "outputId": "f9c46f0d-0d33-4c19-805b-585973021621"
      },
      "execution_count": 9,
      "outputs": [
        {
          "output_type": "execute_result",
          "data": {
            "text/plain": [
              "array([ 1,  3,  5, 78])"
            ]
          },
          "metadata": {},
          "execution_count": 9
        }
      ]
    },
    {
      "cell_type": "markdown",
      "source": [
        "### Task: Create a numpy array of size 6, filled with zeros"
      ],
      "metadata": {
        "id": "3FK5QxBO3dqS"
      }
    },
    {
      "cell_type": "code",
      "source": [
        "np.zeros(6)"
      ],
      "metadata": {
        "id": "w-XimSI88J1J",
        "colab": {
          "base_uri": "https://localhost:8080/"
        },
        "outputId": "f9da6804-8029-4b7a-942e-3968f0387734"
      },
      "execution_count": 10,
      "outputs": [
        {
          "output_type": "execute_result",
          "data": {
            "text/plain": [
              "array([0., 0., 0., 0., 0., 0.])"
            ]
          },
          "metadata": {},
          "execution_count": 10
        }
      ]
    },
    {
      "cell_type": "markdown",
      "source": [
        "###Task: Create a numpy array of size 6, filled with ones"
      ],
      "metadata": {
        "id": "Db9Fwz4KI2al"
      }
    },
    {
      "cell_type": "code",
      "source": [
        "np.ones(6)"
      ],
      "metadata": {
        "id": "W-PCGPuPUSTv",
        "colab": {
          "base_uri": "https://localhost:8080/"
        },
        "outputId": "9ab4f101-abbb-4970-9263-93a4bda803f1"
      },
      "execution_count": 11,
      "outputs": [
        {
          "output_type": "execute_result",
          "data": {
            "text/plain": [
              "array([1., 1., 1., 1., 1., 1.])"
            ]
          },
          "metadata": {},
          "execution_count": 11
        }
      ]
    },
    {
      "cell_type": "markdown",
      "source": [
        "###Task: Create a numpy array with values from 0 to 10"
      ],
      "metadata": {
        "id": "42rLKWbe3l8m"
      }
    },
    {
      "cell_type": "code",
      "source": [
        "np.arange(11)"
      ],
      "metadata": {
        "id": "ExbcAYLk8LYI",
        "colab": {
          "base_uri": "https://localhost:8080/"
        },
        "outputId": "35861def-1146-484b-d625-c8470cf498c9"
      },
      "execution_count": 12,
      "outputs": [
        {
          "output_type": "execute_result",
          "data": {
            "text/plain": [
              "array([ 0,  1,  2,  3,  4,  5,  6,  7,  8,  9, 10])"
            ]
          },
          "metadata": {},
          "execution_count": 12
        }
      ]
    },
    {
      "cell_type": "markdown",
      "source": [
        "###Task: Create a numpy matrix of 2*3 integers, filled with zeros"
      ],
      "metadata": {
        "id": "c5314DLtJVyv"
      }
    },
    {
      "cell_type": "code",
      "source": [
        "np.zeros((2,3))"
      ],
      "metadata": {
        "id": "JRNBES4MUTV2",
        "colab": {
          "base_uri": "https://localhost:8080/"
        },
        "outputId": "15f5eec6-2570-40d7-a000-0878c42b3b38"
      },
      "execution_count": 13,
      "outputs": [
        {
          "output_type": "execute_result",
          "data": {
            "text/plain": [
              "array([[0., 0., 0.],\n",
              "       [0., 0., 0.]])"
            ]
          },
          "metadata": {},
          "execution_count": 13
        }
      ]
    },
    {
      "cell_type": "markdown",
      "source": [
        "###Task: Create a numpy matrix of 3*2 integers, filled with ones"
      ],
      "metadata": {
        "id": "tyPLq8JwJcQR"
      }
    },
    {
      "cell_type": "code",
      "source": [
        "np.ones((3,2))"
      ],
      "metadata": {
        "id": "BbZBfz_qUUgf",
        "colab": {
          "base_uri": "https://localhost:8080/"
        },
        "outputId": "39bd112a-f934-43e7-c61c-7f0094943a10"
      },
      "execution_count": 14,
      "outputs": [
        {
          "output_type": "execute_result",
          "data": {
            "text/plain": [
              "array([[1., 1.],\n",
              "       [1., 1.],\n",
              "       [1., 1.]])"
            ]
          },
          "metadata": {},
          "execution_count": 14
        }
      ]
    },
    {
      "cell_type": "markdown",
      "source": [
        "###Task: Create a numpy matrix of 3*2 integers, filled with random integers in [0, 10]"
      ],
      "metadata": {
        "id": "oIYfk1CJJs4R"
      }
    },
    {
      "cell_type": "code",
      "source": [
        "np.random.randint(0,10,(3,2))"
      ],
      "metadata": {
        "id": "f3rSXHN1UVJt",
        "colab": {
          "base_uri": "https://localhost:8080/"
        },
        "outputId": "6853fbaa-6618-4895-f41a-c41fa9ce81e2"
      },
      "execution_count": 15,
      "outputs": [
        {
          "output_type": "execute_result",
          "data": {
            "text/plain": [
              "array([[9, 9],\n",
              "       [0, 9],\n",
              "       [2, 8]])"
            ]
          },
          "metadata": {},
          "execution_count": 15
        }
      ]
    },
    {
      "cell_type": "markdown",
      "source": [
        "###Task: Create a numpy matrix of 100 * 2, filled with random float value in [0, 1]"
      ],
      "metadata": {
        "id": "-61o4-pCJ7y8"
      }
    },
    {
      "cell_type": "code",
      "source": [
        "np.random.uniform(0,1,(100,2))"
      ],
      "metadata": {
        "id": "NpxV1fsOUVtd",
        "colab": {
          "base_uri": "https://localhost:8080/"
        },
        "outputId": "767504dc-fcc7-4820-9f2b-b8d6404a8236"
      },
      "execution_count": 16,
      "outputs": [
        {
          "output_type": "execute_result",
          "data": {
            "text/plain": [
              "array([[0.01169715, 0.71996878],\n",
              "       [0.23896175, 0.76801284],\n",
              "       [0.88219114, 0.10272721],\n",
              "       [0.93652973, 0.46698553],\n",
              "       [0.69146748, 0.50651056],\n",
              "       [0.14010947, 0.74621127],\n",
              "       [0.85247634, 0.59195291],\n",
              "       [0.23831384, 0.7147769 ],\n",
              "       [0.33545149, 0.07928584],\n",
              "       [0.741164  , 0.7080396 ],\n",
              "       [0.57891384, 0.48575895],\n",
              "       [0.95232594, 0.84711428],\n",
              "       [0.89312773, 0.69840165],\n",
              "       [0.9351156 , 0.224647  ],\n",
              "       [0.62354931, 0.84559026],\n",
              "       [0.2325145 , 0.64656939],\n",
              "       [0.11337164, 0.99609051],\n",
              "       [0.74680217, 0.70694532],\n",
              "       [0.65540154, 0.58697934],\n",
              "       [0.36888482, 0.55787565],\n",
              "       [0.55014859, 0.1804355 ],\n",
              "       [0.91632319, 0.40462438],\n",
              "       [0.94504426, 0.96024671],\n",
              "       [0.93067693, 0.78171532],\n",
              "       [0.50333075, 0.25036981],\n",
              "       [0.33112676, 0.32549513],\n",
              "       [0.33091969, 0.5123958 ],\n",
              "       [0.71176562, 0.78425075],\n",
              "       [0.36867467, 0.05432532],\n",
              "       [0.65666599, 0.5148942 ],\n",
              "       [0.50521135, 0.95320713],\n",
              "       [0.01319748, 0.73558966],\n",
              "       [0.38392339, 0.29154545],\n",
              "       [0.60202263, 0.72282332],\n",
              "       [0.71821389, 0.44335867],\n",
              "       [0.36227628, 0.00610022],\n",
              "       [0.17176212, 0.08378768],\n",
              "       [0.01081824, 0.32026409],\n",
              "       [0.09887834, 0.0711187 ],\n",
              "       [0.77477985, 0.59598659],\n",
              "       [0.55461106, 0.06025462],\n",
              "       [0.57665366, 0.94459218],\n",
              "       [0.84478807, 0.98830512],\n",
              "       [0.12690931, 0.45254937],\n",
              "       [0.96963025, 0.19286369],\n",
              "       [0.52505996, 0.4477993 ],\n",
              "       [0.27851529, 0.8320124 ],\n",
              "       [0.20285671, 0.98628253],\n",
              "       [0.04496554, 0.38787869],\n",
              "       [0.56396914, 0.85872133],\n",
              "       [0.06111859, 0.19561057],\n",
              "       [0.20311538, 0.70638946],\n",
              "       [0.69536126, 0.0333524 ],\n",
              "       [0.20509506, 0.86682976],\n",
              "       [0.34516626, 0.29852261],\n",
              "       [0.70008185, 0.86322817],\n",
              "       [0.99834564, 0.83852126],\n",
              "       [0.0587511 , 0.00611763],\n",
              "       [0.80588543, 0.22573318],\n",
              "       [0.43139435, 0.69001633],\n",
              "       [0.49587386, 0.77516588],\n",
              "       [0.24889645, 0.31852178],\n",
              "       [0.46504042, 0.81476141],\n",
              "       [0.64466228, 0.20284582],\n",
              "       [0.27819542, 0.80911161],\n",
              "       [0.54477561, 0.18608813],\n",
              "       [0.26385196, 0.16974945],\n",
              "       [0.93446451, 0.72294011],\n",
              "       [0.67297195, 0.69022627],\n",
              "       [0.84841172, 0.68565587],\n",
              "       [0.91369815, 0.68218681],\n",
              "       [0.01716511, 0.05920391],\n",
              "       [0.3218595 , 0.63115177],\n",
              "       [0.05137935, 0.86595478],\n",
              "       [0.60794975, 0.58947279],\n",
              "       [0.8263077 , 0.94431077],\n",
              "       [0.40132242, 0.82944075],\n",
              "       [0.17838077, 0.57514703],\n",
              "       [0.82939139, 0.34925591],\n",
              "       [0.79108406, 0.48851916],\n",
              "       [0.4421823 , 0.75092288],\n",
              "       [0.26858229, 0.27109131],\n",
              "       [0.17948188, 0.39215427],\n",
              "       [0.85589258, 0.18734651],\n",
              "       [0.32235121, 0.25165156],\n",
              "       [0.18548064, 0.55330027],\n",
              "       [0.54542682, 0.2638182 ],\n",
              "       [0.67323069, 0.33112281],\n",
              "       [0.69747494, 0.16693346],\n",
              "       [0.39809455, 0.20242883],\n",
              "       [0.10968887, 0.51733935],\n",
              "       [0.94498681, 0.43321097],\n",
              "       [0.23638179, 0.84737501],\n",
              "       [0.62630408, 0.74086588],\n",
              "       [0.25785367, 0.48163207],\n",
              "       [0.10202901, 0.37860709],\n",
              "       [0.19416174, 0.89602073],\n",
              "       [0.91904645, 0.02992172],\n",
              "       [0.27668687, 0.88961564],\n",
              "       [0.17324552, 0.76157837]])"
            ]
          },
          "metadata": {},
          "execution_count": 16
        }
      ]
    },
    {
      "cell_type": "markdown",
      "source": [
        "###Task: Create a numpy matrix of 2 * 3 * 4, filled with integers from 1 to 24."
      ],
      "metadata": {
        "id": "jZ4l3axBJ5tJ"
      }
    },
    {
      "cell_type": "code",
      "source": [
        "np.arange(1,25).reshape(2,3,4)"
      ],
      "metadata": {
        "id": "G3AKUvkMUWu2",
        "colab": {
          "base_uri": "https://localhost:8080/"
        },
        "outputId": "1fab6d0e-2a46-452f-afd3-cdcc96091452"
      },
      "execution_count": 17,
      "outputs": [
        {
          "output_type": "execute_result",
          "data": {
            "text/plain": [
              "array([[[ 1,  2,  3,  4],\n",
              "        [ 5,  6,  7,  8],\n",
              "        [ 9, 10, 11, 12]],\n",
              "\n",
              "       [[13, 14, 15, 16],\n",
              "        [17, 18, 19, 20],\n",
              "        [21, 22, 23, 24]]])"
            ]
          },
          "metadata": {},
          "execution_count": 17
        }
      ]
    },
    {
      "cell_type": "markdown",
      "source": [
        "## Array Indexing"
      ],
      "metadata": {
        "id": "1ut5x4Zl2RVu"
      }
    },
    {
      "cell_type": "markdown",
      "source": [
        "### Task: Let X be a numpy array, and X = np.array([1, 2, 3, 4, 5])"
      ],
      "metadata": {
        "id": "3iWGsCO4KpaD"
      }
    },
    {
      "cell_type": "code",
      "source": [
        "x=np.array([1,2,3,4,5])"
      ],
      "metadata": {
        "id": "_OfiD8vBBhCM"
      },
      "execution_count": 18,
      "outputs": []
    },
    {
      "cell_type": "markdown",
      "source": [
        "### Task: Show the first element of X"
      ],
      "metadata": {
        "id": "dGUiTYKM4XTF"
      }
    },
    {
      "cell_type": "code",
      "source": [
        "x[0]"
      ],
      "metadata": {
        "id": "MQ9sEgvL8Mph",
        "colab": {
          "base_uri": "https://localhost:8080/"
        },
        "outputId": "9e38ee80-eb7a-4697-be04-5695e3211765"
      },
      "execution_count": 19,
      "outputs": [
        {
          "output_type": "execute_result",
          "data": {
            "text/plain": [
              "np.int64(1)"
            ]
          },
          "metadata": {},
          "execution_count": 19
        }
      ]
    },
    {
      "cell_type": "markdown",
      "source": [
        "### Task: Show the last element of X"
      ],
      "metadata": {
        "id": "VYkj8Sni5SLY"
      }
    },
    {
      "cell_type": "code",
      "source": [
        "x[-1]"
      ],
      "metadata": {
        "id": "ezJbefBc8NSc",
        "colab": {
          "base_uri": "https://localhost:8080/"
        },
        "outputId": "931a8d31-d173-4e97-acfa-e91a9151cef9"
      },
      "execution_count": 20,
      "outputs": [
        {
          "output_type": "execute_result",
          "data": {
            "text/plain": [
              "np.int64(5)"
            ]
          },
          "metadata": {},
          "execution_count": 20
        }
      ]
    },
    {
      "cell_type": "markdown",
      "source": [
        "### Task: Show the first 3 elements of X"
      ],
      "metadata": {
        "id": "-BEsJESu4hx0"
      }
    },
    {
      "cell_type": "code",
      "source": [
        "x[:3]"
      ],
      "metadata": {
        "id": "GqsoQylO8Nz4",
        "colab": {
          "base_uri": "https://localhost:8080/"
        },
        "outputId": "d5af2ab3-0b64-4ca8-db72-d32e2dcf9085"
      },
      "execution_count": 21,
      "outputs": [
        {
          "output_type": "execute_result",
          "data": {
            "text/plain": [
              "array([1, 2, 3])"
            ]
          },
          "metadata": {},
          "execution_count": 21
        }
      ]
    },
    {
      "cell_type": "markdown",
      "source": [
        "###Task: Show the last 3 elements of X"
      ],
      "metadata": {
        "id": "NOLUtTzDLD-l"
      }
    },
    {
      "cell_type": "code",
      "source": [
        "x[-3:]"
      ],
      "metadata": {
        "id": "p_YG72N2UYjG",
        "colab": {
          "base_uri": "https://localhost:8080/"
        },
        "outputId": "c0eb297f-f504-4967-a141-447631bd52c9"
      },
      "execution_count": 22,
      "outputs": [
        {
          "output_type": "execute_result",
          "data": {
            "text/plain": [
              "array([3, 4, 5])"
            ]
          },
          "metadata": {},
          "execution_count": 22
        }
      ]
    },
    {
      "cell_type": "markdown",
      "source": [
        "###Task: Show the elements of X whose index is odd (1, 3, 5, ...)"
      ],
      "metadata": {
        "id": "_dzBCEzWLG3v"
      }
    },
    {
      "cell_type": "code",
      "source": [
        "x[[0,2,4]]"
      ],
      "metadata": {
        "id": "e-G7QckRUZIs",
        "colab": {
          "base_uri": "https://localhost:8080/"
        },
        "outputId": "54ad052f-a592-45cb-b250-5da36ff837be"
      },
      "execution_count": 23,
      "outputs": [
        {
          "output_type": "execute_result",
          "data": {
            "text/plain": [
              "array([1, 3, 5])"
            ]
          },
          "metadata": {},
          "execution_count": 23
        }
      ]
    },
    {
      "cell_type": "markdown",
      "source": [
        "###Task: Show the elements of X except the last one"
      ],
      "metadata": {
        "id": "tsukfJQ1LabJ"
      }
    },
    {
      "cell_type": "code",
      "source": [
        "x[: -1]"
      ],
      "metadata": {
        "id": "PlPO_MgPUZqG",
        "colab": {
          "base_uri": "https://localhost:8080/"
        },
        "outputId": "958bef9e-37ad-4046-c965-f77a5717ffa6"
      },
      "execution_count": 24,
      "outputs": [
        {
          "output_type": "execute_result",
          "data": {
            "text/plain": [
              "array([1, 2, 3, 4])"
            ]
          },
          "metadata": {},
          "execution_count": 24
        }
      ]
    },
    {
      "cell_type": "markdown",
      "source": [
        "### Task: Let X be a numpy matrix with dimension 3 * 4, and filled from 0 to 11."
      ],
      "metadata": {
        "id": "8EhDJvC2Lm77"
      }
    },
    {
      "cell_type": "code",
      "source": [
        "x=np.arange(0,12).reshape(3,4)"
      ],
      "metadata": {
        "id": "fwvu0ToqBiXA"
      },
      "execution_count": 25,
      "outputs": []
    },
    {
      "cell_type": "code",
      "source": [
        "x"
      ],
      "metadata": {
        "colab": {
          "base_uri": "https://localhost:8080/"
        },
        "id": "ISz9IEyyfO28",
        "outputId": "721b3c77-ca6c-4a72-80db-e785ec171a27"
      },
      "execution_count": 26,
      "outputs": [
        {
          "output_type": "execute_result",
          "data": {
            "text/plain": [
              "array([[ 0,  1,  2,  3],\n",
              "       [ 4,  5,  6,  7],\n",
              "       [ 8,  9, 10, 11]])"
            ]
          },
          "metadata": {},
          "execution_count": 26
        }
      ]
    },
    {
      "cell_type": "markdown",
      "source": [
        "###Task: Show the first row of X"
      ],
      "metadata": {
        "id": "hi4_PetZ4oJk"
      }
    },
    {
      "cell_type": "code",
      "source": [
        "x[0]"
      ],
      "metadata": {
        "id": "Iwz0Ljxs8OqA",
        "colab": {
          "base_uri": "https://localhost:8080/"
        },
        "outputId": "a1f36edc-c4c6-475b-cd7c-dcddd3688ba9"
      },
      "execution_count": 27,
      "outputs": [
        {
          "output_type": "execute_result",
          "data": {
            "text/plain": [
              "array([0, 1, 2, 3])"
            ]
          },
          "metadata": {},
          "execution_count": 27
        }
      ]
    },
    {
      "cell_type": "markdown",
      "source": [
        "###Task: Show the first column of X"
      ],
      "metadata": {
        "id": "4juNISwiP3jt"
      }
    },
    {
      "cell_type": "code",
      "source": [
        "x[:,0]"
      ],
      "metadata": {
        "id": "dPDgvTVeUakl",
        "colab": {
          "base_uri": "https://localhost:8080/"
        },
        "outputId": "a868f95f-9d91-4436-baba-98a815ada10c"
      },
      "execution_count": 40,
      "outputs": [
        {
          "output_type": "execute_result",
          "data": {
            "text/plain": [
              "array([0, 4, 8])"
            ]
          },
          "metadata": {},
          "execution_count": 40
        }
      ]
    },
    {
      "cell_type": "markdown",
      "source": [
        "###Task: Show the first element of the first row of X"
      ],
      "metadata": {
        "id": "FOhsq6KcP6BX"
      }
    },
    {
      "cell_type": "code",
      "source": [
        "x[0]"
      ],
      "metadata": {
        "id": "HpawggljUbOk",
        "colab": {
          "base_uri": "https://localhost:8080/"
        },
        "outputId": "1f528745-d23e-4ea7-8458-a0eab291f41d"
      },
      "execution_count": 29,
      "outputs": [
        {
          "output_type": "execute_result",
          "data": {
            "text/plain": [
              "array([0, 1, 2, 3])"
            ]
          },
          "metadata": {},
          "execution_count": 29
        }
      ]
    },
    {
      "cell_type": "markdown",
      "source": [
        "###Task: Show the last row of X"
      ],
      "metadata": {
        "id": "1fCRCWyxP_rX"
      }
    },
    {
      "cell_type": "code",
      "source": [
        "x[-1]"
      ],
      "metadata": {
        "id": "hVPhcd5cUby8",
        "colab": {
          "base_uri": "https://localhost:8080/"
        },
        "outputId": "3256ac58-eab4-489b-b68e-5b4958696c7a"
      },
      "execution_count": 30,
      "outputs": [
        {
          "output_type": "execute_result",
          "data": {
            "text/plain": [
              "array([ 8,  9, 10, 11])"
            ]
          },
          "metadata": {},
          "execution_count": 30
        }
      ]
    },
    {
      "cell_type": "markdown",
      "source": [
        "###Task: Show the last column of X"
      ],
      "metadata": {
        "id": "VfwEaj7-QB68"
      }
    },
    {
      "cell_type": "code",
      "source": [
        "x[:,-1]"
      ],
      "metadata": {
        "id": "R9LK1G9wUcat",
        "colab": {
          "base_uri": "https://localhost:8080/"
        },
        "outputId": "6481454c-8c07-4aef-ac47-1b6a54b0a4f4"
      },
      "execution_count": 31,
      "outputs": [
        {
          "output_type": "execute_result",
          "data": {
            "text/plain": [
              "array([ 3,  7, 11])"
            ]
          },
          "metadata": {},
          "execution_count": 31
        }
      ]
    },
    {
      "cell_type": "markdown",
      "source": [
        "###Task: Show the last element of the last row of X"
      ],
      "metadata": {
        "id": "gfnCcIJmQEFZ"
      }
    },
    {
      "cell_type": "code",
      "source": [
        "x[-1][-1]"
      ],
      "metadata": {
        "id": "8cKHG30wUc4-",
        "colab": {
          "base_uri": "https://localhost:8080/"
        },
        "outputId": "6a83a175-bb73-4696-cdd3-aa9ade985d7c"
      },
      "execution_count": 32,
      "outputs": [
        {
          "output_type": "execute_result",
          "data": {
            "text/plain": [
              "np.int64(11)"
            ]
          },
          "metadata": {},
          "execution_count": 32
        }
      ]
    },
    {
      "cell_type": "markdown",
      "source": [
        "###Task: Show all the rows except the last row of X"
      ],
      "metadata": {
        "id": "mavuLFztQGkA"
      }
    },
    {
      "cell_type": "code",
      "source": [
        "x[-1]"
      ],
      "metadata": {
        "id": "yqg06Mk9Udeb",
        "colab": {
          "base_uri": "https://localhost:8080/"
        },
        "outputId": "9ec39e7d-7c0d-48a6-a6fb-45369b4116e8"
      },
      "execution_count": 33,
      "outputs": [
        {
          "output_type": "execute_result",
          "data": {
            "text/plain": [
              "array([ 8,  9, 10, 11])"
            ]
          },
          "metadata": {},
          "execution_count": 33
        }
      ]
    },
    {
      "cell_type": "markdown",
      "source": [
        "###Task: Show all the columns except the last column of X"
      ],
      "metadata": {
        "id": "gsugFt6CQSv8"
      }
    },
    {
      "cell_type": "code",
      "source": [
        "x[: -1]"
      ],
      "metadata": {
        "id": "aSmfSj0rUd0d",
        "colab": {
          "base_uri": "https://localhost:8080/"
        },
        "outputId": "6b890246-9e20-485b-cb51-4ffd2e434bcf"
      },
      "execution_count": 34,
      "outputs": [
        {
          "output_type": "execute_result",
          "data": {
            "text/plain": [
              "array([[0, 1, 2, 3],\n",
              "       [4, 5, 6, 7]])"
            ]
          },
          "metadata": {},
          "execution_count": 34
        }
      ]
    },
    {
      "cell_type": "markdown",
      "source": [
        "### Task: Show the first two elements of the first two rows"
      ],
      "metadata": {
        "id": "q39M28ow6Oqj"
      }
    },
    {
      "cell_type": "code",
      "source": [
        "x[:2,:2]"
      ],
      "metadata": {
        "id": "i5tQ-9118PPg",
        "colab": {
          "base_uri": "https://localhost:8080/"
        },
        "outputId": "5cc49b7b-de62-45e5-b572-8f21b6351768"
      },
      "execution_count": 35,
      "outputs": [
        {
          "output_type": "execute_result",
          "data": {
            "text/plain": [
              "array([[0, 1],\n",
              "       [4, 5]])"
            ]
          },
          "metadata": {},
          "execution_count": 35
        }
      ]
    },
    {
      "cell_type": "markdown",
      "source": [
        "## Array Statistics"
      ],
      "metadata": {
        "id": "BwMQX2n4Ttkk"
      }
    },
    {
      "cell_type": "markdown",
      "source": [
        "###Task: Create a numpy array X, print the sum, mean, std, var, max, min of it"
      ],
      "metadata": {
        "id": "ZC1IirZtSi13"
      }
    },
    {
      "cell_type": "code",
      "source": [
        "x=np.arange(20)\n",
        "print(np.sum(x))\n",
        "print(np.mean(x))\n",
        "print(np.std(x))\n",
        "print(np.var(x))\n",
        "print(np.max(x))\n",
        "print(np.min(x))"
      ],
      "metadata": {
        "id": "VDEv57JAUer6",
        "colab": {
          "base_uri": "https://localhost:8080/"
        },
        "outputId": "02be5356-d530-43c4-88eb-ba06a9313f05"
      },
      "execution_count": 42,
      "outputs": [
        {
          "output_type": "stream",
          "name": "stdout",
          "text": [
            "190\n",
            "9.5\n",
            "5.766281297335398\n",
            "33.25\n",
            "19\n",
            "0\n"
          ]
        }
      ]
    },
    {
      "cell_type": "markdown",
      "source": [
        "###Task: Create a numpy matrix X as n * m, print the sum, mean, std, var, max, min of the 1st row of it."
      ],
      "metadata": {
        "id": "0Db2EBujS1x2"
      }
    },
    {
      "cell_type": "code",
      "source": [
        "x=np.arange(12).reshape(3,4)\n",
        "print(np.sum(x[0]))\n",
        "print(np.mean(x[0]))\n",
        "print(np.std(x[0]))\n",
        "print(np.var(x[0]))\n",
        "print(np.max(x[0]))"
      ],
      "metadata": {
        "id": "i_PJh-WyUe-h",
        "colab": {
          "base_uri": "https://localhost:8080/"
        },
        "outputId": "b6c2a675-70d6-4789-bd8e-cebb698ecff3"
      },
      "execution_count": 43,
      "outputs": [
        {
          "output_type": "stream",
          "name": "stdout",
          "text": [
            "6\n",
            "1.5\n",
            "1.118033988749895\n",
            "1.25\n",
            "3\n"
          ]
        }
      ]
    },
    {
      "cell_type": "markdown",
      "source": [
        "###Task: Create a numpy matrix X as n * m, print the sum, mean, std, var, max, min of the 1st column of it."
      ],
      "metadata": {
        "id": "MUPGzrQIS8SJ"
      }
    },
    {
      "cell_type": "code",
      "source": [
        "x=np.arange(12).reshape(3,4)\n",
        "print(np.sum(x[:,0]))\n",
        "print(np.mean(x[:,0]))\n",
        "print(np.std(x[:,0]))\n",
        "print(np.var(x[:,0]))\n",
        "print(np.max(x[:,0]))"
      ],
      "metadata": {
        "id": "d9ufG5uWUfd0",
        "colab": {
          "base_uri": "https://localhost:8080/"
        },
        "outputId": "fc128f96-2b05-4f71-f89b-a7e643079791"
      },
      "execution_count": 44,
      "outputs": [
        {
          "output_type": "stream",
          "name": "stdout",
          "text": [
            "12\n",
            "4.0\n",
            "3.265986323710904\n",
            "10.666666666666666\n",
            "8\n"
          ]
        }
      ]
    },
    {
      "cell_type": "markdown",
      "source": [
        "## Array Linear Algebra"
      ],
      "metadata": {
        "id": "fl9WXnhTTAol"
      }
    },
    {
      "cell_type": "markdown",
      "source": [
        "###Task: Create two numpy matrix X with 2 * 2, and Y with 2 * 2. Practice Linear Algebra operations, such as +, -, *, .T, @, etc."
      ],
      "metadata": {
        "id": "Ll4gLDnfSOTv"
      }
    },
    {
      "cell_type": "code",
      "source": [
        "x=np.arange(4).reshape(2,2)\n",
        "y=np.arange(4,8).reshape(2,2)\n",
        "print(x+y)\n",
        "print(x-y)\n",
        "print(x*y)\n",
        "print(x.T)"
      ],
      "metadata": {
        "id": "T3K8rFcMUgPT",
        "colab": {
          "base_uri": "https://localhost:8080/"
        },
        "outputId": "ac136cd7-bfbc-44a3-b316-c5e1ea087657"
      },
      "execution_count": 45,
      "outputs": [
        {
          "output_type": "stream",
          "name": "stdout",
          "text": [
            "[[ 4  6]\n",
            " [ 8 10]]\n",
            "[[-4 -4]\n",
            " [-4 -4]]\n",
            "[[ 0  5]\n",
            " [12 21]]\n",
            "[[0 2]\n",
            " [1 3]]\n"
          ]
        }
      ]
    },
    {
      "cell_type": "code",
      "source": [],
      "metadata": {
        "id": "Y7mrbun7_Mjw"
      },
      "execution_count": null,
      "outputs": []
    }
  ]
}