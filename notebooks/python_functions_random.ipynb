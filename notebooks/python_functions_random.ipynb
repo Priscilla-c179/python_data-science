{
  "nbformat": 4,
  "nbformat_minor": 0,
  "metadata": {
    "colab": {
      "provenance": [],
      "authorship_tag": "ABX9TyO6GgzlLFm1uuarVdRuI8a0",
      "include_colab_link": true
    },
    "kernelspec": {
      "name": "python3",
      "display_name": "Python 3"
    },
    "language_info": {
      "name": "python"
    }
  },
  "cells": [
    {
      "cell_type": "markdown",
      "metadata": {
        "id": "view-in-github",
        "colab_type": "text"
      },
      "source": [
        "<a href=\"https://colab.research.google.com/github/Priscilla-c179/python_data-science/blob/main/notebooks/python_functions_random.ipynb\" target=\"_parent\"><img src=\"https://colab.research.google.com/assets/colab-badge.svg\" alt=\"Open In Colab\"/></a>"
      ]
    },
    {
      "cell_type": "code",
      "execution_count": null,
      "metadata": {
        "id": "q0M4q9-hPuD3"
      },
      "outputs": [],
      "source": []
    },
    {
      "cell_type": "markdown",
      "source": [
        "Game 1\n",
        "Rock Paper Scissors\n",
        "\n",
        "*   Rock wins Scissors\n",
        "*   Scissors win Paper\n",
        "*   Paper win Rock\n",
        "*   Write a programe to simulate the game.\n",
        "\n",
        "*  Import Random\n",
        "*  Call random to produce an integer valuein [0,1,2] for player A\n",
        "\n",
        "*   Call random to produce an integer value in [0,1,2] for player B\n",
        "*   0 represent Rock,1 represent Paper and 2 represent Scissors\n",
        "\n",
        "*   We print who wins .\n",
        "\n",
        "\n",
        "\n",
        "\n",
        "\n",
        "\n",
        "\n",
        "\n",
        "\n",
        "\n"
      ],
      "metadata": {
        "id": "ICGIiJ8KP6Io"
      }
    },
    {
      "cell_type": "code",
      "source": [
        "import random"
      ],
      "metadata": {
        "id": "gD3cE596Rb7g"
      },
      "execution_count": 1,
      "outputs": []
    },
    {
      "cell_type": "code",
      "source": [
        "def results():\n",
        "  return random.randint(0,2)"
      ],
      "metadata": {
        "id": "D9_ane3ORkU8"
      },
      "execution_count": 2,
      "outputs": []
    },
    {
      "cell_type": "code",
      "source": [
        "def game():\n",
        "  a=results()\n",
        "  b=results()\n",
        "# if 0 rep.Rock, 1rep.Paper,2 rep.Scissors\n",
        "  if a==b:\n",
        "    print('Tie')\n",
        "  elif a==0 and b==2:\n",
        "    print(\"A is Rock and B is Scissors.A wins\")\n",
        "  elif a==2 and b==0:\n",
        "    print(\"A is Scissors and B is Rock.B wins\")\n",
        "  elif a==0 and b==1:\n",
        "    print(\"A is Rock and B is Paper.B wins\")\n",
        "  elif a==1 and b==0:\n",
        "    print(\"A is Paper and B is Rock,A wins\")\n",
        "  elif a==1 and b==2:\n",
        "    print(\"A is Paper and B is Scissors.A wins\")\n",
        "  elif a==2 and b==1:\n",
        "    print(\"A is Scissors and B is Paper.B wins\")\n",
        "\n",
        "\n"
      ],
      "metadata": {
        "id": "SqtpIc_5Sksg"
      },
      "execution_count": 4,
      "outputs": []
    },
    {
      "cell_type": "code",
      "source": [
        "game()"
      ],
      "metadata": {
        "colab": {
          "base_uri": "https://localhost:8080/"
        },
        "id": "ldtKYiGrV5CN",
        "outputId": "b775f40b-2ec8-4e2c-9413-1b5a2307ef81"
      },
      "execution_count": 5,
      "outputs": [
        {
          "output_type": "stream",
          "name": "stdout",
          "text": [
            "Tie\n"
          ]
        }
      ]
    },
    {
      "cell_type": "markdown",
      "source": [
        "Use the functions defined above,to simulate a three-round \"Rock Paper Scissor\" The player wins 2 out of 3 wins the game"
      ],
      "metadata": {
        "id": "_tcZAsiWfcka"
      }
    },
    {
      "cell_type": "code",
      "source": [],
      "metadata": {
        "id": "gQ7sezqIfbG0"
      },
      "execution_count": null,
      "outputs": []
    },
    {
      "cell_type": "code",
      "source": [
        "def game_count():\n",
        "   a = results()\n",
        "   b =results()\n",
        "   if a==0 and b==0:\n",
        "    return 'A'\n",
        "   elif a==2 and b ==0:\n",
        "    return'B'\n",
        "   elif a==0 and b==1:\n",
        "      return 'B'\n",
        "   elif a==1 and b==0:\n",
        "      return 'A'\n",
        "   elif a==1 and b==2:\n",
        "     return'B'\n",
        "   elif a==2 and b==1:\n",
        "      return 'A'\n",
        "   else:\n",
        "    return 'T'\n",
        "\n",
        "def multi_game(n):\n",
        "  a_win=0\n",
        "  b_win=0\n",
        "  for i in range(n):\n",
        "    results=game_count()\n",
        "    if results=='A':\n",
        "     a_win +=1\n",
        "    elif results=='B':\n",
        "     b_win+=1\n",
        "  print('A wins:', a_win,  \"B win:\", b_win)\n"
      ],
      "metadata": {
        "id": "URJRHAljV6-L"
      },
      "execution_count": 6,
      "outputs": []
    },
    {
      "cell_type": "code",
      "source": [
        "multi_game(80)"
      ],
      "metadata": {
        "colab": {
          "base_uri": "https://localhost:8080/"
        },
        "id": "uTOu5Dn2cR9x",
        "outputId": "e32ac488-c209-41b8-b21e-6a4eb86d0826"
      },
      "execution_count": 7,
      "outputs": [
        {
          "output_type": "stream",
          "name": "stdout",
          "text": [
            "A wins: 21 B win: 31\n"
          ]
        }
      ]
    },
    {
      "cell_type": "code",
      "source": [
        "multi_game(3)"
      ],
      "metadata": {
        "colab": {
          "base_uri": "https://localhost:8080/"
        },
        "id": "I0SHn_fheXKI",
        "outputId": "774ff894-62d0-4d6c-a749-e72c104f53cb"
      },
      "execution_count": 8,
      "outputs": [
        {
          "output_type": "stream",
          "name": "stdout",
          "text": [
            "A wins: 2 B win: 0\n"
          ]
        }
      ]
    },
    {
      "cell_type": "markdown",
      "source": [
        "Aflip a coin game can be either headup or tailup. write a programe to simulate a flip"
      ],
      "metadata": {
        "id": "SX1m2F25jtYH"
      }
    },
    {
      "cell_type": "code",
      "source": [
        "# Game 2\n",
        "# FLIP A COIN\n",
        "\n",
        "import random"
      ],
      "metadata": {
        "id": "nUI6kfFV8s-f"
      },
      "execution_count": 9,
      "outputs": []
    },
    {
      "cell_type": "code",
      "source": [
        "def flip_coin():\n",
        "  if random.random()>=0.5:\n",
        "    return 'Head'\n",
        "  else:\n",
        "    return 'tail'"
      ],
      "metadata": {
        "id": "v2sJZA7Z_DQ4"
      },
      "execution_count": 10,
      "outputs": []
    },
    {
      "cell_type": "code",
      "source": [
        "print(flip_coin())"
      ],
      "metadata": {
        "colab": {
          "base_uri": "https://localhost:8080/"
        },
        "id": "HrGVI4Au_nCO",
        "outputId": "572af787-2cfa-4444-bb0e-b8018d69f98e"
      },
      "execution_count": 11,
      "outputs": [
        {
          "output_type": "stream",
          "name": "stdout",
          "text": [
            "tail\n"
          ]
        }
      ]
    },
    {
      "cell_type": "markdown",
      "source": [
        "Use the function above to simulate a process of flipping a coin 100 times or as many times as possible."
      ],
      "metadata": {
        "id": "fxAdotVVkK7o"
      }
    },
    {
      "cell_type": "code",
      "source": [
        "def flip_coin_simulation(n):\n",
        "  outcome={'Head': 0, 'Tail': 0}\n",
        "  for i in range(n):\n",
        "    flip=random.choice(['Head','Tail'])\n",
        "    outcome[flip]+=1\n",
        "\n"
      ],
      "metadata": {
        "id": "hmBxAfQS_v2t"
      },
      "execution_count": 12,
      "outputs": []
    },
    {
      "cell_type": "code",
      "source": [
        "print(flip_coin_simulation(250))"
      ],
      "metadata": {
        "colab": {
          "base_uri": "https://localhost:8080/"
        },
        "id": "h3bcSdiUGB3_",
        "outputId": "f9c45996-006a-4cba-a647-9ac8b9ade6b3"
      },
      "execution_count": 17,
      "outputs": [
        {
          "output_type": "stream",
          "name": "stdout",
          "text": [
            "None\n"
          ]
        }
      ]
    },
    {
      "cell_type": "code",
      "source": [],
      "metadata": {
        "id": "xETLmW5GGFn1"
      },
      "execution_count": null,
      "outputs": []
    }
  ]
}