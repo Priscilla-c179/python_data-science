{
  "nbformat": 4,
  "nbformat_minor": 0,
  "metadata": {
    "colab": {
      "provenance": [],
      "toc_visible": true,
      "include_colab_link": true
    },
    "kernelspec": {
      "name": "python3",
      "display_name": "Python 3"
    },
    "language_info": {
      "name": "python"
    }
  },
  "cells": [
    {
      "cell_type": "markdown",
      "metadata": {
        "id": "view-in-github",
        "colab_type": "text"
      },
      "source": [
        "<a href=\"https://colab.research.google.com/github/Priscilla-c179/python_data-science/blob/main/M3Lab2.ipynb\" target=\"_parent\"><img src=\"https://colab.research.google.com/assets/colab-badge.svg\" alt=\"Open In Colab\"/></a>"
      ]
    },
    {
      "cell_type": "markdown",
      "metadata": {
        "id": "cnAUJprJdh9_"
      },
      "source": [
        "# Welcome to our Lab Practice!"
      ]
    },
    {
      "cell_type": "markdown",
      "metadata": {
        "id": "vVYcayGedmms"
      },
      "source": [
        "This lab is about branching - if-else statements. Are you ready? Let's get started!"
      ]
    },
    {
      "cell_type": "markdown",
      "metadata": {
        "id": "JP8eGBVyeSQx"
      },
      "source": [
        "You will find some small tasks in sections below."
      ]
    },
    {
      "cell_type": "markdown",
      "metadata": {
        "id": "EZ42d1Sue0Zp"
      },
      "source": [
        "###Task: Check if the weather is good for hiking.\n",
        "\n",
        "You should ask the user to enter a float value as the temporature in Fahrenheit.\n",
        "*   If the temporature is within [60, 80], print \"Perfect\";\n",
        "*   otherwise, print \"Not that good\"."
      ]
    },
    {
      "cell_type": "code",
      "metadata": {
        "id": "yDzNIHsSeu85",
        "colab": {
          "base_uri": "https://localhost:8080/"
        },
        "outputId": "b8dad980-8593-4ebe-ba30-a12d46df4db5"
      },
      "source": [
        "temp=float(input('Enter temparature value in Fahrenheit'))\n",
        "\n",
        "if temp == 60 or temp <= 80:\n",
        "  print(\"Perfect\")\n",
        "else:\n",
        "  print(\"Not that good\")"
      ],
      "execution_count": 5,
      "outputs": [
        {
          "output_type": "stream",
          "name": "stdout",
          "text": [
            "Enter temparature value in Fahrenheit83\n",
            "Not that good\n"
          ]
        }
      ]
    },
    {
      "cell_type": "markdown",
      "metadata": {
        "id": "u8WEYfEqIbWX"
      },
      "source": [
        "###Task: Check if the user feels happy\n",
        "\n",
        "You should ask the user \"Are you happy now?\".\n",
        "*   If the user enters \"Yes\", print \"Fantastic!\"\n",
        "*   otherwise, print \"How can I help?\""
      ]
    },
    {
      "cell_type": "code",
      "metadata": {
        "id": "LKSmcHRRJUYY",
        "colab": {
          "base_uri": "https://localhost:8080/"
        },
        "outputId": "daee6507-5daf-4af0-8c99-4e45b226bfdc"
      },
      "source": [
        "mody=str(input('Are you happy :'))\n",
        "if mody == 'Yes':\n",
        "  print(\"Fantastic\")\n",
        "else:\n",
        "  print('How can i help?')"
      ],
      "execution_count": 6,
      "outputs": [
        {
          "output_type": "stream",
          "name": "stdout",
          "text": [
            "Are you happy :not sure\n",
            "How can i help?\n"
          ]
        }
      ]
    },
    {
      "cell_type": "markdown",
      "metadata": {
        "id": "-__o8ovbfSEH"
      },
      "source": [
        "###Task: check if your plants need water\n",
        "\n",
        "You should ask the user to enter an integer indicating the level of moisture of the soil (from 1: super dry; to 10: super wet).\n",
        "\n",
        "*   If the level is below 3, print \"Yes, you should water your plants now\"\n",
        "*   otherwise, print \"No. Wait for the soil to be dryer\"."
      ]
    },
    {
      "cell_type": "code",
      "metadata": {
        "id": "hOpxhSKog18Y",
        "colab": {
          "base_uri": "https://localhost:8080/"
        },
        "outputId": "2b280900-1be8-4de6-8adc-cb3530b0af56"
      },
      "source": [
        "level=int(input('Enter a number to indicate the level of moisture in the soil:, 1: \"super dry\",10:\"super wet.\"'))\n",
        "if  level < 3 :\n",
        "  print(\"Yes,you should water your plants now\")\n",
        "else:\n",
        "  print(\"No. Wait for the soil to be dryer\")\n"
      ],
      "execution_count": 11,
      "outputs": [
        {
          "output_type": "stream",
          "name": "stdout",
          "text": [
            "Enter a number to indicate the level of moisture in the soil:, 1: \"super dry\",10:\"super wet.\"3\n",
            "No. Wait for the soil to be dryer\n"
          ]
        }
      ]
    },
    {
      "cell_type": "markdown",
      "metadata": {
        "id": "8fGRh5FviHXB"
      },
      "source": [
        "###Task: check if a student finished Lab2\n",
        "\n",
        "At first, ask the user: \"Do you care about your learning outcome?\"\n",
        "\n",
        "*    If yes, ask the user \"Have your finished M3Lab2?\"\n",
        "**    if yes, print \"Good job!\"\n",
        "**    If no, print \"Get it done ASAP!!!!!!\"\n",
        "*    If no, then print \"As long as you are happy.\""
      ]
    },
    {
      "cell_type": "code",
      "metadata": {
        "id": "OSnp3ZYuiiUj",
        "colab": {
          "base_uri": "https://localhost:8080/"
        },
        "outputId": "056f20d5-9e29-44ac-ad04-f14cc4dabbbe"
      },
      "source": [
        "learning_outcome=input(\"Do you care about your learning outcome? 'yes/'no'.\")\n",
        "if learning_outcome == \"yes\":\n",
        "   finished_m3lab2=input('Have you finished M3Lab2? yes/no:')\n",
        "   if finished_m3lab2 =='yes':\n",
        "      print(\"Good job\")\n",
        "   else:\n",
        "      print(\"Get it done ASAP!!!!\")\n",
        "else:\n",
        "    print(\"As long as you are happy\")"
      ],
      "execution_count": 33,
      "outputs": [
        {
          "output_type": "stream",
          "name": "stdout",
          "text": [
            "Do you care about your learning outcome? 'yes/'no'.yes\n",
            "Have you finished M3Lab2? yes/no:no\n",
            "Get it done ASAP!!!!\n"
          ]
        }
      ]
    },
    {
      "cell_type": "code",
      "source": [],
      "metadata": {
        "id": "N2uuTL_IZcQQ"
      },
      "execution_count": 33,
      "outputs": []
    }
  ]
}
