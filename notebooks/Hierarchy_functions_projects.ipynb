{
  "nbformat": 4,
  "nbformat_minor": 0,
  "metadata": {
    "colab": {
      "provenance": [],
      "authorship_tag": "ABX9TyPztfXybXiT/hZzaX49/fmj",
      "include_colab_link": true
    },
    "kernelspec": {
      "name": "python3",
      "display_name": "Python 3"
    },
    "language_info": {
      "name": "python"
    }
  },
  "cells": [
    {
      "cell_type": "markdown",
      "metadata": {
        "id": "view-in-github",
        "colab_type": "text"
      },
      "source": [
        "<a href=\"https://colab.research.google.com/github/Priscilla-c179/python_data-science/blob/main/notebooks/Hierarchy_functions_projects.ipynb\" target=\"_parent\"><img src=\"https://colab.research.google.com/assets/colab-badge.svg\" alt=\"Open In Colab\"/></a>"
      ]
    },
    {
      "cell_type": "markdown",
      "source": [
        "Example of hierarchy function\n",
        "\n",
        "How the pay will be calculated based on hours and rate.\n",
        "\n",
        "*  gross pay = hours * rate\n",
        "*   overtime pay=(hours - 40) * rate* 0.5 +(hours-80) * rate.\n",
        "*   tax=(total_pay-500) * 20%\n",
        "*   benefits = total_pay * 15%\n",
        "*   withholding = tax + benefit\n",
        "*   netpay = total_pay - withholdings\n",
        "\n",
        "\n",
        "\n",
        "\n",
        "\n"
      ],
      "metadata": {
        "id": "pgQd2BfUoqpn"
      }
    },
    {
      "cell_type": "code",
      "execution_count": 4,
      "metadata": {
        "id": "f-QRWIbknmoY"
      },
      "outputs": [],
      "source": [
        "# hierarchy functions\n",
        "def get_hours_worked():\n",
        "  return int(input(\"Enter the number of  hours worked: \"))\n",
        "\n",
        "def get_hourly_rate():\n",
        "  return int(input(\"Enter the  rate of hourly work: \"))\n",
        "\n",
        "def get_inputs():\n",
        "  return get_hours_worked(), get_hourly_rate()\n",
        "\n",
        "def calc_gross_pay(hours, rate):\n",
        "  return hours * rate\n",
        "\n",
        "def calc_overtime_pay(hours, rate):\n",
        "  if hours < 40:\n",
        "    return 0\n",
        "  elif hours < 80:\n",
        "    return (hours - 40) * rate * 0.5\n",
        "  else:\n",
        "    return (hours - 40) * rate * 0.5 + (hours-80) * rate\n",
        "def calcu_tax(total):\n",
        "  if total < 500:\n",
        "    return 0\n",
        "  else:\n",
        "     return (total - 500) * 0.2\n",
        "\n",
        "def calc_benefit(total):\n",
        "    return total * 0.15\n",
        "\n",
        "def calc_withholding(total):\n",
        "    return calcu_tax(total) + calc_benefit(total)\n",
        "\n",
        "def calc_net_pay(total, withholding):\n",
        "    return total - withholding\n",
        "def main():\n",
        "    hours, rate = get_inputs()\n",
        "    gross = calc_gross_pay(hours, rate)\n",
        "    total = gross + calc_overtime_pay(hours, rate)\n",
        "    withholding = calc_withholding(total)\n",
        "    return calc_net_pay(total, withholding)\n",
        "\n",
        "\n"
      ]
    },
    {
      "cell_type": "code",
      "source": [
        "main()"
      ],
      "metadata": {
        "id": "1sXtSMTKt_Yt",
        "colab": {
          "base_uri": "https://localhost:8080/"
        },
        "outputId": "4aa72105-95e7-4755-e854-08fe5795c0c7"
      },
      "execution_count": 5,
      "outputs": [
        {
          "name": "stdout",
          "output_type": "stream",
          "text": [
            "Enter the number of  hours worked: 23\n",
            "Enter the  rate of hourly work: 15\n"
          ]
        },
        {
          "output_type": "execute_result",
          "data": {
            "text/plain": [
              "293.25"
            ]
          },
          "metadata": {},
          "execution_count": 5
        }
      ]
    },
    {
      "cell_type": "code",
      "source": [
        " # ATM SIMULATOR\n",
        "# display the menu bar\n",
        "def menu_screen():\n",
        "  print(\"\\n\" + \"=\"*25)\n",
        "  print(\" Welcome to KZbank ATM \")\n",
        "  print(\"=\"*25)\n",
        "  print(\"Choose one option:\")\n",
        "  print(\" 1. check balance\")\n",
        "  print(\" 2.deposits\")\n",
        "  print(\" 3.withdral\")\n",
        "  print(\" 5.Exit\")\n",
        "  print(\"=\"*25)\n",
        "  return input(\"Enter your choice\")\n",
        "#check balance\n",
        "def check_bal(balance):\n",
        " # print(f\"\\nCurrent balance is: Kshs{balance:.2f} \")\n",
        "  return balance\n",
        "\n",
        "#withdraw function\n",
        "def withdraw_money(balance):\n",
        "  amt=int(input(\"Enter amount to withdraw:\"))\n",
        "  if 200 < amt <=balance:\n",
        "    balance-=amt\n",
        "    print(f'kshs{amt:.2f} successfully withdrawn')\n",
        "  elif amt > balance:\n",
        "    print(\"Insufficient fund.\")\n",
        "  else:\n",
        "    print(\"check your account balance\")\n",
        "  #return balance\n",
        "\n",
        "# function to deposit money\n",
        "def deposit_money(balance):\n",
        "  amt=int(input(\"Enter amount to deposit\"))\n",
        "  if amt >=500 :\n",
        "    balance+=amt\n",
        "    print(f'kshs{amt:.2f} successfully deposited \\n Thank you for using Kzbank ATM')\n",
        "    #return balance\n",
        "  else:\n",
        "   # print(\"check your account balance\")\n",
        "    return balance\n",
        "\n",
        "# combine all functions to one main fuction\n",
        "def all_in_main():\n",
        " # initial balance\n",
        "  balance=5000\n",
        "  choice=menu_screen()\n",
        "  #while choice != '5':\n",
        "  if choice == '1':\n",
        "      check_bal(balance)\n",
        "  elif choice == '2':\n",
        "      deposit_money(balance)\n",
        "  elif choice == '3':\n",
        "      withdraw_money(balance)\n",
        "  else:\n",
        "      print('Thank you for using Kzbank ATM')\n",
        "\n",
        "\n",
        " # will add pin and receipt after transcation as i continue learning.\n",
        "\n",
        "\n",
        "\n"
      ],
      "metadata": {
        "id": "GKgQQSsxLNWw"
      },
      "execution_count": 77,
      "outputs": []
    },
    {
      "cell_type": "code",
      "source": [
        "all_in_main()"
      ],
      "metadata": {
        "colab": {
          "base_uri": "https://localhost:8080/"
        },
        "id": "l7iVQ2unNmrO",
        "outputId": "3046d7b9-1320-4b26-95b2-c29524148636"
      },
      "execution_count": 78,
      "outputs": [
        {
          "output_type": "stream",
          "name": "stdout",
          "text": [
            "\n",
            "=========================\n",
            " Welcome to KZbank ATM \n",
            "=========================\n",
            "Choose one option:\n",
            " 1. check balance\n",
            " 2.deposits\n",
            " 3.withdral\n",
            " 5.Exit\n",
            "=========================\n",
            "Enter your choice2\n",
            "Enter amount to deposit1000\n",
            "kshs1000.00 successfully deposited \n",
            " Thank you for using Kzbank ATM\n"
          ]
        }
      ]
    },
    {
      "cell_type": "code",
      "source": [
        "# recursion functions\n",
        "#f(n)=n*(n-1)*(n-2)*.....\n",
        "def f(n):\n",
        "  if n==0:\n",
        "    return 1\n",
        "  else:\n",
        "     return n*f(n-1)\n"
      ],
      "metadata": {
        "id": "_1PubOI7NqcN"
      },
      "execution_count": 2,
      "outputs": []
    },
    {
      "cell_type": "code",
      "source": [
        "f(0)"
      ],
      "metadata": {
        "colab": {
          "base_uri": "https://localhost:8080/"
        },
        "id": "yKOLe__BOMEF",
        "outputId": "a43cfbbb-fc1c-4dba-b21e-1919d90579a8"
      },
      "execution_count": 3,
      "outputs": [
        {
          "output_type": "execute_result",
          "data": {
            "text/plain": [
              "1"
            ]
          },
          "metadata": {},
          "execution_count": 3
        }
      ]
    },
    {
      "cell_type": "code",
      "source": [
        "f(6)"
      ],
      "metadata": {
        "colab": {
          "base_uri": "https://localhost:8080/"
        },
        "id": "T80Ar39HoaP-",
        "outputId": "7c56f81b-6134-481b-a026-b6e090a318c9"
      },
      "execution_count": 4,
      "outputs": [
        {
          "output_type": "execute_result",
          "data": {
            "text/plain": [
              "720"
            ]
          },
          "metadata": {},
          "execution_count": 4
        }
      ]
    },
    {
      "cell_type": "code",
      "source": [],
      "metadata": {
        "id": "QqTI6GSlodZi"
      },
      "execution_count": null,
      "outputs": []
    }
  ]
}