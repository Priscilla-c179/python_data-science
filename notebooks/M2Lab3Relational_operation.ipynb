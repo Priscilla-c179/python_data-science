{
  "nbformat": 4,
  "nbformat_minor": 0,
  "metadata": {
    "colab": {
      "provenance": [],
      "toc_visible": true,
      "include_colab_link": true
    },
    "kernelspec": {
      "name": "python3",
      "display_name": "Python 3"
    },
    "language_info": {
      "name": "python"
    }
  },
  "cells": [
    {
      "cell_type": "markdown",
      "metadata": {
        "id": "view-in-github",
        "colab_type": "text"
      },
      "source": [
        "<a href=\"https://colab.research.google.com/github/Priscilla-c179/python_data-science/blob/main/M2Lab3Relational_operation.ipynb\" target=\"_parent\"><img src=\"https://colab.research.google.com/assets/colab-badge.svg\" alt=\"Open In Colab\"/></a>"
      ]
    },
    {
      "cell_type": "markdown",
      "metadata": {
        "id": "cnAUJprJdh9_"
      },
      "source": [
        "# Welcome to our Lab Practice!"
      ]
    },
    {
      "cell_type": "markdown",
      "metadata": {
        "id": "vVYcayGedmms"
      },
      "source": [
        "\n",
        "This lab is about logical and relational operations. Are you ready? Let's get started!"
      ]
    },
    {
      "cell_type": "markdown",
      "metadata": {
        "id": "JP8eGBVyeSQx"
      },
      "source": [
        "You will find some small tasks in sections below."
      ]
    },
    {
      "cell_type": "markdown",
      "metadata": {
        "id": "TNbXeCDFeAcJ"
      },
      "source": [
        "## Relational Operation\n",
        "\n",
        "In this section, you are going to code and run relational operations of two numbers.\n",
        "\n",
        "Hint: to print out the comparison, we can use the print() to print multiple values out.\n",
        "\n",
        "For example, `print(x, 'operator', y, 'is', x operator y)` for an operator."
      ]
    },
    {
      "cell_type": "markdown",
      "metadata": {
        "id": "hhAeaPrjTLRT"
      },
      "source": [
        "###Task: Get some comparisons.\n",
        "\n",
        "1.   Assign x with 2, y with 3.\n",
        "2.   print out the comparison and result of\n",
        "  1.   x > y\n",
        "  2.   x >= y\n",
        "  3.   x == y\n",
        "  4.   x <= y\n",
        "  5.   x < y\n",
        "  6.   x != y\n",
        "\n",
        "\n",
        "\n"
      ]
    },
    {
      "cell_type": "code",
      "metadata": {
        "id": "v4jLx-_gTIFA",
        "colab": {
          "base_uri": "https://localhost:8080/"
        },
        "outputId": "1069836b-dc10-4146-a915-cc3c01b11ae5"
      },
      "source": [
        "# type your code here\n",
        "x=2\n",
        "y=3\n",
        "print(x, '>', y, 'is', x > y)\n",
        "print(x, '>=', y, 'is', x >= y)\n",
        "print(x, '==', y, 'is', x <= y)\n",
        "print(x, '<=', y, 'is', x <= y)\n",
        "print(x, '<', y, 'is', x < y)\n",
        "print(x, '!=', y, 'is', x != y)"
      ],
      "execution_count": 3,
      "outputs": [
        {
          "output_type": "stream",
          "name": "stdout",
          "text": [
            "2 > 3 is False\n",
            "2 >= 3 is False\n",
            "2 == 3 is True\n",
            "2 <= 3 is True\n",
            "2 < 3 is True\n",
            "2 != 3 is True\n"
          ]
        }
      ]
    },
    {
      "cell_type": "markdown",
      "metadata": {
        "id": "EZ42d1Sue0Zp"
      },
      "source": [
        "###Task: More comparisons\n",
        "\n",
        "1.   Ask the user to enter an integer, convert and assign it to x;\n",
        "2.   Ask the user to enter another integer, convert and assign it to y;\n",
        "3.   print out the comparison and result of\n",
        "  1.   x > y\n",
        "  2.   x >= y\n",
        "  3.   x == y\n",
        "  4.   x <= y\n",
        "  5.   x < y\n",
        "  6.   x != y"
      ]
    },
    {
      "cell_type": "code",
      "metadata": {
        "id": "e4UI_UJpU-7q",
        "colab": {
          "base_uri": "https://localhost:8080/"
        },
        "outputId": "3d8ff570-026f-417c-d152-4b00fff0a2a3"
      },
      "source": [
        "# type your code here\n",
        "x=int(input('Enter an integer: '))\n",
        "print('you entered:', x)\n",
        "y=int(input('Enter an integer: '))\n",
        "print('you entered: ', y)\n",
        "\n",
        "print(x, '>', y, 'is', x > y)\n",
        "print(x, '>=', y, 'is', x >= y)\n",
        "print(x, '==', y, 'is', x == y)\n",
        "print(x, '<=', y, 'is', x <= y)\n",
        "print(x, '<', y, 'is', x < y)\n",
        "print(x, '!=', y, 'is', x != y)"
      ],
      "execution_count": 8,
      "outputs": [
        {
          "output_type": "stream",
          "name": "stdout",
          "text": [
            "Enter an integer: 4\n",
            "you entered: 4\n",
            "Enter an integer: 6\n",
            "you entered:  6\n",
            "4 > 6 is False\n",
            "4 >= 6 is False\n",
            "4 == 6 is False\n",
            "4 <= 6 is True\n",
            "4 < 6 is True\n",
            "4 != 6 is True\n"
          ]
        }
      ]
    },
    {
      "cell_type": "markdown",
      "metadata": {
        "id": "D8pWdoN7d6Dy"
      },
      "source": [
        "## Logical Operation\n",
        "\n",
        "In this section, you are going to code and run logical operations of two numbers.\n",
        "\n",
        "Hint: to print out the equation, we can use the print() to print multiple values out.\n",
        "\n",
        "For example, `print(x, 'operator', y, 'is', x operator y)` for an operator."
      ]
    },
    {
      "cell_type": "markdown",
      "metadata": {
        "id": "xDZeMhFteYjE"
      },
      "source": [
        "###Task: Get some computation.\n",
        "\n",
        "1.   Assign x with True, y with False.\n",
        "2.   print out the computation and result of\n",
        "  1.   x and x\n",
        "  2.   x and y\n",
        "  3.   y and x\n",
        "  4.   y and y\n",
        "  5.   x or x\n",
        "  6.   x or y\n",
        "  7.   y or x\n",
        "  8.   y or y\n",
        "  9.   not x\n",
        "  10.   not y\n",
        "\n",
        "\n",
        "\n"
      ]
    },
    {
      "cell_type": "code",
      "metadata": {
        "id": "yDzNIHsSeu85",
        "colab": {
          "base_uri": "https://localhost:8080/"
        },
        "outputId": "df7c27e7-8f88-4d1f-e571-c42d77035f80"
      },
      "source": [
        "# type your code here\n",
        "x=True\n",
        "y=False\n",
        "\n",
        "print(x, 'and', x, 'is', x and x)\n",
        "print(x, 'and', y, 'is', x and y)\n",
        "print(y, 'and', x, 'is', y and x)\n",
        "print(y, 'and', y, 'is', y and y)\n",
        "print(x, 'or', x, 'is', x or x)\n",
        "print(x, 'or', y, 'is', x or y)\n",
        "print(y, 'or', x, 'is', y or x)\n",
        "print(y, 'or', y, 'is', y or y)\n",
        "print(\"not x =\", not x)\n",
        "print('not y =', not y)"
      ],
      "execution_count": 11,
      "outputs": [
        {
          "output_type": "stream",
          "name": "stdout",
          "text": [
            "True and True is True\n",
            "True and False is False\n",
            "False and True is False\n",
            "False and False is False\n",
            "True or True is True\n",
            "True or False is True\n",
            "False or True is True\n",
            "False or False is False\n",
            "not x = False\n",
            "not y = True\n"
          ]
        }
      ]
    }
  ]
}
