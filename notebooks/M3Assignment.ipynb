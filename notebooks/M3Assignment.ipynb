{
  "nbformat": 4,
  "nbformat_minor": 0,
  "metadata": {
    "colab": {
      "provenance": [],
      "toc_visible": true,
      "include_colab_link": true
    },
    "kernelspec": {
      "name": "python3",
      "display_name": "Python 3"
    },
    "language_info": {
      "name": "python"
    }
  },
  "cells": [
    {
      "cell_type": "markdown",
      "metadata": {
        "id": "view-in-github",
        "colab_type": "text"
      },
      "source": [
        "<a href=\"https://colab.research.google.com/github/Priscilla-c179/python_data-science/blob/main/M3Assignment.ipynb\" target=\"_parent\"><img src=\"https://colab.research.google.com/assets/colab-badge.svg\" alt=\"Open In Colab\"/></a>"
      ]
    },
    {
      "cell_type": "markdown",
      "metadata": {
        "id": "cnAUJprJdh9_"
      },
      "source": [
        "# Welcome to our third assignment!"
      ]
    },
    {
      "cell_type": "markdown",
      "metadata": {
        "id": "vVYcayGedmms"
      },
      "source": [
        "This assignment is about testing your understanding of flow control: branching.\n",
        "\n",
        "We are going to create some simple programs using these tools. Are you ready? Let's get started!"
      ]
    },
    {
      "cell_type": "markdown",
      "metadata": {
        "id": "JP8eGBVyeSQx"
      },
      "source": [
        "You will find some small tasks in sections below. You should use input() to get the user to enter the information and use print() to print the information on the screen. At this moment, we can assume users will follow instructions carefully - they will enter the valid inputs as required."
      ]
    },
    {
      "cell_type": "markdown",
      "metadata": {
        "id": "TNbXeCDFeAcJ"
      },
      "source": [
        "## What day is today?\n",
        "\n",
        "###Instruction: Write a program that asks the user for a number in the range of 1 through 7. The program should display the corresponding day of the week, where\n",
        "\n",
        "* 1    = Monday,\n",
        "* 2    = Tuesday,\n",
        "* 3    = Wednesday,\n",
        "* 4    = Thursday,\n",
        "* 5    = Friday,\n",
        "* 6    = Saturday, and\n",
        "* 7    = Sunday\n",
        "* all other value entered = ERROR"
      ]
    },
    {
      "cell_type": "code",
      "metadata": {
        "id": "x6IbZ6rFw76O",
        "colab": {
          "base_uri": "https://localhost:8080/"
        },
        "outputId": "d12288a3-b142-4f06-bdfc-5c7bde9cabff"
      },
      "source": [
        "x=int(input(\"enter a number[1:7] to represent the day today\"))\n",
        "to_day = {\n",
        "    1:\"monday\",\n",
        "    2:\"Tuesday\",\n",
        "    3: \"Wednesday\",\n",
        "    4: \"Thursday\",\n",
        "    5: \"Friday\",\n",
        "    6: \"Saturday\",\n",
        "    7: \"Sunday\"\n",
        "}\n",
        "\n",
        "if x in to_day:\n",
        "    print(f\"Today is: {to_day[x]}\")\n",
        "else:\n",
        "  print(\"all other value = ERROR\")\n",
        "\n"
      ],
      "execution_count": 5,
      "outputs": [
        {
          "output_type": "stream",
          "name": "stdout",
          "text": [
            "enter a number[1:7] to represent the day today7\n",
            "Today is: Sunday\n"
          ]
        }
      ]
    },
    {
      "cell_type": "markdown",
      "metadata": {
        "id": "fZfiqg5lxFKF"
      },
      "source": [
        "## Tax Calculator\n",
        "\n",
        "###Instruction: You are going to program a  simple tax calculator.\n",
        "\n",
        "step1: Ask the user to enter the gross income of year 2022.\n",
        "\n",
        "step2: Calculate the tax based on following formula:\n",
        "\n",
        "1.   Less than \\$100,000, one pays just 1%\n",
        "2.   More than \\$100,000 one pays 5%\n",
        "3.   More than \\$500,000 then one pays 5% tax on the first 500,000 and 2 cents for every dollar above 500,000\n",
        "\n",
        "step3: Print the tax amount on the screen."
      ]
    },
    {
      "cell_type": "code",
      "metadata": {
        "id": "2bODNGPSx1-m",
        "colab": {
          "base_uri": "https://localhost:8080/"
        },
        "outputId": "032352e7-d8ba-4a49-efdd-452a74ddfe84"
      },
      "source": [
        "income=int(input(\"Enter a gross earning of year 2022 :\"))\n",
        "\n",
        "if income < 100000:\n",
        "  tax = income * 0.01\n",
        "  print(f\"tax amount:{tax}\")\n",
        "elif income > 100000:\n",
        "  tax = income * 0.05\n",
        "  print(f\"tax amount:{tax}\")\n",
        "elif income >500000:\n",
        "  tax = 500000 * 0.05 + (income - 500000) * 0.02\n",
        "  print(f\"tax amount:{tax}\")"
      ],
      "execution_count": 5,
      "outputs": [
        {
          "output_type": "stream",
          "name": "stdout",
          "text": [
            "Enter a gross earning of year 2022 :900000\n",
            "tax amount:45000.0\n"
          ]
        }
      ]
    },
    {
      "cell_type": "markdown",
      "metadata": {
        "id": "cZmW-HnwyHcI"
      },
      "source": [
        "## A Simple Calculator\n",
        "\n",
        "###Instruction: You are going to program a super simple Calcualtor.\n",
        "\n",
        "step1: Ask the user to enter the first number, store it in x\n",
        "\n",
        "step2: Ask the user to enter the second number, store it in y\n",
        "\n",
        "step3: Ask the user to enter the operator, store it in p\n",
        "\n",
        "step4: Calculate the result of x p y.\n",
        "\n",
        "For example, if the user entered 2, 3, and +, you should print 2.0 + 3.0 = 5.0 on the screen"
      ]
    },
    {
      "cell_type": "code",
      "metadata": {
        "id": "wk6FHvAvyr_G",
        "colab": {
          "base_uri": "https://localhost:8080/"
        },
        "outputId": "75e4604a-1718-415a-ca99-313480530c87"
      },
      "source": [
        "x=int(input(\"Enter the first number\"))\n",
        "y=int(input(\"Enter the second number\"))\n",
        "p=input(\"Enter the operator (*, -, +, /):\")\n",
        "if p == \"*\":\n",
        "  result = x * y\n",
        "  print(f'Results:{result}')\n",
        "elif p == \"-\":\n",
        "  result = x - y\n",
        "  print(f'Results:{result}')\n",
        "elif p == \"+\":\n",
        "  result = x + y\n",
        "  print(f'Results:{result}')\n",
        "elif p == \"/\":\n",
        "    if y != 0:\n",
        "      result = x / y\n",
        "      print(f'Results:{result}')\n",
        "    else:\n",
        "      result = \"Error: Division by zero\"\n",
        "      print(f'Results:{result}')\n",
        "else:\n",
        "    result = \"Invalid operator\"\n",
        "    print(f'Results:{result}')"
      ],
      "execution_count": 25,
      "outputs": [
        {
          "output_type": "stream",
          "name": "stdout",
          "text": [
            "Enter the first number4\n",
            "Enter the second number7\n",
            "Enter the operator (*, -, +, /):*\n",
            "Results:28\n"
          ]
        }
      ]
    },
    {
      "cell_type": "markdown",
      "metadata": {
        "id": "auP4vt99EOJx"
      },
      "source": [
        "## Taxi Fare Calculator\n",
        "\n",
        "###Instruction: You are going to program a simple Calcualtor for a taxi.\n",
        "\n",
        "step1: Ask the driver to enter total miles, store it in m\n",
        "\n",
        "step2: Calculate the fare based on the formular\n",
        "\n",
        "*   if m < 10, fare is \\$5\n",
        "*   if 10 <= m < 20, fare is \\$5 plus \\$1 for every mile beyond 10.\n",
        "*   if m >= 20, fare is \\$5 plus \\$1.5 for every mile beyond 10\n",
        "\n",
        "step3: print the fare.\n"
      ]
    },
    {
      "cell_type": "code",
      "metadata": {
        "id": "3sEH96OkGAzR",
        "colab": {
          "base_uri": "https://localhost:8080/"
        },
        "outputId": "e1167f7d-b203-4228-ae8f-00c1cb942115"
      },
      "source": [
        "m=float(input(\"Enter total miles:\"))\n",
        "if m < 10 :\n",
        "  fare=5\n",
        "  print(f\"Fare is :{fare}\")\n",
        "if 10<=m<20:\n",
        "  fare=5+(m-10*1)\n",
        "  print(f\"Fare is :{fare}\")\n",
        "elif m>=20:\n",
        "  fare=5+(m-10*1.5)\n",
        "  print(f\"Fare is: {fare}\")"
      ],
      "execution_count": 29,
      "outputs": [
        {
          "output_type": "stream",
          "name": "stdout",
          "text": [
            "Enter total miles:30\n",
            "Fare is: 20.0\n"
          ]
        }
      ]
    },
    {
      "cell_type": "markdown",
      "metadata": {
        "id": "ylesrgONGCbf"
      },
      "source": [
        "## Flash Shipping charges\n",
        "\n",
        "###Instruction: You are going to program a shipping charge calculator for a deliver company - Flash Shipping.\n",
        "\n",
        "The rate of delivery is as below\n",
        "\n",
        "| Weight of Package | Domestic Rate Per Pound | International Rate Per Pound |\n",
        "| --- | --- | --- |\n",
        "| 2 lbs or less | \\$1.5 | \\$5.0 |\n",
        "| More than 2 lbs but no more than 6 lbs | \\$2.5 | \\$7.0 |\n",
        "| Morethan 6 lbs but no more than 20 lbs | \\$3.5 | \\$10.0 |\n",
        "| More than 20 lbs | \\$5.0 | \\$15.0 |\n",
        "\n",
        "step1: Ask the user to enter the weight of the package, and the destination (domestic or international)\n",
        "\n",
        "step2: Calculate the shipping charge based on the rate\n",
        "\n",
        "step3: print the charge.\n"
      ]
    },
    {
      "cell_type": "code",
      "metadata": {
        "id": "PntyPGzNHiYw",
        "colab": {
          "base_uri": "https://localhost:8080/"
        },
        "outputId": "bd0a5b9a-aacc-4146-b81d-d8f4ca5cc422"
      },
      "source": [
        "wt=float(input('Enter the weight of the package in lbs'))\n",
        "dest=input(\"Enter the destination (Domestic/International):\")\n",
        "\n",
        "if dest=='Domestic':\n",
        "  if wt < 2:\n",
        "    rate=1.5*wt\n",
        "  if wt >2<=6:\n",
        "    rate=2.5*wt\n",
        "  if wt>6<=20:\n",
        "    rate=3.5*wt\n",
        "  if wt>20:\n",
        "    rate=5*wt\n",
        "elif dest=='International':\n",
        "  if wt < 2:\n",
        "    rate=5*wt\n",
        "  if wt >2<=6:\n",
        "    rate=7*wt\n",
        "  if wt>6<=20:\n",
        "    rate=10*wt\n",
        "  if wt>20:\n",
        "    rate=15*wt\n",
        "print(f\"shipping_rates: {rate}\")\n",
        "\n"
      ],
      "execution_count": 44,
      "outputs": [
        {
          "output_type": "stream",
          "name": "stdout",
          "text": [
            "Enter the weight of the package in lbs8.9\n",
            "Enter the destination (Domestic/International):Domestic\n",
            "shipping_rates: 31.150000000000002\n"
          ]
        }
      ]
    },
    {
      "cell_type": "markdown",
      "metadata": {
        "id": "7Ysdu7UJ_qf8"
      },
      "source": [
        "**Congratulations! You finished this Assignment and completed Module 3!**"
      ]
    },
    {
      "cell_type": "code",
      "source": [],
      "metadata": {
        "id": "25pZ7DMgmyon"
      },
      "execution_count": 44,
      "outputs": []
    }
  ]
}
