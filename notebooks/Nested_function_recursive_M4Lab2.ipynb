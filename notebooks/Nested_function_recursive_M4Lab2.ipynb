{
  "nbformat": 4,
  "nbformat_minor": 0,
  "metadata": {
    "colab": {
      "provenance": [],
      "toc_visible": true,
      "include_colab_link": true
    },
    "kernelspec": {
      "name": "python3",
      "display_name": "Python 3"
    },
    "language_info": {
      "name": "python"
    }
  },
  "cells": [
    {
      "cell_type": "markdown",
      "metadata": {
        "id": "view-in-github",
        "colab_type": "text"
      },
      "source": [
        "<a href=\"https://colab.research.google.com/github/Priscilla-c179/python_data-science/blob/main/notebooks/Nested_function_recursive_M4Lab2.ipynb\" target=\"_parent\"><img src=\"https://colab.research.google.com/assets/colab-badge.svg\" alt=\"Open In Colab\"/></a>"
      ]
    },
    {
      "cell_type": "markdown",
      "metadata": {
        "id": "cnAUJprJdh9_"
      },
      "source": [
        "# Welcome to our last Lab Practice!"
      ]
    },
    {
      "cell_type": "markdown",
      "metadata": {
        "id": "vVYcayGedmms"
      },
      "source": [
        "This lab is all about defining nested functions. Are you ready? Let's get started!"
      ]
    },
    {
      "cell_type": "markdown",
      "metadata": {
        "id": "JP8eGBVyeSQx"
      },
      "source": [
        "You will find some small tasks in sections below. After defining functions, call them to test."
      ]
    },
    {
      "cell_type": "markdown",
      "source": [
        "## Define recursive functions"
      ],
      "metadata": {
        "id": "qzuHvz8d6ICV"
      }
    },
    {
      "cell_type": "markdown",
      "source": [
        "###Task: define a recursive function to compute fibonacci series: $fib(0) = 0$, $fib(1) = 1$, $fib(n) = fib(n-1) + fib(n-2)$"
      ],
      "metadata": {
        "id": "h-mrQgK7RKqm"
      }
    },
    {
      "cell_type": "code",
      "source": [],
      "metadata": {
        "id": "iAhQ1VpAvAVm"
      },
      "execution_count": null,
      "outputs": []
    },
    {
      "cell_type": "code",
      "source": [
        "def fin(n):\n",
        "  if n==0:\n",
        "    return 0\n",
        "  elif n==1:\n",
        "    return 1\n",
        "  else:\n",
        "    return fin(n-1)+fin(n-2)"
      ],
      "metadata": {
        "id": "FR7idsVORX5_"
      },
      "execution_count": 1,
      "outputs": []
    },
    {
      "cell_type": "code",
      "source": [
        "fin(0)"
      ],
      "metadata": {
        "colab": {
          "base_uri": "https://localhost:8080/"
        },
        "id": "2xz7MtKnu4IF",
        "outputId": "d12690e4-aab8-4f0c-c958-af564fe3361d"
      },
      "execution_count": 4,
      "outputs": [
        {
          "output_type": "execute_result",
          "data": {
            "text/plain": [
              "0"
            ]
          },
          "metadata": {},
          "execution_count": 4
        }
      ]
    },
    {
      "cell_type": "code",
      "source": [
        "fin(10)"
      ],
      "metadata": {
        "colab": {
          "base_uri": "https://localhost:8080/"
        },
        "id": "4YoLVcy4vCmX",
        "outputId": "5138a2b5-7f92-4326-a339-d9b6e15717d8"
      },
      "execution_count": 5,
      "outputs": [
        {
          "output_type": "execute_result",
          "data": {
            "text/plain": [
              "55"
            ]
          },
          "metadata": {},
          "execution_count": 5
        }
      ]
    },
    {
      "cell_type": "markdown",
      "source": [
        "###Task: define a recursive function to compute the number of digits of a positive integer."
      ],
      "metadata": {
        "id": "DgJSW0_BBy1i"
      }
    },
    {
      "cell_type": "code",
      "source": [
        "def num_int(n):\n",
        "  if n<10:\n",
        "    return 1\n",
        "  else:\n",
        "    return 1+num_int(n//10) # // integer division  removes the last digit of the number."
      ],
      "metadata": {
        "id": "Pw6KMzh9CGQb"
      },
      "execution_count": 2,
      "outputs": []
    },
    {
      "cell_type": "code",
      "source": [
        "num_int(345)"
      ],
      "metadata": {
        "colab": {
          "base_uri": "https://localhost:8080/"
        },
        "id": "Nsq0W92LQvyR",
        "outputId": "291d3a32-66e1-485a-e827-93796d9d8b66"
      },
      "execution_count": 3,
      "outputs": [
        {
          "output_type": "execute_result",
          "data": {
            "text/plain": [
              "3"
            ]
          },
          "metadata": {},
          "execution_count": 3
        }
      ]
    },
    {
      "cell_type": "code",
      "source": [
        "num_int(12)"
      ],
      "metadata": {
        "colab": {
          "base_uri": "https://localhost:8080/"
        },
        "id": "Ec-kuEkCxeKI",
        "outputId": "a1d48a10-a752-4717-cd8e-ce43a476ba67"
      },
      "execution_count": 10,
      "outputs": [
        {
          "output_type": "execute_result",
          "data": {
            "text/plain": [
              "2"
            ]
          },
          "metadata": {},
          "execution_count": 10
        }
      ]
    },
    {
      "cell_type": "markdown",
      "source": [
        "### Task: define a function to check whether or not a string without special characters is palindrome.\n",
        "\n",
        "Definition: Palindrome is a word, phrase, or sequence that reads the same backward as forward.\n",
        "\n",
        "For example:\n",
        "*   '', 'a', 'ada', 'adda' are palindrome;\n",
        "*   'ab', 'abs' are not palindrome.\n",
        "\n",
        "We can assume the input string contains only A to Z and a to z, no other special characters, it might be empty, and an empty string is palindrome.\n",
        "\n",
        "Hint: The first character of the string *s* can be accessed by *s[0]* and the last character of the string *s* can be accessed by *s[-1]*.\n",
        "The substring without the first and last character of a string *s* can be obtained by *s[1:-1]*"
      ],
      "metadata": {
        "id": "0V2xXl_WuE_C"
      }
    },
    {
      "cell_type": "code",
      "source": [
        "def sting_palindrome(s):\n",
        "  #strng=str(input(\"Enter a sentence\"))\n",
        "  # the base:if string length is 0 or 1, it's a palindrome\n",
        "    if len(s)==0 or len(s)==1:\n",
        "         return True\n",
        "    # if first and last characters don't match, not a palindrome\n",
        "    elif s[0]!=s[-1]:\n",
        "        return False\n",
        "    else:\n",
        "      return sting_palindrome(s[1:-1])\n",
        "\n",
        "print(sting_palindrome('ada'))\n",
        "print(sting_palindrome('adda'))\n",
        "print(sting_palindrome('rabar'))\n",
        "print(sting_palindrome('abs'))\n",
        "print(sting_palindrome(''))\n",
        "print(sting_palindrome('a'))\n",
        "\n"
      ],
      "metadata": {
        "id": "IWog-rcNwl47",
        "colab": {
          "base_uri": "https://localhost:8080/"
        },
        "outputId": "0563d9a7-de1c-417e-fd2f-38424bd4794a"
      },
      "execution_count": 17,
      "outputs": [
        {
          "output_type": "stream",
          "name": "stdout",
          "text": [
            "True\n",
            "True\n",
            "True\n",
            "False\n",
            "True\n",
            "True\n"
          ]
        }
      ]
    },
    {
      "cell_type": "code",
      "source": [
        "sting_palindrome()"
      ],
      "metadata": {
        "colab": {
          "base_uri": "https://localhost:8080/"
        },
        "id": "GMGhFiKKbARR",
        "outputId": "7145a8f7-bb46-4984-9bba-7f3518009bda"
      },
      "execution_count": 11,
      "outputs": [
        {
          "name": "stdout",
          "output_type": "stream",
          "text": [
            "Enter a sentence\n"
          ]
        },
        {
          "output_type": "execute_result",
          "data": {
            "text/plain": [
              "True"
            ]
          },
          "metadata": {},
          "execution_count": 11
        }
      ]
    },
    {
      "cell_type": "code",
      "source": [],
      "metadata": {
        "id": "0-hS1OBHbEV5"
      },
      "execution_count": 11,
      "outputs": []
    }
  ]
}