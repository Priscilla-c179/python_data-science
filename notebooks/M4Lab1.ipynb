{
  "nbformat": 4,
  "nbformat_minor": 0,
  "metadata": {
    "colab": {
      "provenance": [],
      "toc_visible": true,
      "include_colab_link": true
    },
    "kernelspec": {
      "name": "python3",
      "display_name": "Python 3"
    },
    "language_info": {
      "name": "python"
    }
  },
  "cells": [
    {
      "cell_type": "markdown",
      "metadata": {
        "id": "view-in-github",
        "colab_type": "text"
      },
      "source": [
        "<a href=\"https://colab.research.google.com/github/Priscilla-c179/python_data-science/blob/main/M4Lab1.ipynb\" target=\"_parent\"><img src=\"https://colab.research.google.com/assets/colab-badge.svg\" alt=\"Open In Colab\"/></a>"
      ]
    },
    {
      "cell_type": "markdown",
      "metadata": {
        "id": "cnAUJprJdh9_"
      },
      "source": [
        "# Welcome to our Lab Practice!"
      ]
    },
    {
      "cell_type": "markdown",
      "metadata": {
        "id": "vVYcayGedmms"
      },
      "source": [
        "This lab is about repetition - while loops. Are you ready? Let's get started!"
      ]
    },
    {
      "cell_type": "markdown",
      "metadata": {
        "id": "JP8eGBVyeSQx"
      },
      "source": [
        "You will find some small tasks in sections below."
      ]
    },
    {
      "cell_type": "markdown",
      "metadata": {
        "id": "EZ42d1Sue0Zp"
      },
      "source": [
        "###Task: Print all integers from -5 to 5.\n"
      ]
    },
    {
      "cell_type": "code",
      "metadata": {
        "id": "yDzNIHsSeu85",
        "colab": {
          "base_uri": "https://localhost:8080/"
        },
        "outputId": "fc563132-f1b6-4097-f967-44f2c3c51467"
      },
      "source": [
        "i=-5\n",
        "while i <= 5:\n",
        "  print(i)\n",
        "  i+=1\n"
      ],
      "execution_count": 3,
      "outputs": [
        {
          "output_type": "stream",
          "name": "stdout",
          "text": [
            "-5\n",
            "-4\n",
            "-3\n",
            "-2\n",
            "-1\n",
            "0\n",
            "1\n",
            "2\n",
            "3\n",
            "4\n",
            "5\n"
          ]
        }
      ]
    },
    {
      "cell_type": "markdown",
      "metadata": {
        "id": "u8WEYfEqIbWX"
      },
      "source": [
        "###Task: Print all integers of an interval given by the user\n",
        "\n",
        "Ask the user to enter two integers and print all integers between (including) them."
      ]
    },
    {
      "cell_type": "code",
      "metadata": {
        "id": "LKSmcHRRJUYY",
        "colab": {
          "base_uri": "https://localhost:8080/"
        },
        "outputId": "15f43ba0-9da9-4e36-802e-606ab742224c"
      },
      "source": [
        "start=int(input('Enter first integers:'))\n",
        "end=int(input('Enter the last integer'))\n",
        "i=start\n",
        "while i>=end:\n",
        "  print(i)\n",
        "  i -=1"
      ],
      "execution_count": 9,
      "outputs": [
        {
          "output_type": "stream",
          "name": "stdout",
          "text": [
            "Enter first integers:20\n",
            "Enter the last integer10\n",
            "20\n",
            "19\n",
            "18\n",
            "17\n",
            "16\n",
            "15\n",
            "14\n",
            "13\n",
            "12\n",
            "11\n",
            "10\n"
          ]
        }
      ]
    },
    {
      "cell_type": "markdown",
      "metadata": {
        "id": "-__o8ovbfSEH"
      },
      "source": [
        "###Task: Double The Number\n",
        "\n",
        "Step 1: Ask the user to enter a small positive number (0 - 10)\n",
        "\n",
        "Step 2: Double the number, print it out, and repeat, until the number beyond 1,000,000\n",
        "\n",
        "(How fast the number is growing)"
      ]
    },
    {
      "cell_type": "code",
      "metadata": {
        "id": "hOpxhSKog18Y",
        "colab": {
          "base_uri": "https://localhost:8080/"
        },
        "outputId": "f265e653-72bc-4245-accb-498af09b1ecd"
      },
      "source": [
        "start=int(input('Enter a number (0-10):'))\n",
        "while start <=1000000:\n",
        "  start *=2\n",
        "  print(start)\n"
      ],
      "execution_count": 2,
      "outputs": [
        {
          "output_type": "stream",
          "name": "stdout",
          "text": [
            "Enter a number (0-10):5\n",
            "10\n",
            "20\n",
            "40\n",
            "80\n",
            "160\n",
            "320\n",
            "640\n",
            "1280\n",
            "2560\n",
            "5120\n",
            "10240\n",
            "20480\n",
            "40960\n",
            "81920\n",
            "163840\n",
            "327680\n",
            "655360\n",
            "1310720\n"
          ]
        }
      ]
    },
    {
      "cell_type": "markdown",
      "metadata": {
        "id": "uZYVZQIvIlPy"
      },
      "source": [
        "###Task: Keep asking for candy until 'STOP'  \n",
        "\n",
        "Step1: Ask the user to enter anything\n",
        "\n",
        "Step2: print a message 'Thanks! I got a candy'\n",
        "\n",
        "Step3: Repeat Step 1 and 2, until the user enter 'Done'\n",
        "\n",
        "Step4: print a message 'Thanks! I have enough.'"
      ]
    },
    {
      "cell_type": "code",
      "metadata": {
        "id": "Y_3dcyvcQ2GI",
        "colab": {
          "base_uri": "https://localhost:8080/"
        },
        "outputId": "179c9cc8-f342-4e22-dba4-f729c3ff35e2"
      },
      "source": [
        "\n",
        "sweet='Done'\n",
        "sweet_entered=input('please enter anyword, enter \"Done\" to stop:')\n",
        "while sweet_entered!=sweet:\n",
        "  print('Thanks i got a camdy!')\n",
        "  sweet_entered=input('please enter anyword, enter \"Done\" to stop:')\n",
        "print('Thanks!i have enough')\n"
      ],
      "execution_count": 4,
      "outputs": [
        {
          "output_type": "stream",
          "name": "stdout",
          "text": [
            "please enter anyword, enter \"Done\" to stop:ret\n",
            "Thanks i got a camdy!\n",
            "please enter anyword, enter \"Done\" to stop:userly\n",
            "Thanks i got a camdy!\n",
            "please enter anyword, enter \"Done\" to stop:Done\n",
            "Thanks!i have enough\n"
          ]
        }
      ]
    },
    {
      "cell_type": "markdown",
      "metadata": {
        "id": "qKFwdIypmt5J"
      },
      "source": [
        "### Task: Password Setup\n",
        "\n",
        "*   Ask the user to enter a new password.\n",
        "*   Ask the user to enter the password again.\n",
        "*   If the second input matches the first one, print \"You are all set\", otherwise, repeat the process.\n"
      ]
    },
    {
      "cell_type": "code",
      "metadata": {
        "id": "6pqvFtl8nHei",
        "colab": {
          "base_uri": "https://localhost:8080/"
        },
        "outputId": "58af883e-9045-4d1b-bb19-84ac8cc5c1fc"
      },
      "source": [
        "password_stored='chiro'\n",
        "pass_word=input('Enter a new password')\n",
        "while pass_word!= password_stored:\n",
        " pass_word=input('Wrong password! Repeat the process:')\n",
        " print('You are all set')\n"
      ],
      "execution_count": 5,
      "outputs": [
        {
          "output_type": "stream",
          "name": "stdout",
          "text": [
            "Enter a new passwordgo\n",
            "Wrong password! Repeat the process:yesw\n",
            "You are all set\n",
            "Wrong password! Repeat the process:chiro\n",
            "You are all set\n"
          ]
        }
      ]
    },
    {
      "cell_type": "code",
      "source": [],
      "metadata": {
        "id": "mQ6MV2ttxPnS"
      },
      "execution_count": 5,
      "outputs": []
    },
    {
      "cell_type": "code",
      "source": [],
      "metadata": {
        "id": "wUTQuNaGgCsP"
      },
      "execution_count": 5,
      "outputs": []
    }
  ]
}
