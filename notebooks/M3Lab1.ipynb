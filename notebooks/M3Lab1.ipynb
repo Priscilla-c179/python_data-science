{
  "nbformat": 4,
  "nbformat_minor": 0,
  "metadata": {
    "colab": {
      "provenance": [],
      "toc_visible": true
    },
    "kernelspec": {
      "name": "python3",
      "display_name": "Python 3"
    },
    "language_info": {
      "name": "python"
    }
  },
  "cells": [
    {
      "cell_type": "markdown",
      "metadata": {
        "id": "cnAUJprJdh9_"
      },
      "source": [
        "# Welcome to our Lab Practice!"
      ]
    },
    {
      "cell_type": "markdown",
      "metadata": {
        "id": "vVYcayGedmms"
      },
      "source": [
        "This lab is about branching - if statements. Are you ready? Let's get started!"
      ]
    },
    {
      "cell_type": "markdown",
      "metadata": {
        "id": "JP8eGBVyeSQx"
      },
      "source": [
        "You will find some small tasks in sections below."
      ]
    },
    {
      "cell_type": "markdown",
      "metadata": {
        "id": "EZ42d1Sue0Zp"
      },
      "source": [
        "###Task: check if a number is even.\n",
        "\n",
        "You should ask the user to enter an integer, if it is an even number, print \"it is even\"; otherwise, print nothing.\n",
        "\n",
        "hint: to test if a number is even, we need to use %2 and check the reminder is 0 or not. If it is 0, then the number is even."
      ]
    },
    {
      "cell_type": "code",
      "metadata": {
        "id": "yDzNIHsSeu85",
        "colab": {
          "base_uri": "https://localhost:8080/"
        },
        "outputId": "4e3b89f9-25ca-4a26-d27b-324ea94fa33b"
      },
      "source": [
        "x=int(input('Please enter a number'))\n",
        "if x % 2 == 0:\n",
        "    print(f\"{x} is even.\")\n",
        "else:\n",
        "    print(f\"{x} is odd.\")"
      ],
      "execution_count": 4,
      "outputs": [
        {
          "output_type": "stream",
          "name": "stdout",
          "text": [
            "Please enter a number34\n",
            "34 is even.\n"
          ]
        }
      ]
    },
    {
      "cell_type": "markdown",
      "metadata": {
        "id": "u8WEYfEqIbWX"
      },
      "source": [
        "###Task: check if a number is odd.\n",
        "\n",
        "Similar to the task above. However, this time, you only print \"It is odd\" when the number entered is odd."
      ]
    },
    {
      "cell_type": "code",
      "metadata": {
        "id": "LKSmcHRRJUYY",
        "colab": {
          "base_uri": "https://localhost:8080/"
        },
        "outputId": "0640f5f1-8f24-41bf-9298-dd8a3fa1a332"
      },
      "source": [
        "x=int(input('please enter a number:'))\n",
        "if x % 2 != 0:\n",
        "    print(f\"{x} is odd.\")\n",
        "else:\n",
        "    print(f\"{x} is even.\")"
      ],
      "execution_count": 7,
      "outputs": [
        {
          "output_type": "stream",
          "name": "stdout",
          "text": [
            "please enter a number:87\n",
            "87 is odd.\n"
          ]
        }
      ]
    },
    {
      "cell_type": "markdown",
      "metadata": {
        "id": "-__o8ovbfSEH"
      },
      "source": [
        "###Task: check if a number is divisible by 6\n",
        "\n",
        "You should ask the user to enter an integer, if it is dividable by 6, print \"It can be divisible by 6\"."
      ]
    },
    {
      "cell_type": "code",
      "metadata": {
        "id": "hOpxhSKog18Y",
        "colab": {
          "base_uri": "https://localhost:8080/"
        },
        "outputId": "db9c69a7-8d62-4711-f7a9-d907a43bfb7e"
      },
      "source": [
        "x=int(input('Enter a number:'))\n",
        "if x % 6 == 0:\n",
        "  print('it is divisible by 6:', x)\n",
        "else:\n",
        "  print(f\"{x} is not divisible by 6.\")"
      ],
      "execution_count": 9,
      "outputs": [
        {
          "output_type": "stream",
          "name": "stdout",
          "text": [
            "Enter a number:42\n",
            "it is divisible by 6: 42\n"
          ]
        }
      ]
    },
    {
      "cell_type": "markdown",
      "metadata": {
        "id": "uZYVZQIvIlPy"
      },
      "source": [
        "###Task: check if an input is 'STOP'  \n",
        "\n",
        "Ask the user to enter some words, and only when the user entered \"STOP\", you print \"Bye\"."
      ]
    },
    {
      "cell_type": "code",
      "metadata": {
        "id": "Y_3dcyvcQ2GI",
        "colab": {
          "base_uri": "https://localhost:8080/"
        },
        "outputId": "a4aea637-2f39-4e54-c8c1-cc0d9adb2b3c"
      },
      "source": [
        "word=str(input('Enter some words:'))\n",
        "if word == \"STOP\":\n",
        "  print('Bye')\n",
        "else:\n",
        "  print(\"Try again\")\n"
      ],
      "execution_count": 16,
      "outputs": [
        {
          "output_type": "stream",
          "name": "stdout",
          "text": [
            "Enter some words:STOP\n",
            "Bye\n"
          ]
        }
      ]
    },
    {
      "cell_type": "markdown",
      "metadata": {
        "id": "qKFwdIypmt5J"
      },
      "source": [
        "### Task: Password Setup\n",
        "\n",
        "*   Ask the user to enter a new password.\n",
        "*   Ask the user to enter the password again.\n",
        "*   If the second input matches the first one, print \"You are all set\"\n"
      ]
    },
    {
      "cell_type": "code",
      "metadata": {
        "id": "6pqvFtl8nHei",
        "colab": {
          "base_uri": "https://localhost:8080/"
        },
        "outputId": "fcda363a-4e44-4f6a-c295-baa49d7365ac"
      },
      "source": [
        "pass_word=str(input('Enter a new password:'))\n",
        "pass_word1=str(input('Enter the password again :'))\n",
        "if pass_word1 == pass_word:\n",
        "    print(\"You are all set\")\n",
        "else:\n",
        "    print('Incorrect password')\n",
        "\n",
        "\n",
        "\n",
        "\n"
      ],
      "execution_count": 17,
      "outputs": [
        {
          "output_type": "stream",
          "name": "stdout",
          "text": [
            "Enter a new password:KAMAUCEGE\n",
            "Enter the password again :KAMAUCEGE\n",
            "You are all set\n"
          ]
        }
      ]
    },
    {
      "cell_type": "code",
      "source": [],
      "metadata": {
        "id": "_q5GgWYGmgWT"
      },
      "execution_count": 17,
      "outputs": []
    }
  ]
}
