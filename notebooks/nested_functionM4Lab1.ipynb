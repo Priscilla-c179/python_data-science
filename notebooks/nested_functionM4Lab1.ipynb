{
  "nbformat": 4,
  "nbformat_minor": 0,
  "metadata": {
    "colab": {
      "provenance": [],
      "toc_visible": true,
      "include_colab_link": true
    },
    "kernelspec": {
      "name": "python3",
      "display_name": "Python 3"
    },
    "language_info": {
      "name": "python"
    }
  },
  "cells": [
    {
      "cell_type": "markdown",
      "metadata": {
        "id": "view-in-github",
        "colab_type": "text"
      },
      "source": [
        "<a href=\"https://colab.research.google.com/github/Priscilla-c179/python_data-science/blob/main/notebooks/nested_functionM4Lab1.ipynb\" target=\"_parent\"><img src=\"https://colab.research.google.com/assets/colab-badge.svg\" alt=\"Open In Colab\"/></a>"
      ]
    },
    {
      "cell_type": "markdown",
      "metadata": {
        "id": "cnAUJprJdh9_"
      },
      "source": [
        "# Welcome to our Lab Practice!"
      ]
    },
    {
      "cell_type": "markdown",
      "metadata": {
        "id": "vVYcayGedmms"
      },
      "source": [
        "This lab is all about defining nested functions. Are you ready? Let's get started!"
      ]
    },
    {
      "cell_type": "markdown",
      "metadata": {
        "id": "JP8eGBVyeSQx"
      },
      "source": [
        "You will find some small tasks in sections below. After defining functions, call them to test."
      ]
    },
    {
      "cell_type": "markdown",
      "metadata": {
        "id": "D8pWdoN7d6Dy"
      },
      "source": [
        "## Define nestted functions."
      ]
    },
    {
      "cell_type": "markdown",
      "source": [
        "###Task: Calculator\n",
        "\n",
        "1.   Define a function that ask the user to input a number\n",
        "2.   Define a function that computes the sum of two numbers\n",
        "3.   Define a function that computes the substraction of two numbers\n",
        "4.   Define a function that computes the product of two numbers\n",
        "5.   Define a function that computes the division of two numbers\n",
        "6.   Define a function that print the arithmetic operation result of two numbers by calling functions defined above\n",
        "\n",
        "\n"
      ],
      "metadata": {
        "id": "TTqVA_ew48Sn"
      }
    },
    {
      "cell_type": "code",
      "source": [
        "def  input_num():\n",
        "  num=int(input('Enter a number:'))\n",
        "  return num\n",
        "\n",
        "input_num()"
      ],
      "metadata": {
        "id": "4l8oECs25O26",
        "colab": {
          "base_uri": "https://localhost:8080/"
        },
        "outputId": "9cb16c85-5673-4623-ad66-a2400b0f2cbc"
      },
      "execution_count": 3,
      "outputs": [
        {
          "name": "stdout",
          "output_type": "stream",
          "text": [
            "Enter a number:56\n"
          ]
        },
        {
          "output_type": "execute_result",
          "data": {
            "text/plain": [
              "56"
            ]
          },
          "metadata": {},
          "execution_count": 3
        }
      ]
    },
    {
      "cell_type": "code",
      "source": [
        "def add_num(x,y):\n",
        "  return x+y\n",
        "\n",
        "add_num(4,5)"
      ],
      "metadata": {
        "colab": {
          "base_uri": "https://localhost:8080/"
        },
        "id": "nsFH58IYegiv",
        "outputId": "57b47d86-b03a-4257-c257-b2c8d3e92d09"
      },
      "execution_count": 5,
      "outputs": [
        {
          "output_type": "execute_result",
          "data": {
            "text/plain": [
              "9"
            ]
          },
          "metadata": {},
          "execution_count": 5
        }
      ]
    },
    {
      "cell_type": "code",
      "source": [
        "def sabu_num(x,y):\n",
        "  return x-y\n",
        "\n",
        "sabu_num(6,4)"
      ],
      "metadata": {
        "colab": {
          "base_uri": "https://localhost:8080/"
        },
        "id": "QV4SuAkXe5mF",
        "outputId": "a7ec514e-12e6-48d8-9c11-98d0aa406cb2"
      },
      "execution_count": 7,
      "outputs": [
        {
          "output_type": "execute_result",
          "data": {
            "text/plain": [
              "2"
            ]
          },
          "metadata": {},
          "execution_count": 7
        }
      ]
    },
    {
      "cell_type": "code",
      "source": [
        "# Define a function that computes the product of two numbers\n",
        "\n",
        "def product_of_num(x,y):\n",
        "  return x*y\n",
        "\n",
        "product_of_num(9,3)"
      ],
      "metadata": {
        "colab": {
          "base_uri": "https://localhost:8080/"
        },
        "id": "y2r6IMvDfTuF",
        "outputId": "6b9fbced-5e1e-4745-e87b-cc7c71aedb93"
      },
      "execution_count": 8,
      "outputs": [
        {
          "output_type": "execute_result",
          "data": {
            "text/plain": [
              "27"
            ]
          },
          "metadata": {},
          "execution_count": 8
        }
      ]
    },
    {
      "cell_type": "code",
      "source": [
        "#Define a function that computes the division of two numbers\n",
        "\n",
        "def divide_num(x,y):\n",
        "  return x/y\n",
        "\n",
        "divide_num(13,9)"
      ],
      "metadata": {
        "colab": {
          "base_uri": "https://localhost:8080/"
        },
        "id": "FOpN-dbwfwAb",
        "outputId": "f9e051d6-5fda-45df-c3f3-4db31ee9a72a"
      },
      "execution_count": 9,
      "outputs": [
        {
          "output_type": "execute_result",
          "data": {
            "text/plain": [
              "1.4444444444444444"
            ]
          },
          "metadata": {},
          "execution_count": 9
        }
      ]
    },
    {
      "cell_type": "code",
      "source": [
        "# Define a function that print the arithmetic operation result of two numbers by calling functions defined above\n",
        "\n",
        "def print_out_result(x,y):\n",
        "  print(f'The sum of {x} and {y} is {add_num(x,y)}')\n",
        "  print(f'The substraction of {x} and {y} is {sabu_num(x,y)}')\n",
        "  print(f'the product of {x} and {y} is {product_of_num(x,y)}')\n",
        "  print(f'the division of {x} and {y} is {divide_num(x,y)}')\n",
        "\n",
        "print_out_result(5,8)\n"
      ],
      "metadata": {
        "colab": {
          "base_uri": "https://localhost:8080/"
        },
        "id": "Azo8CYIkgImy",
        "outputId": "8258b3d9-7f91-4714-f6da-ab7d3c6beccd"
      },
      "execution_count": 10,
      "outputs": [
        {
          "output_type": "stream",
          "name": "stdout",
          "text": [
            "The sum of 5 and 8 is 13\n",
            "The substraction of 5 and 8 is -3\n",
            "the product of 5 and 8 is 40\n",
            "the division of 5 and 8 is 0.625\n"
          ]
        }
      ]
    },
    {
      "cell_type": "markdown",
      "source": [
        "###Task: Statistics\n",
        "\n",
        "1.   Define a function that ask the user to input a number\n",
        "2.   Define a function that computes the min of three numbers\n",
        "3.   Define a function that computes the max of three numbers\n",
        "4.   Define a function that computes the total of three numbers\n",
        "5.   Define a function that computes the average of three numbers\n",
        "6.   Define a function that print the statistics of the three numbers by calling functions defineda bove"
      ],
      "metadata": {
        "id": "9hfJ0kha5G_A"
      }
    },
    {
      "cell_type": "code",
      "source": [
        "# Define a function that ask the user to input a number\n",
        "def num_input():\n",
        "  num=int(input('Enter a number'))\n",
        "  return num\n",
        "\n",
        "\n",
        "num_input()"
      ],
      "metadata": {
        "id": "qL379kld5PX0",
        "colab": {
          "base_uri": "https://localhost:8080/"
        },
        "outputId": "a8a09b0a-89e5-4877-e4c1-8f377aadff05"
      },
      "execution_count": 4,
      "outputs": [
        {
          "name": "stdout",
          "output_type": "stream",
          "text": [
            "Enter a number4\n"
          ]
        },
        {
          "output_type": "execute_result",
          "data": {
            "text/plain": [
              "4"
            ]
          },
          "metadata": {},
          "execution_count": 4
        }
      ]
    },
    {
      "cell_type": "code",
      "source": [
        "# Define a function that computes the min of three numbers\n",
        "def min_number(k,l,m):\n",
        "  return min(k,l,m)\n",
        "\n",
        "min_number(3,4,5)"
      ],
      "metadata": {
        "colab": {
          "base_uri": "https://localhost:8080/"
        },
        "id": "Eudioyebl4V2",
        "outputId": "4b2abe4a-8aba-4e6c-ed92-37d3a429ea34"
      },
      "execution_count": 5,
      "outputs": [
        {
          "output_type": "execute_result",
          "data": {
            "text/plain": [
              "3"
            ]
          },
          "metadata": {},
          "execution_count": 5
        }
      ]
    },
    {
      "cell_type": "code",
      "source": [
        "# Define a function that computes the max of three numbers\n",
        "def max_of_numbers(x,y,z):\n",
        "  return max(x,y,z)\n",
        "\n",
        "max_of_numbers(4,5,6)"
      ],
      "metadata": {
        "colab": {
          "base_uri": "https://localhost:8080/"
        },
        "id": "-8nMouUqmVHG",
        "outputId": "364ec1d4-22e2-4658-a208-18ad0106e816"
      },
      "execution_count": 6,
      "outputs": [
        {
          "output_type": "execute_result",
          "data": {
            "text/plain": [
              "6"
            ]
          },
          "metadata": {},
          "execution_count": 6
        }
      ]
    },
    {
      "cell_type": "code",
      "source": [
        "# Define a function that computes the total of three numbers\n",
        "def total_of_numbers(x,y,z):\n",
        "  return x+y+z\n",
        "\n",
        "total_of_numbers(4,5,6)"
      ],
      "metadata": {
        "colab": {
          "base_uri": "https://localhost:8080/"
        },
        "id": "b1geoTZgmtG2",
        "outputId": "2330cd52-8c38-47ac-8687-f6dca0eae0e6"
      },
      "execution_count": 7,
      "outputs": [
        {
          "output_type": "execute_result",
          "data": {
            "text/plain": [
              "15"
            ]
          },
          "metadata": {},
          "execution_count": 7
        }
      ]
    },
    {
      "cell_type": "code",
      "source": [
        "# Define a function that computes the average of three numbers\n",
        "def avg_numbers(x,y,z):\n",
        "  return((x+y+z)/3)\n",
        "\n",
        "avg_numbers(4,7,8)"
      ],
      "metadata": {
        "colab": {
          "base_uri": "https://localhost:8080/"
        },
        "id": "7FP7CVcHm3IY",
        "outputId": "ca924daf-cb40-4d50-f05e-eaffb4d43393"
      },
      "execution_count": 8,
      "outputs": [
        {
          "output_type": "execute_result",
          "data": {
            "text/plain": [
              "6.333333333333333"
            ]
          },
          "metadata": {},
          "execution_count": 8
        }
      ]
    },
    {
      "cell_type": "code",
      "source": [
        "# Define a function that print the statistics of the three numbers by calling functions defined above\n",
        "\n",
        "def arithmetic_results():\n",
        "  x=num_input()\n",
        "  y=num_input()\n",
        "  z=num_input()\n",
        "  print(f'The min of {x},{y},{z} is {min_number(x,y,z)}')\n",
        "  print(f'The max of {x},{y},{z} is {max_of_numbers(x,y,z)}')\n",
        "  print(f'The total of {x},{y},{z} is {total_of_numbers(x,y,z)}')\n",
        "  print(f'The average of {x},{y},{z} is {avg_numbers(x,y,z)}')\n",
        "\n",
        "arithmetic_results()\n",
        ""
      ],
      "metadata": {
        "colab": {
          "base_uri": "https://localhost:8080/"
        },
        "id": "YfKQUPMPncJ0",
        "outputId": "e85dc444-4ee9-49e4-f766-677c64777719"
      },
      "execution_count": 9,
      "outputs": [
        {
          "output_type": "stream",
          "name": "stdout",
          "text": [
            "Enter a number5\n",
            "Enter a number8\n",
            "Enter a number9\n",
            "The min of 5,8,9 is 5\n",
            "The max of 5,8,9 is 9\n",
            "The total of 5,8,9 is 22\n",
            "The average of 5,8,9 is 7.333333333333333\n"
          ]
        }
      ]
    },
    {
      "cell_type": "markdown",
      "metadata": {
        "id": "rXgbUIBRgQoG"
      },
      "source": [
        "###Task: Simple Calculator\n",
        "\n",
        "\n",
        "1.   Define a function that increment an integer x by 1, x is a parameter\n",
        "2.   Define a function that decrement an integer x by 1, x is a parameter\n",
        "3.   Define a function that computes *x* $+$ *y* by using functions defined above, where x and y are parameters and you cannot directly use x $+$ y in your definition.\n",
        "4.   Define a function that computes *x* $-$ *y* by using functions defined above, where x and y are parameters and you cannot directly use x $-$ y in your definition.\n",
        "5.   Define a function that computes *x* $\\times$ *y* by using functions defined above, where x and y are parameters and you cannot directly use x * y in your definition.\n",
        "6.   Define a function that computes *x* $**$ *y* by using functios defined above, where x and y are parameters and you cannot directly use *x* $**$ *y* in your definition\n",
        "7.   Define a function that takes two arguments, x and y, and print the addition (x $+$ y), substraction(x $-$ y), product(x $\\times$ y), and exponent(x**y) of these two arguments"
      ]
    },
    {
      "cell_type": "code",
      "metadata": {
        "id": "oIKwmW2mfe3d",
        "colab": {
          "base_uri": "https://localhost:8080/"
        },
        "outputId": "0970b46d-c86f-4916-f464-e50a4f453e32"
      },
      "source": [
        "#Define a function that increment an integer x by 1, x is a parameter\n",
        "def increment_integr(x):\n",
        "  return x+1\n",
        "\n",
        "increment_integr(7)"
      ],
      "execution_count": 12,
      "outputs": [
        {
          "output_type": "execute_result",
          "data": {
            "text/plain": [
              "8"
            ]
          },
          "metadata": {},
          "execution_count": 12
        }
      ]
    },
    {
      "cell_type": "code",
      "source": [
        "# Define a function that decrement an integer x by 1, x is a parameter\n",
        "def decrement_integr(x):\n",
        "  return x-1\n",
        "\n",
        "decrement_integr(7)"
      ],
      "metadata": {
        "colab": {
          "base_uri": "https://localhost:8080/"
        },
        "id": "aADOAkzvr4S9",
        "outputId": "761c511a-39cf-41b7-a386-67ab8aa3c3fb"
      },
      "execution_count": 13,
      "outputs": [
        {
          "output_type": "execute_result",
          "data": {
            "text/plain": [
              "6"
            ]
          },
          "metadata": {},
          "execution_count": 13
        }
      ]
    },
    {
      "cell_type": "code",
      "source": [
        "# Define a function that computes x  +  y by using functions defined above, where x and y are parameters and you cannot directly use x  +  y in your definition.\n",
        "def addition_integr(x,y):\n",
        "  return increment_integr(x) +increment_integr(y)\n",
        "\n",
        "addition_integr(8,2)"
      ],
      "metadata": {
        "colab": {
          "base_uri": "https://localhost:8080/"
        },
        "id": "Qhiv6yqq5TgE",
        "outputId": "6fe5a763-fc81-4987-d259-f0c89b77b9e2"
      },
      "execution_count": 14,
      "outputs": [
        {
          "output_type": "execute_result",
          "data": {
            "text/plain": [
              "12"
            ]
          },
          "metadata": {},
          "execution_count": 14
        }
      ]
    },
    {
      "cell_type": "code",
      "source": [
        "# Define a function that computes x  −  y by using functions defined above, where x and y are parameters and you cannot directly use x  −  y in your definition.\n",
        "\n",
        "def subtraction_intgr(x,y):\n",
        "  return decrement_integr(x)-decrement_integr(y)\n",
        "\n",
        "subtraction_intgr(9,3)"
      ],
      "metadata": {
        "colab": {
          "base_uri": "https://localhost:8080/"
        },
        "id": "RUWqM2wV59LU",
        "outputId": "cf2f374a-cb7e-4f74-c5db-d50c15c64f70"
      },
      "execution_count": 15,
      "outputs": [
        {
          "output_type": "execute_result",
          "data": {
            "text/plain": [
              "6"
            ]
          },
          "metadata": {},
          "execution_count": 15
        }
      ]
    },
    {
      "cell_type": "code",
      "source": [
        "# Define a function that computes x  ×  y by using functions defined above, where x and y are parameters and you cannot directly use x * y in your definition.\n",
        "\n",
        "def multiply_integr(x,y):\n",
        "  return increment_integr(x)*increment_integr(y)\n",
        "\n",
        "multiply_integr(9,7)"
      ],
      "metadata": {
        "colab": {
          "base_uri": "https://localhost:8080/"
        },
        "id": "IXe3m9vy6mI3",
        "outputId": "3d635957-241b-4caf-be14-8eeaebd38e27"
      },
      "execution_count": 16,
      "outputs": [
        {
          "output_type": "execute_result",
          "data": {
            "text/plain": [
              "80"
            ]
          },
          "metadata": {},
          "execution_count": 16
        }
      ]
    },
    {
      "cell_type": "code",
      "source": [
        "# Define a function that computes x  ∗∗  y by using functios defined above, where x and y are parameters and you cannot directly use x  ∗∗  y in your definition\n",
        "\n",
        "def exponetial_of_intgr(x,y):\n",
        "  return decrement_integr(x)** decrement_integr(y)\n",
        "\n",
        "exponetial_of_intgr(5,8)"
      ],
      "metadata": {
        "colab": {
          "base_uri": "https://localhost:8080/"
        },
        "id": "0GWKyrCJ7Did",
        "outputId": "a069cd47-b530-4ad7-b879-62a14020f4bb"
      },
      "execution_count": 17,
      "outputs": [
        {
          "output_type": "execute_result",
          "data": {
            "text/plain": [
              "16384"
            ]
          },
          "metadata": {},
          "execution_count": 17
        }
      ]
    },
    {
      "cell_type": "code",
      "source": [
        "# Define a function that takes two arguments, x and y, and print the addition (x  +  y), substraction(x  −  y), product(x  ×  y), and exponent(x**y) of these two arguments\n",
        "def results_of_computations(x,y):\n",
        "  print('The addition of x and y is:' ,addition_integr(x,y))\n",
        "  print('The substraction of x and y is:' ,subtraction_intgr(x,y))\n",
        "  print('The product of x and y is:' ,multiply_integr(x,y))\n",
        "  print('The exponent of x and y is:' ,exponetial_of_intgr(x,y))\n",
        "\n",
        "results_of_computations(6,9)\n"
      ],
      "metadata": {
        "colab": {
          "base_uri": "https://localhost:8080/"
        },
        "id": "R3KRRHhP7mvH",
        "outputId": "bc632539-c16f-4ea5-d8f2-47592e433e27"
      },
      "execution_count": 19,
      "outputs": [
        {
          "output_type": "stream",
          "name": "stdout",
          "text": [
            "The addition of x and y is: 17\n",
            "The substraction of x and y is: -3\n",
            "The product of x and y is: 70\n",
            "The exponent of x and y is: 390625\n"
          ]
        }
      ]
    },
    {
      "cell_type": "code",
      "source": [],
      "metadata": {
        "id": "6qbDkzQjQAVJ"
      },
      "execution_count": null,
      "outputs": []
    }
  ]
}