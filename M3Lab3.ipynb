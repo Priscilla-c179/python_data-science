{
  "nbformat": 4,
  "nbformat_minor": 0,
  "metadata": {
    "colab": {
      "provenance": [],
      "toc_visible": true
    },
    "kernelspec": {
      "name": "python3",
      "display_name": "Python 3"
    },
    "language_info": {
      "name": "python"
    }
  },
  "cells": [
    {
      "cell_type": "markdown",
      "metadata": {
        "id": "cnAUJprJdh9_"
      },
      "source": [
        "# Welcome to our Lab Practice!"
      ]
    },
    {
      "cell_type": "markdown",
      "metadata": {
        "id": "vVYcayGedmms"
      },
      "source": [
        "This lab is about branching - if-elif-else statements. Are you ready? Let's get started!"
      ]
    },
    {
      "cell_type": "markdown",
      "metadata": {
        "id": "JP8eGBVyeSQx"
      },
      "source": [
        "You will find some small tasks in sections below."
      ]
    },
    {
      "cell_type": "markdown",
      "metadata": {
        "id": "EZ42d1Sue0Zp"
      },
      "source": [
        "###Task: check if a number is positive, negative, or 0.\n",
        "\n",
        "You should ask the user to enter a number, if it is above 0, print \"It is positive\"; if it is below 0, print \"It is negative\"; otherwise, print \"It is zero\"."
      ]
    },
    {
      "cell_type": "code",
      "metadata": {
        "id": "yDzNIHsSeu85",
        "colab": {
          "base_uri": "https://localhost:8080/"
        },
        "outputId": "ef0a9fd3-5eca-498c-a7b4-a4055c37a0cc"
      },
      "source": [
        "num=int(input('Enter a number[-0,10]:'))\n",
        "if num >0:\n",
        "  print('It is positive')\n",
        "elif num < 0 :\n",
        "    print('It is negative')\n",
        "else:\n",
        "  print('It is zero')"
      ],
      "execution_count": 5,
      "outputs": [
        {
          "output_type": "stream",
          "name": "stdout",
          "text": [
            "Enter a number[-0,10]:-3\n",
            "It is negative\n"
          ]
        }
      ]
    },
    {
      "cell_type": "markdown",
      "metadata": {
        "id": "u8WEYfEqIbWX"
      },
      "source": [
        "###Task: check how many days current month has.\n",
        "\n",
        "You should ask the user to enter the number indicating the current month, such as 1 as Janurary; then print the days the month has, such as print 31 if the user entered 1. Let's assume there are 28 days in February."
      ]
    },
    {
      "cell_type": "code",
      "metadata": {
        "id": "LKSmcHRRJUYY",
        "colab": {
          "base_uri": "https://localhost:8080/"
        },
        "outputId": "be6b2f8d-e53b-4fa3-b304-a1c01f956547"
      },
      "source": [
        "num_month=int(input('Enter number indicating current month,[1,12]:'))\n",
        "if num_month== 1 or num_month == 3 or num_month== 5 or num_month==7 or num_month==8 or num_month==10 or num_month== 12:\n",
        "   print('this months has 31 days')\n",
        "elif num_month == 4 or num_month==6 or num_month==9 or num_month== 11:\n",
        "  print(num_month,\"has 30 days\")\n",
        "elif num_month == 2:\n",
        "  print('This is the Only month with 28/29 days')\n",
        "else:\n",
        "    print('All  months except February has more than 29 days ')\n"
      ],
      "execution_count": 21,
      "outputs": [
        {
          "output_type": "stream",
          "name": "stdout",
          "text": [
            "Enter number indicating current month,[1,12]:7\n",
            "this months has 31 days\n"
          ]
        }
      ]
    },
    {
      "cell_type": "markdown",
      "metadata": {
        "id": "-__o8ovbfSEH"
      },
      "source": [
        "###Task: collect parking fee\n",
        "\n",
        "A parking garage has following price policy\n",
        "\n",
        "\n",
        "1.   first half hour: 5\n",
        "2.   second half hour to 2 hours: 15\n",
        "3.   more than 2 hours: 5 per hour\n",
        "\n",
        "Ask the user to enter the hours of parking (it should be a float number, such as 1.6 as 1.6 hours), and calculate the parking fee.\n",
        "\n"
      ]
    },
    {
      "cell_type": "code",
      "metadata": {
        "id": "hOpxhSKog18Y",
        "colab": {
          "base_uri": "https://localhost:8080/"
        },
        "outputId": "dd6892ec-3f2f-4ace-e38c-15110d62caa6"
      },
      "source": [
        "parking_rates_hrs= float(input(\"Enter hours of parking,[30minutes- 2000 hrs ]\"))\n",
        "if parking_rates_hrs <= 0.5:\n",
        "    payment=5\n",
        "elif parking_rates_hrs<=2:\n",
        "     payment=15\n",
        "else:\n",
        "   parking_rates_hrs > 2\n",
        "   extrahrs=(parking_rates_hrs-2)\n",
        "   payment= 15+(extrahrs *5)\n",
        "print(f\"payment fee: ${payment}\")\n",
        "\n",
        "\n",
        "\n",
        "\n",
        "\n",
        "\n",
        "\n"
      ],
      "execution_count": 35,
      "outputs": [
        {
          "output_type": "stream",
          "name": "stdout",
          "text": [
            "Enter hours of parking,[30minutes- 2000 hrs ]2\n",
            "payment fee: $15\n"
          ]
        }
      ]
    },
    {
      "cell_type": "markdown",
      "metadata": {
        "id": "uZYVZQIvIlPy"
      },
      "source": [
        "###Task: What stage are you in?  \n",
        "\n",
        "Write a program that asks the user to enter a person’s age. The program should display a message indicating whether the person is an infant, a child, a teenager, an adult, or a senior citizen.\n",
        "\n",
        "Following are the guidelines:\n",
        "1.   If the person is 1 year old or less, he or she is an infant.\n",
        "1.   If the person is older than 1 year, but younger than 13 years, he or she is a child.\n",
        "1.   If the person is at least 13 years old, but less than 20 years old, he or she is a teenager.\n",
        "1.   If the person is at least 20 years old, but less than 65 years old, he or she is an adult.\n",
        "1.   Otherwise the person is a senior citizen."
      ]
    },
    {
      "cell_type": "code",
      "metadata": {
        "id": "Y_3dcyvcQ2GI",
        "colab": {
          "base_uri": "https://localhost:8080/"
        },
        "outputId": "3071d39c-c437-4ad9-c2a1-54d87a49b8f8"
      },
      "source": [
        "person=int(input('Enter a person\\'s age'))\n",
        "if person <=1:\n",
        "   person='infant'\n",
        "if person <=13:\n",
        "   person='child'\n",
        "elif person <=20:\n",
        "   person ='teenager'\n",
        "elif person <65:\n",
        "   person ='adult'\n",
        "else:\n",
        "  'person is a senior citizen'\n",
        "print(f\"person is : {person}\")"
      ],
      "execution_count": 53,
      "outputs": [
        {
          "output_type": "stream",
          "name": "stdout",
          "text": [
            "Enter a person's age43\n",
            "person is : adult\n"
          ]
        }
      ]
    },
    {
      "cell_type": "code",
      "source": [],
      "metadata": {
        "id": "t_r9z20qFZgH"
      },
      "execution_count": 52,
      "outputs": []
    }
  ]
}