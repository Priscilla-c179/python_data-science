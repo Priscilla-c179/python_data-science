{
  "nbformat": 4,
  "nbformat_minor": 0,
  "metadata": {
    "colab": {
      "provenance": [],
      "toc_visible": true,
      "include_colab_link": true
    },
    "kernelspec": {
      "name": "python3",
      "display_name": "Python 3"
    },
    "language_info": {
      "name": "python"
    }
  },
  "cells": [
    {
      "cell_type": "markdown",
      "metadata": {
        "id": "view-in-github",
        "colab_type": "text"
      },
      "source": [
        "<a href=\"https://colab.research.google.com/github/Priscilla-c179/python_data-science/blob/main/functionmultiparameters.ipynb\" target=\"_parent\"><img src=\"https://colab.research.google.com/assets/colab-badge.svg\" alt=\"Open In Colab\"/></a>"
      ]
    },
    {
      "cell_type": "markdown",
      "metadata": {
        "id": "cnAUJprJdh9_"
      },
      "source": [
        "# Welcome to our Lab Practice! : Priscilla Wanjiru\n"
      ]
    },
    {
      "cell_type": "markdown",
      "metadata": {
        "id": "vVYcayGedmms"
      },
      "source": [
        "This lab is all about defining functions with multiple parameters. Are you ready? Let's go!"
      ]
    },
    {
      "cell_type": "markdown",
      "metadata": {
        "id": "JP8eGBVyeSQx"
      },
      "source": [
        "You will find some small tasks in sections below. After defining functions, call them to test."
      ]
    },
    {
      "cell_type": "markdown",
      "source": [
        "###Task: define a function that print \"*message*\" *n* times, where *message* and *n* are parameters"
      ],
      "metadata": {
        "id": "MBpHkOhIfmrY"
      }
    },
    {
      "cell_type": "code",
      "source": [
        "def print_msg(message,n):\n",
        "  print([message] * n)\n",
        "\n",
        "print_msg('Am grateful',4)"
      ],
      "metadata": {
        "id": "Orw6NIIef0Wp",
        "colab": {
          "base_uri": "https://localhost:8080/"
        },
        "outputId": "d5f87151-7122-4079-b78a-20a8cf19fe53"
      },
      "execution_count": 19,
      "outputs": [
        {
          "output_type": "stream",
          "name": "stdout",
          "text": [
            "['Am grateful', 'Am grateful', 'Am grateful', 'Am grateful']\n"
          ]
        }
      ]
    },
    {
      "cell_type": "code",
      "source": [
        "# use of _ instead of i\n",
        "\n",
        "def print_message(message, n):\n",
        "  for _ in range(n):\n",
        "    print(message)\n",
        "print_message(\"God is able\" ,4)\n"
      ],
      "metadata": {
        "colab": {
          "base_uri": "https://localhost:8080/"
        },
        "id": "igUxlaKtK_aj",
        "outputId": "1cde9dc3-70af-4d86-cb83-f3faa1f85dc0"
      },
      "execution_count": 11,
      "outputs": [
        {
          "output_type": "stream",
          "name": "stdout",
          "text": [
            "God is able\n",
            "God is able\n",
            "God is able\n",
            "God is able\n"
          ]
        }
      ]
    },
    {
      "cell_type": "markdown",
      "source": [
        "###Task: define a function that print integers *n*  to *m* (hint: you can use a for loop), where *n* and *m* are parameters, and *n < m*.\n",
        "\n",
        "Challenge: Can you write a program that doesn't require *n < m*?"
      ],
      "metadata": {
        "id": "DVjL6nU0f2Z_"
      }
    },
    {
      "cell_type": "code",
      "source": [
        "def print_integers(n,m):\n",
        "  for _ in range(n, m+1):\n",
        "    print(_)\n",
        "print_integers(4,8)\n",
        "\n",
        "\n",
        "\n"
      ],
      "metadata": {
        "id": "2iYaPzVSghML",
        "colab": {
          "base_uri": "https://localhost:8080/"
        },
        "outputId": "29828a74-919a-4c39-c3fc-e6c41d712916"
      },
      "execution_count": 21,
      "outputs": [
        {
          "output_type": "stream",
          "name": "stdout",
          "text": [
            "4\n",
            "5\n",
            "6\n",
            "7\n",
            "8\n"
          ]
        }
      ]
    },
    {
      "cell_type": "markdown",
      "source": [
        "###Task: define a function that print the sum of *n*  to *m*, where *n, m* are parameters, and *n* < *m*."
      ],
      "metadata": {
        "id": "YhJrQh4eghzb"
      }
    },
    {
      "cell_type": "code",
      "source": [
        "def print_sums(n,m):\n",
        "  sum=0\n",
        "  for _ in range(n, m+1):\n",
        "    sum+=_\n",
        "  print('sum from', n ,'to', m ,'is: ', sum)\n",
        "print_sums(2,10)"
      ],
      "metadata": {
        "id": "n2Mm6RVYgwOq",
        "colab": {
          "base_uri": "https://localhost:8080/"
        },
        "outputId": "891768b7-cb6e-4c0a-a9cf-7f04d80c0a68"
      },
      "execution_count": 31,
      "outputs": [
        {
          "output_type": "stream",
          "name": "stdout",
          "text": [
            "sum from 2 to 10 is:  54\n"
          ]
        }
      ]
    },
    {
      "cell_type": "markdown",
      "source": [
        "###Task: define a function that print the AND logical operation of *condition1* and *condition 2*, where *condition1, condition2* are parameters."
      ],
      "metadata": {
        "id": "LzU4n3lDgzMR"
      }
    },
    {
      "cell_type": "code",
      "source": [
        "def  and_logic(condition1, condition2):\n",
        "  print(condition1 and condition2)\n",
        "and_logic(True, False)\n",
        "and_logic(True,True)\n"
      ],
      "metadata": {
        "colab": {
          "base_uri": "https://localhost:8080/"
        },
        "id": "G1h_RsO9bEDC",
        "outputId": "a4a57441-2c2f-47c0-bb8d-02d08580df02"
      },
      "execution_count": 38,
      "outputs": [
        {
          "output_type": "stream",
          "name": "stdout",
          "text": [
            "False\n",
            "True\n"
          ]
        }
      ]
    },
    {
      "cell_type": "code",
      "source": [
        "# your code will be here"
      ],
      "metadata": {
        "id": "aoARtrf-hEJR"
      },
      "execution_count": null,
      "outputs": []
    },
    {
      "cell_type": "markdown",
      "source": [
        "###Task: define a function that print if *n* is dividible by *m*, where *n, m* are parameters."
      ],
      "metadata": {
        "id": "WLCfkBtOhEfa"
      }
    },
    {
      "cell_type": "code",
      "source": [
        "def divide_function(n,m):\n",
        "  if n % m  == 0:\n",
        "     print('n is dividible by m')\n",
        "  else:\n",
        "    print('n is not dividible by m')\n",
        "divide_function(19,3)"
      ],
      "metadata": {
        "id": "h_aYoPmWhPRL",
        "colab": {
          "base_uri": "https://localhost:8080/"
        },
        "outputId": "7e5cf69d-0780-442e-d102-17a2fe5a61e4"
      },
      "execution_count": 36,
      "outputs": [
        {
          "output_type": "stream",
          "name": "stdout",
          "text": [
            "n is not dividible by m\n"
          ]
        }
      ]
    },
    {
      "cell_type": "markdown",
      "source": [
        "###Task: define a function that print the minimal number from *x, y, z*, where *x, y, z* are parameters"
      ],
      "metadata": {
        "id": "RNil8H04hUDq"
      }
    },
    {
      "cell_type": "code",
      "source": [
        "def min_num(x,y,z):\n",
        "  print('minimal number is:' ,min(x,y,z))\n",
        "\n",
        "min_num(90,13.2,10)"
      ],
      "metadata": {
        "id": "HaZfxaajhhn8",
        "colab": {
          "base_uri": "https://localhost:8080/"
        },
        "outputId": "6b64d035-d633-44bc-f427-7b6507e2cadf"
      },
      "execution_count": 37,
      "outputs": [
        {
          "output_type": "stream",
          "name": "stdout",
          "text": [
            "minimal number is: 10\n"
          ]
        }
      ]
    },
    {
      "cell_type": "code",
      "source": [],
      "metadata": {
        "id": "7l9V-HSHd6yt"
      },
      "execution_count": null,
      "outputs": []
    }
  ]
}