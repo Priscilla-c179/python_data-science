{
  "nbformat": 4,
  "nbformat_minor": 0,
  "metadata": {
    "colab": {
      "provenance": [],
      "toc_visible": true,
      "include_colab_link": true
    },
    "kernelspec": {
      "name": "python3",
      "display_name": "Python 3"
    },
    "language_info": {
      "name": "python"
    }
  },
  "cells": [
    {
      "cell_type": "markdown",
      "metadata": {
        "id": "view-in-github",
        "colab_type": "text"
      },
      "source": [
        "<a href=\"https://colab.research.google.com/github/Priscilla-c179/python_data-science/blob/main/function_return_values.ipynb\" target=\"_parent\"><img src=\"https://colab.research.google.com/assets/colab-badge.svg\" alt=\"Open In Colab\"/></a>"
      ]
    },
    {
      "cell_type": "markdown",
      "metadata": {
        "id": "cnAUJprJdh9_"
      },
      "source": [
        "# Welcome to our third Lab Practice!"
      ]
    },
    {
      "cell_type": "markdown",
      "metadata": {
        "id": "vVYcayGedmms"
      },
      "source": [
        "This lab is all about defining functions with return values. Are you ready? Let's get started!"
      ]
    },
    {
      "cell_type": "markdown",
      "metadata": {
        "id": "JP8eGBVyeSQx"
      },
      "source": [
        "You will find some small tasks in sections below. After defining functions, call them to test."
      ]
    },
    {
      "cell_type": "markdown",
      "metadata": {
        "id": "D8pWdoN7d6Dy"
      },
      "source": [
        "## Define functions with return numeric values."
      ]
    },
    {
      "cell_type": "markdown",
      "source": [
        "###Task: define a function that return the absolute value of *n*, where *n* is a parameter"
      ],
      "metadata": {
        "id": "TTqVA_ew48Sn"
      }
    },
    {
      "cell_type": "code",
      "source": [
        "def absolute_value(n):\n",
        "  if n < 0 :\n",
        "    return -n\n",
        "  else:\n",
        "    return n\n",
        "absolute_value(7)\n"
      ],
      "metadata": {
        "id": "4l8oECs25O26",
        "colab": {
          "base_uri": "https://localhost:8080/"
        },
        "outputId": "7b75ec09-dd3d-4058-8f01-b087e0d10fa0"
      },
      "execution_count": null,
      "outputs": [
        {
          "output_type": "execute_result",
          "data": {
            "text/plain": [
              "7"
            ]
          },
          "metadata": {},
          "execution_count": 3
        }
      ]
    },
    {
      "cell_type": "markdown",
      "source": [
        "###Task: define a function that return the product value of *n* and *m*, where *n, m* are parameters"
      ],
      "metadata": {
        "id": "9hfJ0kha5G_A"
      }
    },
    {
      "cell_type": "code",
      "source": [
        "def product_value(n,m):\n",
        "  return(m*n)\n",
        "product_value(9,7)"
      ],
      "metadata": {
        "id": "qL379kld5PX0",
        "colab": {
          "base_uri": "https://localhost:8080/"
        },
        "outputId": "93f519de-16b4-4176-b483-8b452b3b2fbf"
      },
      "execution_count": null,
      "outputs": [
        {
          "output_type": "execute_result",
          "data": {
            "text/plain": [
              "63"
            ]
          },
          "metadata": {},
          "execution_count": 5
        }
      ]
    },
    {
      "cell_type": "markdown",
      "source": [
        "###Task: define a function that return the result of raise *n* to the power of *m*, where *n, m* are parameters"
      ],
      "metadata": {
        "id": "OMTGtjW15P17"
      }
    },
    {
      "cell_type": "code",
      "source": [
        "def raise_power(n,m):\n",
        "  return(n**m)\n",
        "raise_power(24,6)"
      ],
      "metadata": {
        "id": "DgxIaShR5XTE",
        "colab": {
          "base_uri": "https://localhost:8080/"
        },
        "outputId": "f7f950fb-7900-48c3-e1b9-4aef98d2a2c2"
      },
      "execution_count": null,
      "outputs": [
        {
          "output_type": "execute_result",
          "data": {
            "text/plain": [
              "191102976"
            ]
          },
          "metadata": {},
          "execution_count": 6
        }
      ]
    },
    {
      "cell_type": "markdown",
      "source": [
        "###Task: define a function that return the average of three numbers, *x, y, z*, where *x, y, z* are parameters"
      ],
      "metadata": {
        "id": "tsRyQIt65f2J"
      }
    },
    {
      "cell_type": "code",
      "source": [
        "def average_three(x,y,z):\n",
        "  return((x+y+z)/3)\n",
        "average_three(8,5,9)"
      ],
      "metadata": {
        "id": "_eG8Xzde5ruo",
        "colab": {
          "base_uri": "https://localhost:8080/"
        },
        "outputId": "2a330d42-31c1-4d12-e2d7-ec7a25243568"
      },
      "execution_count": null,
      "outputs": [
        {
          "output_type": "execute_result",
          "data": {
            "text/plain": [
              "7.333333333333333"
            ]
          },
          "metadata": {},
          "execution_count": 7
        }
      ]
    },
    {
      "cell_type": "markdown",
      "source": [
        "###Task: define a function that return the minimal of three numbers, *x, y, z*, where *x, y, z* are parameters"
      ],
      "metadata": {
        "id": "TQZ68OBs5amt"
      }
    },
    {
      "cell_type": "code",
      "source": [
        "def mini_three(x,y,z):\n",
        "  return(min(x,y,z))\n",
        "mini_three(3,7,1)"
      ],
      "metadata": {
        "id": "47f7Q_AIRMUW",
        "colab": {
          "base_uri": "https://localhost:8080/"
        },
        "outputId": "61723896-d31a-4204-b2bf-9f33a829ac50"
      },
      "execution_count": null,
      "outputs": [
        {
          "output_type": "execute_result",
          "data": {
            "text/plain": [
              "1"
            ]
          },
          "metadata": {},
          "execution_count": 12
        }
      ]
    },
    {
      "cell_type": "markdown",
      "source": [
        "## Define functions with return str values."
      ],
      "metadata": {
        "id": "qzuHvz8d6ICV"
      }
    },
    {
      "cell_type": "markdown",
      "source": [
        "###Task: define a function that print sum of integers 1 to *n* (hint: you can use a for loop), where *n* is a parameter"
      ],
      "metadata": {
        "id": "1y6noqXNRMpG"
      }
    },
    {
      "cell_type": "code",
      "source": [
        "def sum_of_intgers(n):\n",
        "  sum=0\n",
        "  for i in range(1,n+1):\n",
        "      sum+= i\n",
        "      print('sum  from 1 to:', n, 'is:',sum)\n",
        "\n",
        "sum_of_intgers(12)"
      ],
      "metadata": {
        "colab": {
          "base_uri": "https://localhost:8080/"
        },
        "id": "zQYzg4LSXnv5",
        "outputId": "9844db17-8f13-44cf-97ae-439bca1fe31a"
      },
      "execution_count": 20,
      "outputs": [
        {
          "output_type": "stream",
          "name": "stdout",
          "text": [
            "sum  from 1 to: 12 is: 1\n",
            "sum  from 1 to: 12 is: 3\n",
            "sum  from 1 to: 12 is: 6\n",
            "sum  from 1 to: 12 is: 10\n",
            "sum  from 1 to: 12 is: 15\n",
            "sum  from 1 to: 12 is: 21\n",
            "sum  from 1 to: 12 is: 28\n",
            "sum  from 1 to: 12 is: 36\n",
            "sum  from 1 to: 12 is: 45\n",
            "sum  from 1 to: 12 is: 55\n",
            "sum  from 1 to: 12 is: 66\n",
            "sum  from 1 to: 12 is: 78\n"
          ]
        }
      ]
    },
    {
      "cell_type": "code",
      "source": [
        "#return sum of integers 1 to n\n",
        "def sum_of_intgers(n):\n",
        "  sum=0\n",
        "  for i in range(1,n+1):\n",
        "      sum+= i\n",
        "  return sum\n",
        "sum_of_intgers(12)"
      ],
      "metadata": {
        "colab": {
          "base_uri": "https://localhost:8080/"
        },
        "id": "V9QDm1wvZ8MM",
        "outputId": "10a94671-957d-4bd2-ce0b-bbeb6dffb5b0"
      },
      "execution_count": 23,
      "outputs": [
        {
          "output_type": "execute_result",
          "data": {
            "text/plain": [
              "78"
            ]
          },
          "metadata": {},
          "execution_count": 23
        }
      ]
    },
    {
      "cell_type": "markdown",
      "metadata": {
        "id": "rXgbUIBRgQoG"
      },
      "source": [
        "###Task: define a function that return \"hello, *name*\" where *name* is a parameter"
      ]
    },
    {
      "cell_type": "code",
      "metadata": {
        "id": "oIKwmW2mfe3d",
        "colab": {
          "base_uri": "https://localhost:8080/",
          "height": 35
        },
        "outputId": "2753f917-52ce-4487-e155-61699b9fb603"
      },
      "source": [
        "def greetings(name):\n",
        "  return 'Hello,' + name\n",
        "greetings('AuthorisPriscilla')\n",
        "\n",
        ""
      ],
      "execution_count": 30,
      "outputs": [
        {
          "output_type": "execute_result",
          "data": {
            "text/plain": [
              "'Hello,AuthorisPriscilla'"
            ],
            "application/vnd.google.colaboratory.intrinsic+json": {
              "type": "string"
            }
          },
          "metadata": {},
          "execution_count": 30
        }
      ]
    },
    {
      "cell_type": "markdown",
      "source": [
        "###Task: define a function that return \"hello world\" *n* times, where *n* is a parameter"
      ],
      "metadata": {
        "id": "h-mrQgK7RKqm"
      }
    },
    {
      "cell_type": "code",
      "source": [
        "def greeting_to_world(n):\n",
        "  return 'Hello,World \\n'* n\n",
        "greeting_to_world(4)"
      ],
      "metadata": {
        "id": "FR7idsVORX5_",
        "colab": {
          "base_uri": "https://localhost:8080/",
          "height": 35
        },
        "outputId": "43148817-ded3-4272-c8bf-253adc19c542"
      },
      "execution_count": 36,
      "outputs": [
        {
          "output_type": "execute_result",
          "data": {
            "text/plain": [
              "'Hello,World \\nHello,World \\nHello,World \\nHello,World \\n'"
            ],
            "application/vnd.google.colaboratory.intrinsic+json": {
              "type": "string"
            }
          },
          "metadata": {},
          "execution_count": 36
        }
      ]
    },
    {
      "cell_type": "code",
      "source": [
        "def greeting_to_world(n):\n",
        "  print('Hello,World \\n'* n )\n",
        "greeting_to_world(4)"
      ],
      "metadata": {
        "colab": {
          "base_uri": "https://localhost:8080/"
        },
        "id": "II5FcHh0dKh-",
        "outputId": "c9e88b80-2699-496f-a5cf-dda99c9af4b3"
      },
      "execution_count": 37,
      "outputs": [
        {
          "output_type": "stream",
          "name": "stdout",
          "text": [
            "Hello,World \n",
            "Hello,World \n",
            "Hello,World \n",
            "Hello,World \n",
            "\n"
          ]
        }
      ]
    },
    {
      "cell_type": "markdown",
      "source": [
        "###Task: define a function that concatenate message 1 and message 2 together and return it"
      ],
      "metadata": {
        "id": "OoTXs3WERYju"
      }
    },
    {
      "cell_type": "code",
      "source": [
        "def conc_msg(message1,message2):\n",
        "  return message1 +message2\n",
        "conc_msg('Brilliant','Idea')"
      ],
      "metadata": {
        "id": "2pS4qJ54RhKf",
        "colab": {
          "base_uri": "https://localhost:8080/",
          "height": 35
        },
        "outputId": "751d30e4-4776-48c6-f453-12f95c7321d4"
      },
      "execution_count": 38,
      "outputs": [
        {
          "output_type": "execute_result",
          "data": {
            "text/plain": [
              "'BrilliantIdea'"
            ],
            "application/vnd.google.colaboratory.intrinsic+json": {
              "type": "string"
            }
          },
          "metadata": {},
          "execution_count": 38
        }
      ]
    },
    {
      "cell_type": "markdown",
      "source": [
        "## Define functions with return boolean values."
      ],
      "metadata": {
        "id": "IczuyqDQ6bQG"
      }
    },
    {
      "cell_type": "markdown",
      "source": [
        "###Task: define a function that return the boolean value for given *n* is even or not, *n* is a parameter"
      ],
      "metadata": {
        "id": "yU8y7mCoRmRH"
      }
    },
    {
      "cell_type": "code",
      "source": [
        "def num_is_even(n):\n",
        "    if n % 2 == 0:\n",
        "      return 'it is even'\n",
        "    else:\n",
        "      return 'it is not even'\n",
        "num_is_even(8)"
      ],
      "metadata": {
        "id": "g67KsRe3R2KG",
        "colab": {
          "base_uri": "https://localhost:8080/",
          "height": 35
        },
        "outputId": "5d1f0700-eafd-4bb6-b33b-e89516706525"
      },
      "execution_count": 58,
      "outputs": [
        {
          "output_type": "execute_result",
          "data": {
            "text/plain": [
              "'it is even'"
            ],
            "application/vnd.google.colaboratory.intrinsic+json": {
              "type": "string"
            }
          },
          "metadata": {},
          "execution_count": 58
        }
      ]
    },
    {
      "cell_type": "markdown",
      "metadata": {
        "id": "QPoCScdkheK3"
      },
      "source": [
        "###Task: define a function that return the boolean value for given *n* is odd or not, *n* is a parameter"
      ]
    },
    {
      "cell_type": "code",
      "metadata": {
        "id": "tsFowDAKhJCB",
        "colab": {
          "base_uri": "https://localhost:8080/",
          "height": 35
        },
        "outputId": "a7314f32-f7c1-4ed8-e4fa-f3ed7a6190e3"
      },
      "source": [
        "def num_is_odd(n):\n",
        "  for i in range(n):\n",
        "    if i %2!=0:\n",
        "      return 'it is odd'\n",
        "    else:\n",
        "        return 'it is not odd'\n",
        "num_is_odd(8)"
      ],
      "execution_count": 59,
      "outputs": [
        {
          "output_type": "execute_result",
          "data": {
            "text/plain": [
              "'it is not odd'"
            ],
            "application/vnd.google.colaboratory.intrinsic+json": {
              "type": "string"
            }
          },
          "metadata": {},
          "execution_count": 59
        }
      ]
    },
    {
      "cell_type": "markdown",
      "source": [
        "###Task: define a function that return the boolean value for given *n* is prime number or not, *n* is a parameter"
      ],
      "metadata": {
        "id": "OhfIcNFH6oV2"
      }
    },
    {
      "cell_type": "code",
      "source": [
        "def num_prime(n):\n",
        "  if n%2==0:\n",
        "    return 'it is Prime number'\n",
        "  else:\n",
        "    return 'it is not a Prime number'\n",
        "\n",
        "num_prime(20)"
      ],
      "metadata": {
        "id": "dUOiwszHhsEN",
        "colab": {
          "base_uri": "https://localhost:8080/",
          "height": 35
        },
        "outputId": "9969de1a-8346-46fb-bc17-92ef499620b9"
      },
      "execution_count": 61,
      "outputs": [
        {
          "output_type": "execute_result",
          "data": {
            "text/plain": [
              "'it is Prime number'"
            ],
            "application/vnd.google.colaboratory.intrinsic+json": {
              "type": "string"
            }
          },
          "metadata": {},
          "execution_count": 61
        }
      ]
    },
    {
      "cell_type": "markdown",
      "source": [
        "###Task: define a function that return the boolean value for given *n* is positive (>0) or not, *n* is a parameter"
      ],
      "metadata": {
        "id": "KgwXzV3x6quL"
      }
    },
    {
      "cell_type": "code",
      "source": [
        "def num_positiv(n):\n",
        "  if n>0:\n",
        "    return 'num is positive'\n",
        "  else:\n",
        "    return 'num is negative'\n",
        "num_positiv(1.9)"
      ],
      "metadata": {
        "id": "-lVtxeAmhv9t",
        "colab": {
          "base_uri": "https://localhost:8080/",
          "height": 35
        },
        "outputId": "693e5b5d-76cb-4e49-9952-73fb9e773474"
      },
      "execution_count": 62,
      "outputs": [
        {
          "output_type": "execute_result",
          "data": {
            "text/plain": [
              "'num is positive'"
            ],
            "application/vnd.google.colaboratory.intrinsic+json": {
              "type": "string"
            }
          },
          "metadata": {},
          "execution_count": 62
        }
      ]
    },
    {
      "cell_type": "markdown",
      "metadata": {
        "id": "TE6Df1WYhu10"
      },
      "source": [
        "###Task: define a function that return the boolean value for whether or not given *n* is divisible by 6, *n* is a parameter"
      ]
    },
    {
      "cell_type": "code",
      "metadata": {
        "id": "MSjQbhNXhJVV",
        "colab": {
          "base_uri": "https://localhost:8080/",
          "height": 35
        },
        "outputId": "9613ff4e-97d2-4162-e2c9-a55e55423953"
      },
      "source": [
        "def num_is_divisible(n):\n",
        "  if n % 6==0:\n",
        "    return 'num is divisible by 6'\n",
        "  else:\n",
        "    return 'num is not divisible by 6'\n",
        "num_is_divisible(24)"
      ],
      "execution_count": 63,
      "outputs": [
        {
          "output_type": "execute_result",
          "data": {
            "text/plain": [
              "'num is divisible by 6'"
            ],
            "application/vnd.google.colaboratory.intrinsic+json": {
              "type": "string"
            }
          },
          "metadata": {},
          "execution_count": 63
        }
      ]
    },
    {
      "cell_type": "markdown",
      "source": [
        "## Define functions return multiple values."
      ],
      "metadata": {
        "id": "AIZ2bTqjfjxf"
      }
    },
    {
      "cell_type": "markdown",
      "source": [
        "###Task: define a function that return the min, max, avg, and total of given 3 numbers *x, y, z*, where *x, y, z* are parameters"
      ],
      "metadata": {
        "id": "MBpHkOhIfmrY"
      }
    },
    {
      "cell_type": "code",
      "source": [
        "def multi_values(x,y,z):\n",
        "  return min(x,y,z), max(x,y,z), 'average',(x+y+z)/3,'total',(x+y+z)\n",
        "\n",
        "multi_values(4,9,6)"
      ],
      "metadata": {
        "id": "Orw6NIIef0Wp",
        "colab": {
          "base_uri": "https://localhost:8080/"
        },
        "outputId": "e4ba31d9-8ce8-4831-b46b-10b9792dca1d"
      },
      "execution_count": 75,
      "outputs": [
        {
          "output_type": "execute_result",
          "data": {
            "text/plain": [
              "(4, 9, 'average', 6.333333333333333, 'total', 19)"
            ]
          },
          "metadata": {},
          "execution_count": 75
        }
      ]
    },
    {
      "cell_type": "code",
      "source": [],
      "metadata": {
        "id": "HiwGtSZxmf_o"
      },
      "execution_count": null,
      "outputs": []
    }
  ]
}