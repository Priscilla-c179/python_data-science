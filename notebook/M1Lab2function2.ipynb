{
  "nbformat": 4,
  "nbformat_minor": 0,
  "metadata": {
    "colab": {
      "provenance": [],
      "toc_visible": true,
      "include_colab_link": true
    },
    "kernelspec": {
      "name": "python3",
      "display_name": "Python 3"
    },
    "language_info": {
      "name": "python"
    }
  },
  "cells": [
    {
      "cell_type": "markdown",
      "metadata": {
        "id": "view-in-github",
        "colab_type": "text"
      },
      "source": [
        "<a href=\"https://colab.research.google.com/github/Priscilla-c179/python_data-science/blob/main/M1Lab2function2.ipynb\" target=\"_parent\"><img src=\"https://colab.research.google.com/assets/colab-badge.svg\" alt=\"Open In Colab\"/></a>"
      ]
    },
    {
      "cell_type": "markdown",
      "metadata": {
        "id": "cnAUJprJdh9_"
      },
      "source": [
        "# Welcome to our Lab Practice!"
      ]
    },
    {
      "cell_type": "markdown",
      "metadata": {
        "id": "vVYcayGedmms"
      },
      "source": [
        "This lab is all about defining simple functions. Are you ready? Let's go!"
      ]
    },
    {
      "cell_type": "markdown",
      "metadata": {
        "id": "JP8eGBVyeSQx"
      },
      "source": [
        "You will find some small tasks in sections below."
      ]
    },
    {
      "cell_type": "markdown",
      "metadata": {
        "id": "D8pWdoN7d6Dy"
      },
      "source": [
        "## Define simple functions (without return value and parameters)"
      ]
    },
    {
      "cell_type": "markdown",
      "metadata": {
        "id": "rXgbUIBRgQoG"
      },
      "source": [
        "###Task: define a function that print \"hello world\""
      ]
    },
    {
      "cell_type": "markdown",
      "source": [
        "Function is a group of statements within a program that performs a specific task. It help in organizing code and making it reusable."
      ],
      "metadata": {
        "id": "A5lfEDAz4lck"
      }
    },
    {
      "cell_type": "code",
      "metadata": {
        "id": "oIKwmW2mfe3d"
      },
      "source": [
        "def greetings():\n",
        "  print(\"Hello World\")"
      ],
      "execution_count": 1,
      "outputs": []
    },
    {
      "cell_type": "markdown",
      "source": [
        "###Task: define a function that print \"hello world\" 3 times"
      ],
      "metadata": {
        "id": "h-mrQgK7RKqm"
      }
    },
    {
      "cell_type": "code",
      "source": [
        "\n",
        "for i in range(3):\n",
        "  greetings()\n"
      ],
      "metadata": {
        "id": "47f7Q_AIRMUW",
        "colab": {
          "base_uri": "https://localhost:8080/"
        },
        "outputId": "35406128-807c-4b73-ec56-03a83cd9679a"
      },
      "execution_count": 3,
      "outputs": [
        {
          "output_type": "stream",
          "name": "stdout",
          "text": [
            "Hello World\n",
            "Hello World\n",
            "Hello World\n"
          ]
        }
      ]
    },
    {
      "cell_type": "markdown",
      "source": [
        "###Task: define a function that print integers 1 to 10 (hint: you can use a for loop)"
      ],
      "metadata": {
        "id": "1y6noqXNRMpG"
      }
    },
    {
      "cell_type": "code",
      "source": [
        "def cunt_upto_10():\n",
        "  for i in range(1,11):\n",
        "    print(i)\n"
      ],
      "metadata": {
        "id": "FR7idsVORX5_"
      },
      "execution_count": 34,
      "outputs": []
    },
    {
      "cell_type": "code",
      "source": [
        "#call the function\n",
        "cunt_upto_10()\n"
      ],
      "metadata": {
        "colab": {
          "base_uri": "https://localhost:8080/"
        },
        "id": "dnLtj22WGzh9",
        "outputId": "f68e7d64-d268-4578-a300-d659adb14737"
      },
      "execution_count": 35,
      "outputs": [
        {
          "output_type": "stream",
          "name": "stdout",
          "text": [
            "1\n",
            "2\n",
            "3\n",
            "4\n",
            "5\n",
            "6\n",
            "7\n",
            "8\n",
            "9\n",
            "10\n"
          ]
        }
      ]
    },
    {
      "cell_type": "markdown",
      "source": [
        "###Task: define a function that print primary integers in 100 (hint: you can use loops)"
      ],
      "metadata": {
        "id": "OoTXs3WERYju"
      }
    },
    {
      "cell_type": "code",
      "source": [
        "#primary integers are prime numbers-numbers greater than 1 that are onlydivisibleby 1 and themselves.\n",
        "\n",
        "# define function\n",
        "def prim_numbers_100():\n",
        "  for num in range(101):\n",
        "    # prime numbers are greator than 1 and 0 so we ignore them\n",
        "    if num > 1:\n",
        "      for i in range(2, num):\n",
        "    # if num is divisible by any i(number)and gives 0 as reminder is not prime so break.\n",
        "        if (num % i) == 0:\n",
        "          break\n",
        "      # else is in for loop and it execute prime numbers because no reminder num is present\n",
        "      else:\n",
        "        print(num)\n",
        "\n",
        "prim_numbers_100()\n",
        "\n"
      ],
      "metadata": {
        "id": "2pS4qJ54RhKf",
        "colab": {
          "base_uri": "https://localhost:8080/"
        },
        "outputId": "6e39c7f9-81ad-452e-b382-dced336801b5"
      },
      "execution_count": 43,
      "outputs": [
        {
          "output_type": "stream",
          "name": "stdout",
          "text": [
            "2\n",
            "3\n",
            "5\n",
            "7\n",
            "11\n",
            "13\n",
            "17\n",
            "19\n",
            "23\n",
            "29\n",
            "31\n",
            "37\n",
            "41\n",
            "43\n",
            "47\n",
            "53\n",
            "59\n",
            "61\n",
            "67\n",
            "71\n",
            "73\n",
            "79\n",
            "83\n",
            "89\n",
            "97\n"
          ]
        }
      ]
    },
    {
      "cell_type": "markdown",
      "source": [
        "###Task: define a function that print even number from 1 to 10."
      ],
      "metadata": {
        "id": "yU8y7mCoRmRH"
      }
    },
    {
      "cell_type": "code",
      "source": [
        "# define function: even numbers divisible by 2\n",
        "def even_numbers_10():\n",
        "  for num in range(1,11):\n",
        "     if num % 2 == 0:\n",
        "      print(num)\n",
        "\n",
        "\n",
        "\n",
        "even_numbers_10()\n"
      ],
      "metadata": {
        "id": "g67KsRe3R2KG",
        "colab": {
          "base_uri": "https://localhost:8080/"
        },
        "outputId": "d269d6af-c93d-4617-eb59-bc89a0d1fc89"
      },
      "execution_count": 31,
      "outputs": [
        {
          "output_type": "stream",
          "name": "stdout",
          "text": [
            "2\n",
            "4\n",
            "6\n",
            "8\n",
            "10\n"
          ]
        }
      ]
    },
    {
      "cell_type": "markdown",
      "metadata": {
        "id": "QPoCScdkheK3"
      },
      "source": [
        "###Task: define a function that print odd number from 1 to 10"
      ]
    },
    {
      "cell_type": "code",
      "metadata": {
        "id": "tsFowDAKhJCB",
        "colab": {
          "base_uri": "https://localhost:8080/"
        },
        "outputId": "78ee122d-890f-4e3f-e0b1-5024ddb3df39"
      },
      "source": [
        "# odd numbers not divisible by 2\n",
        "\n",
        "def odd_numbers_10():\n",
        "  for num in range(1,11):\n",
        "       if num % 2 != 0:\n",
        "         print(num)\n",
        "\n",
        "odd_numbers_10()\n"
      ],
      "execution_count": 35,
      "outputs": [
        {
          "output_type": "stream",
          "name": "stdout",
          "text": [
            "1\n",
            "3\n",
            "5\n",
            "7\n",
            "9\n"
          ]
        }
      ]
    },
    {
      "cell_type": "markdown",
      "metadata": {
        "id": "TE6Df1WYhu10"
      },
      "source": [
        "###Task: define a function that print \"Welcome to Course 2\""
      ]
    },
    {
      "cell_type": "code",
      "metadata": {
        "id": "MSjQbhNXhJVV",
        "colab": {
          "base_uri": "https://localhost:8080/"
        },
        "outputId": "26b907f8-2715-4336-a5a3-6b65f0a21c9b"
      },
      "source": [
        "def welcome_course2():\n",
        "  print(\"Welcome to Course 2\")\n",
        "\n",
        "welcome_course2()"
      ],
      "execution_count": 36,
      "outputs": [
        {
          "output_type": "stream",
          "name": "stdout",
          "text": [
            "Welcome to Course 2\n"
          ]
        }
      ]
    },
    {
      "cell_type": "markdown",
      "metadata": {
        "id": "4iCITSR6h7Yv"
      },
      "source": [
        "###Task: define a function that print \"Welcome to Courose 2\" 10 times."
      ]
    },
    {
      "cell_type": "code",
      "metadata": {
        "id": "EKsuK9O6jW7D",
        "colab": {
          "base_uri": "https://localhost:8080/"
        },
        "outputId": "d40c0721-48de-4349-d702-44a22e8fd76e"
      },
      "source": [
        "def welcome_course2_ten():\n",
        "  for i in range(10):\n",
        "    print(\"Welcome to Course 2\")\n",
        "\n",
        "welcome_course2_ten()"
      ],
      "execution_count": 37,
      "outputs": [
        {
          "output_type": "stream",
          "name": "stdout",
          "text": [
            "Welcome to Course 2\n",
            "Welcome to Course 2\n",
            "Welcome to Course 2\n",
            "Welcome to Course 2\n",
            "Welcome to Course 2\n",
            "Welcome to Course 2\n",
            "Welcome to Course 2\n",
            "Welcome to Course 2\n",
            "Welcome to Course 2\n",
            "Welcome to Course 2\n"
          ]
        }
      ]
    }
  ]
}
