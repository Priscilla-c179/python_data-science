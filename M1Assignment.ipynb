{
  "nbformat": 4,
  "nbformat_minor": 0,
  "metadata": {
    "colab": {
      "provenance": [],
      "include_colab_link": true
    },
    "kernelspec": {
      "name": "python3",
      "display_name": "Python 3"
    },
    "language_info": {
      "name": "python"
    }
  },
  "cells": [
    {
      "cell_type": "markdown",
      "metadata": {
        "id": "view-in-github",
        "colab_type": "text"
      },
      "source": [
        "<a href=\"https://colab.research.google.com/github/Priscilla-c179/python_data-science/blob/main/M1Assignment.ipynb\" target=\"_parent\"><img src=\"https://colab.research.google.com/assets/colab-badge.svg\" alt=\"Open In Colab\"/></a>"
      ]
    },
    {
      "cell_type": "markdown",
      "metadata": {
        "id": "cnAUJprJdh9_"
      },
      "source": [
        "# Welcome to our first assignment!"
      ]
    },
    {
      "cell_type": "markdown",
      "metadata": {
        "id": "vVYcayGedmms"
      },
      "source": [
        "This assignment is about testing your understanding of **print()** and **input()**. We are going to create some interactive programs using these two simple tools. Are you ready? Let's get started!"
      ]
    },
    {
      "cell_type": "markdown",
      "metadata": {
        "id": "JP8eGBVyeSQx"
      },
      "source": [
        "You will find some small tasks in sections below. You should use input() to get the user to enter the information and use print() to print the information on the screen."
      ]
    },
    {
      "cell_type": "markdown",
      "metadata": {
        "id": "TNbXeCDFeAcJ"
      },
      "source": [
        "## Prepare a document"
      ]
    },
    {
      "cell_type": "markdown",
      "metadata": {
        "id": "EZ42d1Sue0Zp"
      },
      "source": [
        "###Instruction: You are going to print a document on the screen. The document is a template, which has {} as place holder and should get inputs from the user. Let's get it done step by step.\n",
        "\n",
        "You should use multiple input() to get the information from the user.\n",
        "\n",
        "The template is as below:\n",
        "\n",
        "Dear **{receiver's name}**:\n",
        "\n",
        "This is **{your first name}**. I'm writing to let you know that the weather in **{your location}** is fantastic!\n",
        "\n",
        "I'm taking Python for Data Science course. I have coded **{#}** programs and the expereince was fun! Join me if you are interested!\n",
        "\n",
        "Sincerely,\n",
        "\n",
        "**{your full name}**\n",
        "\n",
        "**{date}**"
      ]
    },
    {
      "cell_type": "markdown",
      "metadata": {
        "id": "DyQ1h_lc-GPr"
      },
      "source": [
        "Step1: Get receiver's name, and print line 1:\n",
        "\n",
        "Dear **{receiver's name}**:"
      ]
    },
    {
      "cell_type": "code",
      "metadata": {
        "id": "TQXvwhRN-E5y",
        "colab": {
          "base_uri": "https://localhost:8080/"
        },
        "outputId": "e248ca0a-c4a2-4e1b-8ff1-51a9c5923325"
      },
      "source": [
        "# Enter your code here\n",
        "print(\"Dear\",input(\"receive's name\"))"
      ],
      "execution_count": 2,
      "outputs": [
        {
          "output_type": "stream",
          "name": "stdout",
          "text": [
            "receive's nameIRENE\n",
            "Dear IRENE\n"
          ]
        }
      ]
    },
    {
      "cell_type": "markdown",
      "metadata": {
        "id": "qTOkvVoP-iIC"
      },
      "source": [
        "Step2: Get your first name, your location and print line 2:\n",
        "\n",
        "This is **{your first name}**. I'm writing to let you know that the weather in **{your location}** is fantastic!"
      ]
    },
    {
      "cell_type": "code",
      "metadata": {
        "id": "28aI1cPg-bhz",
        "colab": {
          "base_uri": "https://localhost:8080/"
        },
        "outputId": "8bdbcd93-c1fb-43ec-98e8-a695b0ac0693"
      },
      "source": [
        "# Enter your code here\n",
        "print(\"This is Pauline, am writing to let you know the whether in korea \\n is fantastic!\")"
      ],
      "execution_count": 6,
      "outputs": [
        {
          "output_type": "stream",
          "name": "stdout",
          "text": [
            "This is Pauline, am writing to let you know the whether in korea \n",
            " is fantastic!\n"
          ]
        }
      ]
    },
    {
      "cell_type": "markdown",
      "metadata": {
        "id": "EJvVv9Ru-uQb"
      },
      "source": [
        "Step3: Get the number of programs you have practiced, and print line 3:\n",
        "\n",
        "I'm taking Python for Data Science course. I have coded **{# of programs}** programs and the expereince was fun! Join me if you are interested!"
      ]
    },
    {
      "cell_type": "code",
      "metadata": {
        "id": "A_KiRedV-b-R",
        "colab": {
          "base_uri": "https://localhost:8080/"
        },
        "outputId": "da295eac-738f-4fa5-a559-59bb989b6832"
      },
      "source": [
        "# Enter your code here\n",
        "print(\"I'm taking Python for data science course.i have coded 4 of the programs and the experience was fun!\\n join me if you are interested!\")"
      ],
      "execution_count": 7,
      "outputs": [
        {
          "output_type": "stream",
          "name": "stdout",
          "text": [
            "I'm taking Python for data science course.i have coded 4 of the programs and the experience was fun!\n",
            " join me if you are interested!\n"
          ]
        }
      ]
    },
    {
      "cell_type": "markdown",
      "metadata": {
        "id": "Vcorzmiw--mY"
      },
      "source": [
        "Step 4: print line 4:\n",
        "\n",
        "Sincerely,"
      ]
    },
    {
      "cell_type": "code",
      "metadata": {
        "id": "D5ecQStI-cLa",
        "colab": {
          "base_uri": "https://localhost:8080/"
        },
        "outputId": "21b42fd6-a3cb-49db-f097-57b803a48a75"
      },
      "source": [
        "# Enter your code here\n",
        "print(\"Sincerely\")"
      ],
      "execution_count": 8,
      "outputs": [
        {
          "output_type": "stream",
          "name": "stdout",
          "text": [
            "Sincerely\n"
          ]
        }
      ]
    },
    {
      "cell_type": "markdown",
      "metadata": {
        "id": "G30-dTVm_K8x"
      },
      "source": [
        "Step 5: Get your full name and print line 5:\n",
        "\n",
        "**{your full name}**"
      ]
    },
    {
      "cell_type": "code",
      "metadata": {
        "id": "944wmoQl_S_K",
        "colab": {
          "base_uri": "https://localhost:8080/"
        },
        "outputId": "e3b73c1c-157e-4d31-8086-5946a1f7538b"
      },
      "source": [
        "# Enter your code here\n",
        "print(\"Lilian Makobu\")"
      ],
      "execution_count": 9,
      "outputs": [
        {
          "output_type": "stream",
          "name": "stdout",
          "text": [
            "Lilian Makobu\n"
          ]
        }
      ]
    },
    {
      "cell_type": "markdown",
      "metadata": {
        "id": "3i-SsAvT_BT6"
      },
      "source": [
        "Step 6: Get today's date and print line 6:\n",
        "\n",
        "**{date}**"
      ]
    },
    {
      "cell_type": "code",
      "metadata": {
        "id": "OFGPKomw-cXR",
        "colab": {
          "base_uri": "https://localhost:8080/"
        },
        "outputId": "e10431bc-661a-4ff7-a1f4-dd7c5d43528d"
      },
      "source": [
        "# Enter your code here\n",
        "print(\"2025/04/14\")"
      ],
      "execution_count": 11,
      "outputs": [
        {
          "output_type": "stream",
          "name": "stdout",
          "text": [
            "2025/04/14\n"
          ]
        }
      ]
    },
    {
      "cell_type": "markdown",
      "metadata": {
        "id": "7Ysdu7UJ_qf8"
      },
      "source": [
        "**Congratulations! You finished Assignment 1 and completed Module 1!**"
      ]
    }
  ]
}