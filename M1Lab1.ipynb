{
  "nbformat": 4,
  "nbformat_minor": 0,
  "metadata": {
    "colab": {
      "provenance": [],
      "toc_visible": true,
      "include_colab_link": true
    },
    "kernelspec": {
      "name": "python3",
      "display_name": "Python 3"
    },
    "language_info": {
      "name": "python"
    }
  },
  "cells": [
    {
      "cell_type": "markdown",
      "metadata": {
        "id": "view-in-github",
        "colab_type": "text"
      },
      "source": [
        "<a href=\"https://colab.research.google.com/github/Priscilla-c179/Priscilla-c179/blob/main/M1Lab1.ipynb\" target=\"_parent\"><img src=\"https://colab.research.google.com/assets/colab-badge.svg\" alt=\"Open In Colab\"/></a>"
      ]
    },
    {
      "cell_type": "markdown",
      "metadata": {
        "id": "cnAUJprJdh9_"
      },
      "source": [
        "# Welcome to our first Lab Practice!"
      ]
    },
    {
      "cell_type": "markdown",
      "metadata": {
        "id": "vVYcayGedmms"
      },
      "source": [
        "This lab is all about print() and we are going to print various messages on the screen. Are you ready? Let's get started!"
      ]
    },
    {
      "cell_type": "markdown",
      "metadata": {
        "id": "JP8eGBVyeSQx"
      },
      "source": [
        "You will find some small tasks in sections below. You should use print() and a proper choice of quotation marks to print the **message** on the screen."
      ]
    },
    {
      "cell_type": "markdown",
      "metadata": {
        "id": "TNbXeCDFeAcJ"
      },
      "source": [
        "## Single quotations ' '"
      ]
    },
    {
      "cell_type": "markdown",
      "metadata": {
        "id": "EZ42d1Sue0Zp"
      },
      "source": [
        "###Task: print message **Hello, world!**"
      ]
    },
    {
      "cell_type": "code",
      "metadata": {
        "id": "yDzNIHsSeu85",
        "colab": {
          "base_uri": "https://localhost:8080/"
        },
        "outputId": "4e2455f6-c202-4306-b759-f966f5b427b2"
      },
      "source": [
        "# type your code here\n",
        "print('Hello World!')"
      ],
      "execution_count": 1,
      "outputs": [
        {
          "output_type": "stream",
          "name": "stdout",
          "text": [
            "Hello World!\n"
          ]
        }
      ]
    },
    {
      "cell_type": "markdown",
      "metadata": {
        "id": "-__o8ovbfSEH"
      },
      "source": [
        "###Task: print message **\"Hello, world!\"**\n",
        "\n",
        "Note: the **\" \"** is part of the message and it should be included in the message printed out."
      ]
    },
    {
      "cell_type": "code",
      "metadata": {
        "id": "hOpxhSKog18Y",
        "colab": {
          "base_uri": "https://localhost:8080/"
        },
        "outputId": "cff3f155-3950-44cc-d8ba-695b43f26c37"
      },
      "source": [
        "# your code will be here\n",
        "print(\"Hello World!\")"
      ],
      "execution_count": 2,
      "outputs": [
        {
          "output_type": "stream",
          "name": "stdout",
          "text": [
            "Hello World!\n"
          ]
        }
      ]
    },
    {
      "cell_type": "markdown",
      "metadata": {
        "id": "NpCNxK68gpME"
      },
      "source": [
        "###Task: print message **\"How are you?\"**\n",
        "\n",
        "Note: the **\" \"** is part of the message and it should be included in the message printed out."
      ]
    },
    {
      "cell_type": "code",
      "metadata": {
        "id": "txg-7uKfgKeW",
        "colab": {
          "base_uri": "https://localhost:8080/"
        },
        "outputId": "615fe9a7-0422-42d7-8515-0f15b94bcc40"
      },
      "source": [
        "# your code will be here\n",
        "print(\"How are you?\")"
      ],
      "execution_count": 3,
      "outputs": [
        {
          "output_type": "stream",
          "name": "stdout",
          "text": [
            "How are you?\n"
          ]
        }
      ]
    },
    {
      "cell_type": "markdown",
      "metadata": {
        "id": "D8pWdoN7d6Dy"
      },
      "source": [
        "## Double quotations \" \""
      ]
    },
    {
      "cell_type": "markdown",
      "metadata": {
        "id": "rXgbUIBRgQoG"
      },
      "source": [
        "###Task: print message **Hello, world!** (using \" \")"
      ]
    },
    {
      "cell_type": "code",
      "metadata": {
        "id": "oIKwmW2mfe3d",
        "colab": {
          "base_uri": "https://localhost:8080/"
        },
        "outputId": "ea1ec13f-b201-4ba5-9370-b29f6a19d552"
      },
      "source": [
        "# your code will be here\n",
        "print(\"Hello,World!\")"
      ],
      "execution_count": 4,
      "outputs": [
        {
          "output_type": "stream",
          "name": "stdout",
          "text": [
            "Hello,World!\n"
          ]
        }
      ]
    },
    {
      "cell_type": "markdown",
      "metadata": {
        "id": "QPoCScdkheK3"
      },
      "source": [
        "###Task: print message **I'm fine.**"
      ]
    },
    {
      "cell_type": "code",
      "metadata": {
        "id": "tsFowDAKhJCB",
        "colab": {
          "base_uri": "https://localhost:8080/"
        },
        "outputId": "fc8e7115-60c7-473b-f02a-0f13ce2bf3c4"
      },
      "source": [
        "# your code will be here\n",
        "\n",
        "print(\"I'm fine\")"
      ],
      "execution_count": 5,
      "outputs": [
        {
          "output_type": "stream",
          "name": "stdout",
          "text": [
            "I'm fine\n"
          ]
        }
      ]
    },
    {
      "cell_type": "markdown",
      "metadata": {
        "id": "TE6Df1WYhu10"
      },
      "source": [
        "###Task: print message **It's a great day!**"
      ]
    },
    {
      "cell_type": "code",
      "metadata": {
        "id": "MSjQbhNXhJVV",
        "colab": {
          "base_uri": "https://localhost:8080/"
        },
        "outputId": "6baccbcb-4800-4e79-81ec-7ffbb8b652be"
      },
      "source": [
        "# your code will be here\n",
        "print(\"It,s a great day\")"
      ],
      "execution_count": 6,
      "outputs": [
        {
          "output_type": "stream",
          "name": "stdout",
          "text": [
            "It,s a great day\n"
          ]
        }
      ]
    },
    {
      "cell_type": "markdown",
      "metadata": {
        "id": "0dZCPuYjeDqi"
      },
      "source": [
        "## Triple quotations ''' '''"
      ]
    },
    {
      "cell_type": "markdown",
      "metadata": {
        "id": "f-zusksziv_N"
      },
      "source": [
        "###Task: print the poem below\n",
        "\n",
        "**This**\n",
        "\n",
        "**is**\n",
        "\n",
        "**a**\n",
        "\n",
        "**poem**"
      ]
    },
    {
      "cell_type": "code",
      "metadata": {
        "id": "rVF4T_pwhKMM",
        "colab": {
          "base_uri": "https://localhost:8080/"
        },
        "outputId": "f1cc41c3-9d26-4d14-f04d-076cb69574fd"
      },
      "source": [
        "# your code will be here\n",
        "print('''This\n",
        "        is\n",
        "        a\n",
        "       poem ''')"
      ],
      "execution_count": 8,
      "outputs": [
        {
          "output_type": "stream",
          "name": "stdout",
          "text": [
            "This \n",
            "        is \n",
            "        a\n",
            "       poem \n"
          ]
        }
      ]
    },
    {
      "cell_type": "markdown",
      "metadata": {
        "id": "yls-7KE6kA7o"
      },
      "source": [
        "###Task: print the paragraph below\n",
        "\n",
        "**This is a multi-line**\n",
        "\n",
        "**documentary. It consists**\n",
        "\n",
        "**several sentences and**\n",
        "\n",
        "**might be pages long.**"
      ]
    },
    {
      "cell_type": "code",
      "metadata": {
        "id": "ZZ1XEd29kAIR",
        "colab": {
          "base_uri": "https://localhost:8080/"
        },
        "outputId": "eb2abc06-4a3a-4e58-ed3d-042e89df8549"
      },
      "source": [
        "# your code will be here\n",
        "print(\" This is a multi-line \\n documentary.It consists\\n several sentences and \\n might be pages long.\")"
      ],
      "execution_count": 10,
      "outputs": [
        {
          "output_type": "stream",
          "name": "stdout",
          "text": [
            " This is a multi-line \n",
            " documentary.It consists\n",
            " several sentences and \n",
            " might be pages long.\n"
          ]
        }
      ]
    },
    {
      "cell_type": "markdown",
      "metadata": {
        "id": "DsOakqGCeK7V"
      },
      "source": [
        "## Combinations of quotations"
      ]
    },
    {
      "cell_type": "markdown",
      "metadata": {
        "id": "4iCITSR6h7Yv"
      },
      "source": [
        "###Task: print the dialog below\n",
        "\n",
        "**\"How are you?\"**\n",
        "\n",
        "**\"I'm fine.\"**\n",
        "\n",
        "**\"It's a great day!\"**"
      ]
    },
    {
      "cell_type": "code",
      "metadata": {
        "id": "EKsuK9O6jW7D",
        "colab": {
          "base_uri": "https://localhost:8080/"
        },
        "outputId": "45f1b4e9-058d-4beb-c673-4a183d7af65b"
      },
      "source": [
        "# your code will be here\n",
        "print(\"How are you? \\n I'm fine \\n It's a great day\" )"
      ],
      "execution_count": 13,
      "outputs": [
        {
          "output_type": "stream",
          "name": "stdout",
          "text": [
            "How are you? \n",
            " I'm fine \n",
            " It's a great day\n"
          ]
        }
      ]
    },
    {
      "cell_type": "code",
      "source": [],
      "metadata": {
        "id": "Ja0T203JQ4NU"
      },
      "execution_count": null,
      "outputs": []
    }
  ]
}