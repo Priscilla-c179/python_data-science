{
  "nbformat": 4,
  "nbformat_minor": 0,
  "metadata": {
    "colab": {
      "provenance": [],
      "include_colab_link": true
    },
    "kernelspec": {
      "name": "python3",
      "display_name": "Python 3"
    },
    "language_info": {
      "name": "python"
    }
  },
  "cells": [
    {
      "cell_type": "markdown",
      "metadata": {
        "id": "view-in-github",
        "colab_type": "text"
      },
      "source": [
        "<a href=\"https://colab.research.google.com/github/Priscilla-c179/python_data-science/blob/main/M4Assignment.ipynb\" target=\"_parent\"><img src=\"https://colab.research.google.com/assets/colab-badge.svg\" alt=\"Open In Colab\"/></a>"
      ]
    },
    {
      "cell_type": "markdown",
      "metadata": {
        "id": "cnAUJprJdh9_"
      },
      "source": [
        "# Welcome to our last assignment!"
      ]
    },
    {
      "cell_type": "markdown",
      "metadata": {
        "id": "vVYcayGedmms"
      },
      "source": [
        "This assignment is about testing your understanding of flow control: repetition.\n",
        "\n",
        "We are going to create some simple programs using these tools. Are you ready? Let's get started!"
      ]
    },
    {
      "cell_type": "markdown",
      "metadata": {
        "id": "JP8eGBVyeSQx"
      },
      "source": [
        "You will find some small tasks in sections below. You should use input() to get the user to enter the information and use print() to print the information on the screen. At this moment, we can assume users will follow instructions carefully - they will enter the valid inputs as required."
      ]
    },
    {
      "cell_type": "markdown",
      "metadata": {
        "id": "TNbXeCDFeAcJ"
      },
      "source": [
        "## Prime Numbers\n",
        "> Let's be kind to welcome 1 as a prime number for this exercise.\n",
        "\n",
        "### Instruction:\n",
        "\n",
        "Step 1: Ask the user to enter an integer\n",
        "\n",
        "Step 2: find and print all prime numbers up to the integer."
      ]
    },
    {
      "cell_type": "code",
      "metadata": {
        "id": "x6IbZ6rFw76O",
        "colab": {
          "base_uri": "https://localhost:8080/"
        },
        "outputId": "9452b704-9924-4255-a310-00cd8ddf69ba"
      },
      "source": [
        "n=int(input('Enter  an integer'))\n",
        "for num in range(2,n +1):\n",
        "  num_prime=True\n",
        "# check the divisibility upto sqrt of num\n",
        "  for i in range(2,int(num**0.5)+1):\n",
        "    if num % i == 0:\n",
        "       num_prime=False\n",
        "  if num_prime:\n",
        "      print(f\"Prime numbers are {num}:\")"
      ],
      "execution_count": null,
      "outputs": [
        {
          "output_type": "stream",
          "name": "stdout",
          "text": [
            "Enter  an integer70\n",
            "Prime numbers are 2:\n",
            "Prime numbers are 3:\n",
            "Prime numbers are 5:\n",
            "Prime numbers are 7:\n",
            "Prime numbers are 11:\n",
            "Prime numbers are 13:\n",
            "Prime numbers are 17:\n",
            "Prime numbers are 19:\n",
            "Prime numbers are 23:\n",
            "Prime numbers are 29:\n",
            "Prime numbers are 31:\n",
            "Prime numbers are 37:\n",
            "Prime numbers are 41:\n",
            "Prime numbers are 43:\n",
            "Prime numbers are 47:\n",
            "Prime numbers are 53:\n",
            "Prime numbers are 59:\n",
            "Prime numbers are 61:\n",
            "Prime numbers are 67:\n"
          ]
        }
      ]
    },
    {
      "cell_type": "markdown",
      "metadata": {
        "id": "cZmW-HnwyHcI"
      },
      "source": [
        "## A Simple Grade Book\n",
        "\n",
        "###Instruction: You are going to program a simple grade book.\n",
        "\n",
        "step1: Ask the user to enter the number of students in a class\n",
        "\n",
        "step2: Ask the user to enter the grade (in a 0-100 scale) of each student  \n",
        "\n",
        "step3: Calculate and print the average, min, and max grade of the class."
      ]
    },
    {
      "cell_type": "code",
      "metadata": {
        "id": "wk6FHvAvyr_G",
        "colab": {
          "base_uri": "https://localhost:8080/"
        },
        "outputId": "50a1fc3a-7e3a-43e9-d84c-17d083c7d5f6"
      },
      "source": [
        "num_student=int(input('Enter number of students in class:'))\n",
        "# record the grades.\n",
        "grades=[]\n",
        "for i in range(num_student):\n",
        "  stu_grade=float(input('Enter student grades{i+1}(0-100) of each student:'))\n",
        "  grades.append(stu_grade)\n",
        "  #calculate average,min and max.\n",
        "Average=sum(grades)/num_student\n",
        "minimum=min(grades)\n",
        "maximum=max(grades)\n",
        "\n",
        "print(f\"student Average grade {Average}:\")\n",
        "print(f\"student min grade {minimum}:\")\n",
        "print(f\"student max grade {maximum}:\")"
      ],
      "execution_count": null,
      "outputs": [
        {
          "output_type": "stream",
          "name": "stdout",
          "text": [
            "Enter number of students in class:9\n",
            "Enter student grades{i+1}(0-100) of each student:67\n",
            "Enter student grades{i+1}(0-100) of each student:78\n",
            "Enter student grades{i+1}(0-100) of each student:98\n",
            "Enter student grades{i+1}(0-100) of each student:54\n",
            "Enter student grades{i+1}(0-100) of each student:86\n",
            "Enter student grades{i+1}(0-100) of each student:63\n",
            "Enter student grades{i+1}(0-100) of each student:78\n",
            "Enter student grades{i+1}(0-100) of each student:53\n",
            "Enter student grades{i+1}(0-100) of each student:82\n",
            "student Average grade 73.22222222222223:\n",
            "student min grade 53.0:\n",
            "student max grade 98.0:\n"
          ]
        }
      ]
    },
    {
      "cell_type": "markdown",
      "metadata": {
        "id": "UQBB918Z2e9F"
      },
      "source": [
        "## Fahrenheit to Celcius Converter\n",
        "\n",
        "###Instruction: You are going to program a simple converter which converts a Fahrenheit degree to Celcius degree..\n",
        "\n",
        "step1: Ask the user to enter the number in Fahrenheit, (enter stop to quit the program)\n",
        "\n",
        "step2: Calculate the celcius based on the formular c = (f - 32) * 5 / 9\n",
        "\n",
        "step3: print the celcius"
      ]
    },
    {
      "cell_type": "code",
      "metadata": {
        "id": "KCYqU3Sp2cpT",
        "colab": {
          "base_uri": "https://localhost:8080/"
        },
        "outputId": "715f3e17-ef47-42de-c8b4-c0de49649d83"
      },
      "source": [
        "while True:\n",
        "    user_temp=input('Enter temp in fahrenheit (or type stop to quit):')\n",
        "    if user_temp =='stop':\n",
        "       print('Program halted.')\n",
        "       break\n",
        "    fahrenheit = float(user_temp)\n",
        "    celsius = (fahrenheit - 32) * 5 / 9\n",
        "    print(f\"{fahrenheit}°F is equal to {celsius:.2f}°C\\n\")\n"
      ],
      "execution_count": null,
      "outputs": [
        {
          "output_type": "stream",
          "name": "stdout",
          "text": [
            "Enter temp in fahrenheit (or type stop to quit):45\n",
            "45.0°F is equal to 7.22°C\n",
            "\n",
            "Enter temp in fahrenheit (or type stop to quit):78\n",
            "78.0°F is equal to 25.56°C\n",
            "\n",
            "Enter temp in fahrenheit (or type stop to quit):124\n",
            "124.0°F is equal to 51.11°C\n",
            "\n",
            "Enter temp in fahrenheit (or type stop to quit):98.4\n",
            "98.4°F is equal to 36.89°C\n",
            "\n",
            "Enter temp in fahrenheit (or type stop to quit):stop\n",
            "Program halted.\n"
          ]
        }
      ]
    },
    {
      "cell_type": "markdown",
      "metadata": {
        "id": "AhO_LPgG3S1R"
      },
      "source": [
        "## How many E and e in a sentence?\n",
        "\n",
        "###Instruction: You are going to program a simple counter which finds how many 'E' and 'e' in a sentence entered by the user.\n",
        "\n",
        "step1: Ask the user to enter a sentence\n",
        "\n",
        "step2: Count the number of 'E', and the number of 'e'\n",
        "> hint: You can use a for loop to iterate all the characters in a string, such as `for c in sentence`, then compare `c` with `e` and `E`.\n",
        "\n",
        "step3: print the result"
      ]
    },
    {
      "cell_type": "code",
      "metadata": {
        "id": "2bODNGPSx1-m",
        "colab": {
          "base_uri": "https://localhost:8080/"
        },
        "outputId": "407b43d4-a082-4811-828d-65f62038312d"
      },
      "source": [
        "sent=input(\"Enter a sentence\")\n",
        "count_e=0\n",
        "count_E=0\n",
        "for i in sent:\n",
        "  if i =='e':\n",
        "    count_e +=1\n",
        "  elif i =='E':\n",
        "    count_E +=1\n",
        "print(f\"Number of 'e':{count_e}\")\n",
        "print(f\"Number of 'E':{count_E}\")"
      ],
      "execution_count": 1,
      "outputs": [
        {
          "output_type": "stream",
          "name": "stdout",
          "text": [
            "Enter a sentencewhere are the big Elbow Elephants\n",
            "Number of 'e':5\n",
            "Number of 'E':2\n"
          ]
        }
      ]
    },
    {
      "cell_type": "markdown",
      "metadata": {
        "id": "fZfiqg5lxFKF"
      },
      "source": [
        "## Binary Converter (Optional)\n",
        "\n",
        "###Instruction: You are going to program a decimal to binary converter.\n",
        "> Hint: For example, convert decimal 11 to binary number, we follows: 11 % 2 = **1** (you need to record it), 11 // 2 = 5; 5 % 2 = **1** (you need to record it), 5 // 2 = 2; 2 % 2 = **0**, 2 // 2 = **1**. Now you will concatenate them reversly, from the last 1, then the 0, then 1, then 1. You get 1011 as the binary representation of decimal 11.\n",
        "\n",
        "step1: Ask the user to enter a positive decimal integer.\n",
        "\n",
        "step2: Calculate the binary representation of the integer by keep dividing until the reminder is less than 2, keep record of all the reminders.\n",
        "\n",
        "step3: Print reminders as the binary representation."
      ]
    },
    {
      "cell_type": "code",
      "metadata": {
        "id": "6ZAwOiuO5G0X",
        "colab": {
          "base_uri": "https://localhost:8080/"
        },
        "outputId": "84afbbdb-ec68-4812-9357-9e49221dbb63"
      },
      "source": [
        "n = int(input('Enter a positive integer: '))\n",
        "bin = ''\n",
        "while n > 0:\n",
        "  reminder = n % 2\n",
        "  bin = str(reminder) + bin\n",
        "  n = n // 2\n",
        "print(bin)"
      ],
      "execution_count": 2,
      "outputs": [
        {
          "output_type": "stream",
          "name": "stdout",
          "text": [
            "Enter a positive integer: 23\n",
            "10111\n"
          ]
        }
      ]
    },
    {
      "cell_type": "markdown",
      "metadata": {
        "id": "7Ysdu7UJ_qf8"
      },
      "source": [
        "**Congratulations! You finished this Assignment and completed Module 4!**"
      ]
    },
    {
      "cell_type": "code",
      "source": [],
      "metadata": {
        "id": "pcSC7KXIQkeh"
      },
      "execution_count": null,
      "outputs": []
    }
  ]
}